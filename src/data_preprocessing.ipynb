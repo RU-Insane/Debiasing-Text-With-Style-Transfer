{
 "cells": [
  {
   "cell_type": "code",
   "execution_count": 1,
   "metadata": {
    "vscode": {
     "languageId": "shellscript"
    }
   },
   "outputs": [],
   "source": [
    "import pandas as pd\n",
    "import numpy as np\n",
    "import matplotlib.pyplot as plt\n",
    "import seaborn as sns\n",
    "import os\n",
    "import re\n",
    "import nltk\n",
    "from nltk.corpus import stopwords\n"
   ]
  },
  {
   "cell_type": "code",
   "execution_count": 2,
   "metadata": {
    "vscode": {
     "languageId": "shellscript"
    }
   },
   "outputs": [],
   "source": [
    "data_full = '../data/biased.full'\n",
    "data_train = '../data/biased.word.train'\n",
    "data_test = '../data/biased.word.test'\n",
    "data_dev = '../data/biased.word.dev'"
   ]
  },
  {
   "cell_type": "code",
   "execution_count": 3,
   "metadata": {
    "vscode": {
     "languageId": "shellscript"
    }
   },
   "outputs": [],
   "source": [
    "# full = pd.read_csv(data_full, sep='\\t', header=None)\n",
    "train = pd.read_csv(data_train, sep='\\t', names=[\"id\", \"src_tok\", \"tgt_tok\", \"src_raw\", \"tgt_raw\", \"src_POS_tags\", \"tgt_parse_tags\"])\n",
    "test = pd.read_csv(data_test, sep = '\\t', names=[\"id\", \"src_tok\", \"tgt_tok\", \"src_raw\", \"tgt_raw\", \"src_POS_tags\", \"tgt_parse_tags\"])\n",
    "dev = pd.read_csv(data_dev, sep='\\t', names=[\"id\", \"src_tok\", \"tgt_tok\", \"src_raw\", \"tgt_raw\", \"src_POS_tags\", \"tgt_parse_tags\"])"
   ]
  },
  {
   "cell_type": "code",
   "execution_count": 4,
   "metadata": {
    "vscode": {
     "languageId": "shellscript"
    }
   },
   "outputs": [
    {
     "data": {
      "text/html": [
       "<div>\n",
       "<style scoped>\n",
       "    .dataframe tbody tr th:only-of-type {\n",
       "        vertical-align: middle;\n",
       "    }\n",
       "\n",
       "    .dataframe tbody tr th {\n",
       "        vertical-align: top;\n",
       "    }\n",
       "\n",
       "    .dataframe thead th {\n",
       "        text-align: right;\n",
       "    }\n",
       "</style>\n",
       "<table border=\"1\" class=\"dataframe\">\n",
       "  <thead>\n",
       "    <tr style=\"text-align: right;\">\n",
       "      <th></th>\n",
       "      <th>id</th>\n",
       "      <th>src_tok</th>\n",
       "      <th>tgt_tok</th>\n",
       "      <th>src_raw</th>\n",
       "      <th>tgt_raw</th>\n",
       "      <th>src_POS_tags</th>\n",
       "      <th>tgt_parse_tags</th>\n",
       "    </tr>\n",
       "  </thead>\n",
       "  <tbody>\n",
       "    <tr>\n",
       "      <th>0</th>\n",
       "      <td>165188319</td>\n",
       "      <td>ch ##lor ##of ##or ##m \" the molecular life ##...</td>\n",
       "      <td>ch ##lor ##of ##or ##m \" the molecular life ##...</td>\n",
       "      <td>chloroform \"the molecular lifesaver\" an articl...</td>\n",
       "      <td>chloroform \"the molecular lifesaver\" an articl...</td>\n",
       "      <td>NOUN NOUN NOUN NOUN NOUN PUNCT DET ADJ NOUN NO...</td>\n",
       "      <td>ROOT ROOT ROOT ROOT ROOT punct det amod dobj d...</td>\n",
       "    </tr>\n",
       "    <tr>\n",
       "      <th>1</th>\n",
       "      <td>123204846</td>\n",
       "      <td>the free software gnu class ##path project is ...</td>\n",
       "      <td>the free software gnu class ##path project is ...</td>\n",
       "      <td>the free software gnu classpath project is onl...</td>\n",
       "      <td>the free software gnu classpath project is par...</td>\n",
       "      <td>DET ADJ NOUN NOUN NOUN NOUN NOUN VERB ADV ADV ...</td>\n",
       "      <td>det amod nmod compound compound compound nsubj...</td>\n",
       "    </tr>\n",
       "    <tr>\n",
       "      <th>2</th>\n",
       "      <td>706783956</td>\n",
       "      <td>other campaign ##ers , especially the controve...</td>\n",
       "      <td>other campaign ##ers , especially the british ...</td>\n",
       "      <td>other campaigners, especially the controversia...</td>\n",
       "      <td>other campaigners, especially the british acti...</td>\n",
       "      <td>ADJ NOUN NOUN PUNCT ADV DET ADJ ADJ NOUN ADJ N...</td>\n",
       "      <td>amod nsubj nsubj punct advmod det amod amod am...</td>\n",
       "    </tr>\n",
       "    <tr>\n",
       "      <th>3</th>\n",
       "      <td>612378448</td>\n",
       "      <td>vocalist rob half ##ord ' s performance is con...</td>\n",
       "      <td>vocalist rob half ##ord ' s performance is con...</td>\n",
       "      <td>vocalist rob halford's performance is consider...</td>\n",
       "      <td>vocalist rob halford's performance is consider...</td>\n",
       "      <td>ADJ X NOUN NOUN PUNCT PART NOUN VERB VERB NUM ...</td>\n",
       "      <td>amod amod poss poss punct case nsubjpass auxpa...</td>\n",
       "    </tr>\n",
       "    <tr>\n",
       "      <th>4</th>\n",
       "      <td>876796337</td>\n",
       "      <td>the proud general is a chinese animated featur...</td>\n",
       "      <td>the proud general is a chinese animated featur...</td>\n",
       "      <td>the proud general is a chinese animated featur...</td>\n",
       "      <td>the proud general is a chinese animated featur...</td>\n",
       "      <td>DET ADJ NOUN VERB DET ADJ VERB NOUN NOUN VERB ...</td>\n",
       "      <td>det amod nsubj ROOT det amod amod attr attr ac...</td>\n",
       "    </tr>\n",
       "  </tbody>\n",
       "</table>\n",
       "</div>"
      ],
      "text/plain": [
       "          id                                            src_tok  \\\n",
       "0  165188319  ch ##lor ##of ##or ##m \" the molecular life ##...   \n",
       "1  123204846  the free software gnu class ##path project is ...   \n",
       "2  706783956  other campaign ##ers , especially the controve...   \n",
       "3  612378448  vocalist rob half ##ord ' s performance is con...   \n",
       "4  876796337  the proud general is a chinese animated featur...   \n",
       "\n",
       "                                             tgt_tok  \\\n",
       "0  ch ##lor ##of ##or ##m \" the molecular life ##...   \n",
       "1  the free software gnu class ##path project is ...   \n",
       "2  other campaign ##ers , especially the british ...   \n",
       "3  vocalist rob half ##ord ' s performance is con...   \n",
       "4  the proud general is a chinese animated featur...   \n",
       "\n",
       "                                             src_raw  \\\n",
       "0  chloroform \"the molecular lifesaver\" an articl...   \n",
       "1  the free software gnu classpath project is onl...   \n",
       "2  other campaigners, especially the controversia...   \n",
       "3  vocalist rob halford's performance is consider...   \n",
       "4  the proud general is a chinese animated featur...   \n",
       "\n",
       "                                             tgt_raw  \\\n",
       "0  chloroform \"the molecular lifesaver\" an articl...   \n",
       "1  the free software gnu classpath project is par...   \n",
       "2  other campaigners, especially the british acti...   \n",
       "3  vocalist rob halford's performance is consider...   \n",
       "4  the proud general is a chinese animated featur...   \n",
       "\n",
       "                                        src_POS_tags  \\\n",
       "0  NOUN NOUN NOUN NOUN NOUN PUNCT DET ADJ NOUN NO...   \n",
       "1  DET ADJ NOUN NOUN NOUN NOUN NOUN VERB ADV ADV ...   \n",
       "2  ADJ NOUN NOUN PUNCT ADV DET ADJ ADJ NOUN ADJ N...   \n",
       "3  ADJ X NOUN NOUN PUNCT PART NOUN VERB VERB NUM ...   \n",
       "4  DET ADJ NOUN VERB DET ADJ VERB NOUN NOUN VERB ...   \n",
       "\n",
       "                                      tgt_parse_tags  \n",
       "0  ROOT ROOT ROOT ROOT ROOT punct det amod dobj d...  \n",
       "1  det amod nmod compound compound compound nsubj...  \n",
       "2  amod nsubj nsubj punct advmod det amod amod am...  \n",
       "3  amod amod poss poss punct case nsubjpass auxpa...  \n",
       "4  det amod nsubj ROOT det amod amod attr attr ac...  "
      ]
     },
     "execution_count": 4,
     "metadata": {},
     "output_type": "execute_result"
    }
   ],
   "source": [
    "train.head()"
   ]
  },
  {
   "cell_type": "code",
   "execution_count": 5,
   "metadata": {
    "vscode": {
     "languageId": "shellscript"
    }
   },
   "outputs": [
    {
     "data": {
      "text/html": [
       "<div>\n",
       "<style scoped>\n",
       "    .dataframe tbody tr th:only-of-type {\n",
       "        vertical-align: middle;\n",
       "    }\n",
       "\n",
       "    .dataframe tbody tr th {\n",
       "        vertical-align: top;\n",
       "    }\n",
       "\n",
       "    .dataframe thead th {\n",
       "        text-align: right;\n",
       "    }\n",
       "</style>\n",
       "<table border=\"1\" class=\"dataframe\">\n",
       "  <thead>\n",
       "    <tr style=\"text-align: right;\">\n",
       "      <th></th>\n",
       "      <th>id</th>\n",
       "      <th>src_tok</th>\n",
       "      <th>tgt_tok</th>\n",
       "      <th>src_raw</th>\n",
       "      <th>tgt_raw</th>\n",
       "      <th>src_POS_tags</th>\n",
       "      <th>tgt_parse_tags</th>\n",
       "    </tr>\n",
       "  </thead>\n",
       "  <tbody>\n",
       "    <tr>\n",
       "      <th>0</th>\n",
       "      <td>318427508</td>\n",
       "      <td>in april 2009 a brazilian human rights group ,...</td>\n",
       "      <td>in april 2009 a brazilian human rights group ,...</td>\n",
       "      <td>in april 2009 a brazilian human rights group, ...</td>\n",
       "      <td>in april 2009 a brazilian human rights group, ...</td>\n",
       "      <td>ADP NOUN NUM DET ADJ ADJ NOUN NOUN PUNCT NOUN ...</td>\n",
       "      <td>prep pobj nummod det amod amod compound nsubj ...</td>\n",
       "    </tr>\n",
       "    <tr>\n",
       "      <th>1</th>\n",
       "      <td>235640083</td>\n",
       "      <td>the 51 day stand ##off and ensuing murder of 7...</td>\n",
       "      <td>the 51 day stand ##off and ensuing deaths of 7...</td>\n",
       "      <td>the 51 day standoff and ensuing murder of 76 m...</td>\n",
       "      <td>the 51 day standoff and ensuing deaths of 76 m...</td>\n",
       "      <td>DET NUM NOUN NOUN NOUN CCONJ VERB NOUN ADP NUM...</td>\n",
       "      <td>det nummod compound nsubj nsubj cc amod conj p...</td>\n",
       "    </tr>\n",
       "    <tr>\n",
       "      <th>2</th>\n",
       "      <td>37561168</td>\n",
       "      <td>mark o ##ate ##n ( born 8 march 1964 , watford...</td>\n",
       "      <td>mark o ##ate ##n ( born 8 march 1964 , watford...</td>\n",
       "      <td>mark oaten (born 8 march 1964, watford) is a d...</td>\n",
       "      <td>mark oaten (born 8 march 1964, watford) is a l...</td>\n",
       "      <td>NOUN ADJ ADJ ADJ PUNCT VERB NUM NOUN NUM PUNCT...</td>\n",
       "      <td>nsubj amod amod amod punct parataxis nummod np...</td>\n",
       "    </tr>\n",
       "    <tr>\n",
       "      <th>3</th>\n",
       "      <td>101665256</td>\n",
       "      <td>another infamous period of colon ##isation in ...</td>\n",
       "      <td>another period of colon ##isation in ancient t...</td>\n",
       "      <td>another infamous period of colonisation in anc...</td>\n",
       "      <td>another period of colonisation in ancient time...</td>\n",
       "      <td>DET ADJ NOUN ADP NOUN NOUN ADP ADJ NOUN VERB A...</td>\n",
       "      <td>det amod nsubj prep pobj pobj prep amod pobj R...</td>\n",
       "    </tr>\n",
       "    <tr>\n",
       "      <th>4</th>\n",
       "      <td>480248865</td>\n",
       "      <td>photo sequence of astonishing 2005 chicago ##l...</td>\n",
       "      <td>photo sequence of 2005 chicago ##land crash wi...</td>\n",
       "      <td>photo sequence of astonishing 2005 chicagoland...</td>\n",
       "      <td>photo sequence of 2005 chicagoland crash with ...</td>\n",
       "      <td>NOUN NOUN ADP VERB NUM NOUN NOUN NOUN ADP ADJ ...</td>\n",
       "      <td>compound ROOT prep amod nummod compound compou...</td>\n",
       "    </tr>\n",
       "  </tbody>\n",
       "</table>\n",
       "</div>"
      ],
      "text/plain": [
       "          id                                            src_tok  \\\n",
       "0  318427508  in april 2009 a brazilian human rights group ,...   \n",
       "1  235640083  the 51 day stand ##off and ensuing murder of 7...   \n",
       "2   37561168  mark o ##ate ##n ( born 8 march 1964 , watford...   \n",
       "3  101665256  another infamous period of colon ##isation in ...   \n",
       "4  480248865  photo sequence of astonishing 2005 chicago ##l...   \n",
       "\n",
       "                                             tgt_tok  \\\n",
       "0  in april 2009 a brazilian human rights group ,...   \n",
       "1  the 51 day stand ##off and ensuing deaths of 7...   \n",
       "2  mark o ##ate ##n ( born 8 march 1964 , watford...   \n",
       "3  another period of colon ##isation in ancient t...   \n",
       "4  photo sequence of 2005 chicago ##land crash wi...   \n",
       "\n",
       "                                             src_raw  \\\n",
       "0  in april 2009 a brazilian human rights group, ...   \n",
       "1  the 51 day standoff and ensuing murder of 76 m...   \n",
       "2  mark oaten (born 8 march 1964, watford) is a d...   \n",
       "3  another infamous period of colonisation in anc...   \n",
       "4  photo sequence of astonishing 2005 chicagoland...   \n",
       "\n",
       "                                             tgt_raw  \\\n",
       "0  in april 2009 a brazilian human rights group, ...   \n",
       "1  the 51 day standoff and ensuing deaths of 76 m...   \n",
       "2  mark oaten (born 8 march 1964, watford) is a l...   \n",
       "3  another period of colonisation in ancient time...   \n",
       "4  photo sequence of 2005 chicagoland crash with ...   \n",
       "\n",
       "                                        src_POS_tags  \\\n",
       "0  ADP NOUN NUM DET ADJ ADJ NOUN NOUN PUNCT NOUN ...   \n",
       "1  DET NUM NOUN NOUN NOUN CCONJ VERB NOUN ADP NUM...   \n",
       "2  NOUN ADJ ADJ ADJ PUNCT VERB NUM NOUN NUM PUNCT...   \n",
       "3  DET ADJ NOUN ADP NOUN NOUN ADP ADJ NOUN VERB A...   \n",
       "4  NOUN NOUN ADP VERB NUM NOUN NOUN NOUN ADP ADJ ...   \n",
       "\n",
       "                                      tgt_parse_tags  \n",
       "0  prep pobj nummod det amod amod compound nsubj ...  \n",
       "1  det nummod compound nsubj nsubj cc amod conj p...  \n",
       "2  nsubj amod amod amod punct parataxis nummod np...  \n",
       "3  det amod nsubj prep pobj pobj prep amod pobj R...  \n",
       "4  compound ROOT prep amod nummod compound compou...  "
      ]
     },
     "execution_count": 5,
     "metadata": {},
     "output_type": "execute_result"
    }
   ],
   "source": [
    "test.head()"
   ]
  },
  {
   "cell_type": "code",
   "execution_count": 6,
   "metadata": {
    "vscode": {
     "languageId": "shellscript"
    }
   },
   "outputs": [
    {
     "data": {
      "text/html": [
       "<div>\n",
       "<style scoped>\n",
       "    .dataframe tbody tr th:only-of-type {\n",
       "        vertical-align: middle;\n",
       "    }\n",
       "\n",
       "    .dataframe tbody tr th {\n",
       "        vertical-align: top;\n",
       "    }\n",
       "\n",
       "    .dataframe thead th {\n",
       "        text-align: right;\n",
       "    }\n",
       "</style>\n",
       "<table border=\"1\" class=\"dataframe\">\n",
       "  <thead>\n",
       "    <tr style=\"text-align: right;\">\n",
       "      <th></th>\n",
       "      <th>id</th>\n",
       "      <th>src_tok</th>\n",
       "      <th>tgt_tok</th>\n",
       "      <th>src_raw</th>\n",
       "      <th>tgt_raw</th>\n",
       "      <th>src_POS_tags</th>\n",
       "      <th>tgt_parse_tags</th>\n",
       "    </tr>\n",
       "  </thead>\n",
       "  <tbody>\n",
       "    <tr>\n",
       "      <th>0</th>\n",
       "      <td>3257810</td>\n",
       "      <td>in addition to sponsoring palestinian terror a...</td>\n",
       "      <td>in addition to sponsoring palestinian attacks ...</td>\n",
       "      <td>in addition to sponsoring palestinian terror a...</td>\n",
       "      <td>in addition to sponsoring palestinian attacks ...</td>\n",
       "      <td>ADP NOUN ADP VERB ADJ NOUN NOUN ADP PROPN PUNC...</td>\n",
       "      <td>prep pobj prep pcomp amod compound dobj prep p...</td>\n",
       "    </tr>\n",
       "    <tr>\n",
       "      <th>1</th>\n",
       "      <td>7455549</td>\n",
       "      <td>the game is currently played in 47 countries w...</td>\n",
       "      <td>the game claims to be currently played in 47 c...</td>\n",
       "      <td>the game is currently played in 47 countries w...</td>\n",
       "      <td>the game claims to be currently played in 47 c...</td>\n",
       "      <td>DET NOUN VERB ADV VERB ADP NUM NOUN ADP ADJ AD...</td>\n",
       "      <td>det nsubjpass auxpass advmod ROOT prep nummod ...</td>\n",
       "    </tr>\n",
       "    <tr>\n",
       "      <th>2</th>\n",
       "      <td>524547829</td>\n",
       "      <td>no part of the valley lies in the area current...</td>\n",
       "      <td>no part of the valley lies in the area current...</td>\n",
       "      <td>no part of the valley lies in the area current...</td>\n",
       "      <td>no part of the valley lies in the area current...</td>\n",
       "      <td>DET NOUN ADP DET NOUN VERB ADP DET NOUN ADV VE...</td>\n",
       "      <td>det nsubj prep det pobj ROOT prep det pobj adv...</td>\n",
       "    </tr>\n",
       "    <tr>\n",
       "      <th>3</th>\n",
       "      <td>842911055</td>\n",
       "      <td>scholars perceived that it was disco ##rdan ##...</td>\n",
       "      <td>scholars argued that it was disco ##rdan ##t w...</td>\n",
       "      <td>scholars perceived that it was discordant with...</td>\n",
       "      <td>scholars argued that it was discordant with th...</td>\n",
       "      <td>NOUN VERB ADP PRON VERB ADJ ADJ ADJ ADP DET AD...</td>\n",
       "      <td>nsubj ROOT mark nsubj ccomp acomp acomp acomp ...</td>\n",
       "    </tr>\n",
       "    <tr>\n",
       "      <th>4</th>\n",
       "      <td>302188700</td>\n",
       "      <td>since the chinese civil war in 1949 , taiwan h...</td>\n",
       "      <td>since the chinese civil war in 1949 , taiwan h...</td>\n",
       "      <td>since the chinese civil war in 1949, taiwan ha...</td>\n",
       "      <td>since the chinese civil war in 1949, taiwan ha...</td>\n",
       "      <td>ADP DET ADJ ADJ NOUN ADP NUM PUNCT PROPN VERB ...</td>\n",
       "      <td>prep det amod amod pobj prep pobj punct nsubjp...</td>\n",
       "    </tr>\n",
       "  </tbody>\n",
       "</table>\n",
       "</div>"
      ],
      "text/plain": [
       "          id                                            src_tok  \\\n",
       "0    3257810  in addition to sponsoring palestinian terror a...   \n",
       "1    7455549  the game is currently played in 47 countries w...   \n",
       "2  524547829  no part of the valley lies in the area current...   \n",
       "3  842911055  scholars perceived that it was disco ##rdan ##...   \n",
       "4  302188700  since the chinese civil war in 1949 , taiwan h...   \n",
       "\n",
       "                                             tgt_tok  \\\n",
       "0  in addition to sponsoring palestinian attacks ...   \n",
       "1  the game claims to be currently played in 47 c...   \n",
       "2  no part of the valley lies in the area current...   \n",
       "3  scholars argued that it was disco ##rdan ##t w...   \n",
       "4  since the chinese civil war in 1949 , taiwan h...   \n",
       "\n",
       "                                             src_raw  \\\n",
       "0  in addition to sponsoring palestinian terror a...   \n",
       "1  the game is currently played in 47 countries w...   \n",
       "2  no part of the valley lies in the area current...   \n",
       "3  scholars perceived that it was discordant with...   \n",
       "4  since the chinese civil war in 1949, taiwan ha...   \n",
       "\n",
       "                                             tgt_raw  \\\n",
       "0  in addition to sponsoring palestinian attacks ...   \n",
       "1  the game claims to be currently played in 47 c...   \n",
       "2  no part of the valley lies in the area current...   \n",
       "3  scholars argued that it was discordant with th...   \n",
       "4  since the chinese civil war in 1949, taiwan ha...   \n",
       "\n",
       "                                        src_POS_tags  \\\n",
       "0  ADP NOUN ADP VERB ADJ NOUN NOUN ADP PROPN PUNC...   \n",
       "1  DET NOUN VERB ADV VERB ADP NUM NOUN ADP ADJ AD...   \n",
       "2  DET NOUN ADP DET NOUN VERB ADP DET NOUN ADV VE...   \n",
       "3  NOUN VERB ADP PRON VERB ADJ ADJ ADJ ADP DET AD...   \n",
       "4  ADP DET ADJ ADJ NOUN ADP NUM PUNCT PROPN VERB ...   \n",
       "\n",
       "                                      tgt_parse_tags  \n",
       "0  prep pobj prep pcomp amod compound dobj prep p...  \n",
       "1  det nsubjpass auxpass advmod ROOT prep nummod ...  \n",
       "2  det nsubj prep det pobj ROOT prep det pobj adv...  \n",
       "3  nsubj ROOT mark nsubj ccomp acomp acomp acomp ...  \n",
       "4  prep det amod amod pobj prep pobj punct nsubjp...  "
      ]
     },
     "execution_count": 6,
     "metadata": {},
     "output_type": "execute_result"
    }
   ],
   "source": [
    "dev.head()"
   ]
  },
  {
   "cell_type": "code",
   "execution_count": 7,
   "metadata": {
    "vscode": {
     "languageId": "shellscript"
    }
   },
   "outputs": [
    {
     "data": {
      "text/plain": [
       "(53803, 7)"
      ]
     },
     "metadata": {},
     "output_type": "display_data"
    },
    {
     "data": {
      "text/plain": [
       "(1000, 7)"
      ]
     },
     "metadata": {},
     "output_type": "display_data"
    },
    {
     "data": {
      "text/plain": [
       "(700, 7)"
      ]
     },
     "metadata": {},
     "output_type": "display_data"
    }
   ],
   "source": [
    "display(train.shape)\n",
    "display(test.shape)\n",
    "display(dev.shape)"
   ]
  },
  {
   "cell_type": "code",
   "execution_count": 8,
   "metadata": {
    "vscode": {
     "languageId": "shellscript"
    }
   },
   "outputs": [
    {
     "name": "stdout",
     "output_type": "stream",
     "text": [
      "id 815664961\n",
      "src_tok there he lived in a single room flat at the renowned ana ##rka ##li bazaar , lahore .\n",
      "tgt_tok there he lived in a single room flat at the ana ##rka ##li bazaar , lahore .\n",
      "src_raw there he lived in a single room flat at the renowned anarkali bazaar, lahore.\n",
      "tgt_raw there he lived in a single room flat at the anarkali bazaar, lahore.\n",
      "src_POS_tags ADV PRON VERB ADP DET ADJ NOUN ADJ ADP DET ADJ ADJ ADJ ADJ NOUN PUNCT NOUN PUNCT\n",
      "tgt_parse_tags advmod nsubj ROOT prep det amod pobj amod prep det amod amod amod amod pobj punct npadvmod punct\n"
     ]
    }
   ],
   "source": [
    "# sample row\n",
    "for col in train.columns:\n",
    "    print(col, train[col][78])"
   ]
  },
  {
   "cell_type": "code",
   "execution_count": null,
   "metadata": {
    "vscode": {
     "languageId": "shellscript"
    }
   },
   "outputs": [],
   "source": []
  }
 ],
 "metadata": {
  "kernelspec": {
   "display_name": "Python 3 (ipykernel)",
   "language": "python",
   "name": "python3"
  },
  "language_info": {
   "codemirror_mode": {
    "name": "ipython",
    "version": 3
   },
   "file_extension": ".py",
   "mimetype": "text/x-python",
   "name": "python",
   "nbconvert_exporter": "python",
   "pygments_lexer": "ipython3",
   "version": "3.9.13"
  }
 },
 "nbformat": 4,
 "nbformat_minor": 2
}
