{
 "cells": [
  {
   "cell_type": "code",
   "execution_count": 1,
   "id": "9fb3f9b3-d907-4f82-9c35-f1fd36eb8117",
   "metadata": {},
   "outputs": [],
   "source": [
    "import torch\n",
    "from transformers import BertTokenizer, BertForSequenceClassification\n",
    "from torch.utils.data import DataLoader, TensorDataset\n",
    "import pandas as pd\n",
    "import numpy as np\n",
    "from datasets import load_from_disk"
   ]
  },
  {
   "cell_type": "code",
   "execution_count": 2,
   "id": "998d797b-abc2-4b37-a00d-313dfc940731",
   "metadata": {},
   "outputs": [
    {
     "data": {
      "text/plain": [
       "BertForSequenceClassification(\n",
       "  (bert): BertModel(\n",
       "    (embeddings): BertEmbeddings(\n",
       "      (word_embeddings): Embedding(30522, 768, padding_idx=0)\n",
       "      (position_embeddings): Embedding(512, 768)\n",
       "      (token_type_embeddings): Embedding(2, 768)\n",
       "      (LayerNorm): LayerNorm((768,), eps=1e-12, elementwise_affine=True)\n",
       "      (dropout): Dropout(p=0.1, inplace=False)\n",
       "    )\n",
       "    (encoder): BertEncoder(\n",
       "      (layer): ModuleList(\n",
       "        (0-11): 12 x BertLayer(\n",
       "          (attention): BertAttention(\n",
       "            (self): BertSelfAttention(\n",
       "              (query): Linear(in_features=768, out_features=768, bias=True)\n",
       "              (key): Linear(in_features=768, out_features=768, bias=True)\n",
       "              (value): Linear(in_features=768, out_features=768, bias=True)\n",
       "              (dropout): Dropout(p=0.1, inplace=False)\n",
       "            )\n",
       "            (output): BertSelfOutput(\n",
       "              (dense): Linear(in_features=768, out_features=768, bias=True)\n",
       "              (LayerNorm): LayerNorm((768,), eps=1e-12, elementwise_affine=True)\n",
       "              (dropout): Dropout(p=0.1, inplace=False)\n",
       "            )\n",
       "          )\n",
       "          (intermediate): BertIntermediate(\n",
       "            (dense): Linear(in_features=768, out_features=3072, bias=True)\n",
       "            (intermediate_act_fn): GELUActivation()\n",
       "          )\n",
       "          (output): BertOutput(\n",
       "            (dense): Linear(in_features=3072, out_features=768, bias=True)\n",
       "            (LayerNorm): LayerNorm((768,), eps=1e-12, elementwise_affine=True)\n",
       "            (dropout): Dropout(p=0.1, inplace=False)\n",
       "          )\n",
       "        )\n",
       "      )\n",
       "    )\n",
       "    (pooler): BertPooler(\n",
       "      (dense): Linear(in_features=768, out_features=768, bias=True)\n",
       "      (activation): Tanh()\n",
       "    )\n",
       "  )\n",
       "  (dropout): Dropout(p=0.1, inplace=False)\n",
       "  (classifier): Linear(in_features=768, out_features=2, bias=True)\n",
       ")"
      ]
     },
     "execution_count": 2,
     "metadata": {},
     "output_type": "execute_result"
    }
   ],
   "source": [
    "from transformers import BertTokenizer, BertForSequenceClassification\n",
    "\n",
    "model_path = \"../../data/bert_finetuned\" \n",
    "tokenizer = BertTokenizer.from_pretrained(model_path)\n",
    "\n",
    "try:\n",
    "    model = BertForSequenceClassification.from_pretrained(model_path)\n",
    "except Exception as e:\n",
    "    print(\"Error loading model:\", e)\n",
    "\n",
    "# If using a GPU\n",
    "device = torch.device(\"cuda\" if torch.cuda.is_available() else \"cpu\")\n",
    "model.to(device)\n"
   ]
  },
  {
   "cell_type": "code",
   "execution_count": 3,
   "id": "bac2faea-6591-41a1-96f8-3f6e0ab36b86",
   "metadata": {},
   "outputs": [],
   "source": [
    "folder_path = '../../data/seq2seq'\n",
    "# Load the dataset from disk\n",
    "seq2seq_dataset = load_from_disk(folder_path)\n",
    "\n",
    "# Loading Datasets\n",
    "test_dataset = seq2seq_dataset['test']\n",
    "\n",
    "def create_bert_dataset(dataset):\n",
    "    texts = []\n",
    "    labels = []  # 1 for subjective, 0 for neutral\n",
    "\n",
    "    for item in dataset:\n",
    "        texts.append(item['source'])\n",
    "        labels.append(1)  # Assuming 'source' is subjective\n",
    "        texts.append(item['target'])\n",
    "        labels.append(0)  # Assuming 'target' is neutralized\n",
    "\n",
    "    return texts, labels\n",
    "\n",
    "test_texts, test_labels = create_bert_dataset(test_dataset)"
   ]
  },
  {
   "cell_type": "code",
   "execution_count": 6,
   "id": "b7f73bdc-9948-4e66-9ced-09ae44ecd84a",
   "metadata": {},
   "outputs": [
    {
     "name": "stderr",
     "output_type": "stream",
     "text": [
      "C:\\Users\\jerin\\AppData\\Local\\Temp\\ipykernel_15280\\340169794.py:22: UserWarning: To copy construct from a tensor, it is recommended to use sourceTensor.clone().detach() or sourceTensor.clone().detach().requires_grad_(True), rather than torch.tensor(sourceTensor).\n",
      "  labels = torch.tensor(labels)\n"
     ]
    }
   ],
   "source": [
    "from torch.utils.data import TensorDataset, DataLoader, RandomSampler, SequentialSampler\n",
    "\n",
    "def tokenize_data(texts, labels, max_length=128):\n",
    "    input_ids = []\n",
    "    attention_masks = []\n",
    "\n",
    "    for text in texts:\n",
    "        encoded = tokenizer.encode_plus(\n",
    "            text,\n",
    "            add_special_tokens=True,\n",
    "            max_length=max_length,\n",
    "            truncation=True,\n",
    "            padding='max_length',\n",
    "            return_attention_mask=True,\n",
    "            return_tensors='pt',\n",
    "        )\n",
    "        input_ids.append(encoded['input_ids'])\n",
    "        attention_masks.append(encoded['attention_mask'])\n",
    "\n",
    "    input_ids = torch.cat(input_ids, dim=0)\n",
    "    attention_masks = torch.cat(attention_masks, dim=0)\n",
    "    labels = torch.tensor(labels)\n",
    "\n",
    "    return input_ids, attention_masks, labels\n",
    "\n",
    "test_inputs, test_masks, test_labels = tokenize_data(test_texts, test_labels)\n",
    "test_dataset = TensorDataset(test_inputs, test_masks, test_labels)\n",
    "\n",
    "# Create the DataLoader\n",
    "batch_size = 32\n",
    "test_dataloader = DataLoader(\n",
    "    test_dataset,\n",
    "    sampler=SequentialSampler(test_dataset),\n",
    "    batch_size=batch_size\n",
    ")"
   ]
  },
  {
   "cell_type": "code",
   "execution_count": 7,
   "id": "1b5b47f6-b247-4ee7-96ff-84f3f9fb172f",
   "metadata": {},
   "outputs": [
    {
     "name": "stdout",
     "output_type": "stream",
     "text": [
      "Test Accuracy: 0.7476635514018691\n",
      "              precision    recall  f1-score   support\n",
      "\n",
      "           0       0.73      0.78      0.76       963\n",
      "           1       0.77      0.71      0.74       963\n",
      "\n",
      "    accuracy                           0.75      1926\n",
      "   macro avg       0.75      0.75      0.75      1926\n",
      "weighted avg       0.75      0.75      0.75      1926\n",
      "\n"
     ]
    }
   ],
   "source": [
    "from sklearn.metrics import accuracy_score, classification_report\n",
    "\n",
    "model.eval()\n",
    "predictions, true_labels = [], []\n",
    "\n",
    "for batch in test_dataloader:\n",
    "    # Ensure batch items are tensors before calling .to(device)\n",
    "    b_input_ids = batch[0].to(device)\n",
    "    b_input_mask = batch[1].to(device)\n",
    "    b_labels = batch[2].to(device)\n",
    "\n",
    "    with torch.no_grad():\n",
    "        outputs = model(b_input_ids, token_type_ids=None, attention_mask=b_input_mask)\n",
    "\n",
    "    logits = outputs.logits\n",
    "    logits = logits.detach().cpu().numpy()\n",
    "    label_ids = b_labels.to('cpu').numpy()\n",
    "\n",
    "    predictions.extend(np.argmax(logits, axis=1))\n",
    "    true_labels.extend(label_ids)\n",
    "\n",
    "# Performance metrics\n",
    "print(f\"Test Accuracy: {accuracy_score(true_labels, predictions)}\")\n",
    "print(classification_report(true_labels, predictions))"
   ]
  },
  {
   "cell_type": "code",
   "execution_count": 14,
   "id": "cad2b5a5-26d8-44ce-b621-e0aea40071f2",
   "metadata": {},
   "outputs": [],
   "source": [
    "#Generate Predictions and Probabilities\n",
    "\n",
    "import torch.nn.functional as F\n",
    "\n",
    "model.eval()\n",
    "probabilities = []\n",
    "\n",
    "for batch in test_dataloader:\n",
    "    b_input_ids = batch[0].to(device)\n",
    "    b_input_mask = batch[1].to(device)\n",
    "\n",
    "    with torch.no_grad():\n",
    "        outputs = model(b_input_ids, token_type_ids=None, attention_mask=b_input_mask)\n",
    "\n",
    "    # Apply softmax to the logits to get probabilities\n",
    "    probs = F.softmax(outputs.logits, dim=1).detach().cpu().numpy()\n",
    "    probabilities.extend(probs)\n"
   ]
  },
  {
   "cell_type": "code",
   "execution_count": 15,
   "id": "bb5228ed-253e-41f6-b3f8-57b94b7d9b28",
   "metadata": {},
   "outputs": [],
   "source": [
    "import pandas as pd\n",
    "\n",
    "data = {\n",
    "    \"source_text\": test_texts[::2],  # Every second entry starting from 0\n",
    "    \"source_label_0\": [prob[0] for prob in probabilities[::2]],  # Probabilities for label 0 of source\n",
    "    \"source_label_1\": [prob[1] for prob in probabilities[::2]],  # Probabilities for label 1 of source\n",
    "    \"target_text\": test_texts[1::2],  # Every second entry starting from 1\n",
    "    \"target_label_0\": [prob[0] for prob in probabilities[1::2]],  # Probabilities for label 0 of target\n",
    "    \"target_label_1\": [prob[1] for prob in probabilities[1::2]],  # Probabilities for label 1 of target\n",
    "    # Add columns for predicted text and its probabilities if available\n",
    "}\n",
    "\n",
    "df = pd.DataFrame(data)\n"
   ]
  },
  {
   "cell_type": "code",
   "execution_count": 18,
   "id": "b221b0b9-dffd-4cac-8029-dfdd01db638a",
   "metadata": {},
   "outputs": [
    {
     "name": "stdout",
     "output_type": "stream",
     "text": [
      "                                         source_text  source_label_0  \\\n",
      "0  in april 2009 a brazilian human rights group, ...        0.917522   \n",
      "1  the 51 day standoff and ensuing murder of 76 m...        0.727432   \n",
      "2  mark oaten (born 8 march 1964, watford) is a d...        0.001391   \n",
      "3  another infamous period of colonisation in anc...        0.001802   \n",
      "4  photo sequence of astonishing 2005 chicagoland...        0.001345   \n",
      "\n",
      "   source_label_1                                        target_text  \\\n",
      "0        0.082478  in april 2009 a brazilian human rights group, ...   \n",
      "1        0.272568  the 51 day standoff and ensuing deaths of 76 m...   \n",
      "2        0.998609  mark oaten (born 8 march 1964, watford) is a l...   \n",
      "3        0.998198  another period of colonisation in ancient time...   \n",
      "4        0.998655  photo sequence of 2005 chicagoland crash with ...   \n",
      "\n",
      "   target_label_0  target_label_1  \n",
      "0        0.819904        0.180096  \n",
      "1        0.876027        0.123973  \n",
      "2        0.961041        0.038959  \n",
      "3        0.972589        0.027411  \n",
      "4        0.997639        0.002361  \n"
     ]
    }
   ],
   "source": [
    "print(df.head())"
   ]
  },
  {
   "cell_type": "code",
   "execution_count": null,
   "id": "adab97cb-b2da-411b-9389-37b1896029c1",
   "metadata": {},
   "outputs": [],
   "source": []
  }
 ],
 "metadata": {
  "kernelspec": {
   "display_name": "Python 3 (ipykernel)",
   "language": "python",
   "name": "python3"
  },
  "language_info": {
   "codemirror_mode": {
    "name": "ipython",
    "version": 3
   },
   "file_extension": ".py",
   "mimetype": "text/x-python",
   "name": "python",
   "nbconvert_exporter": "python",
   "pygments_lexer": "ipython3",
   "version": "3.9.12"
  }
 },
 "nbformat": 4,
 "nbformat_minor": 5
}
