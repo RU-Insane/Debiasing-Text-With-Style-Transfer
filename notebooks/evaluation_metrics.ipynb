{
 "cells": [
  {
   "cell_type": "markdown",
   "id": "aa81cdd7-a9d0-44f2-8481-170f3b1cd42d",
   "metadata": {},
   "source": [
    "# Evaluation Metrics\n",
    "The metrics we will use are:\n",
    "\n",
    "**1. Style Transfer Intensity (STI)**\n",
    "\n",
    "The STI metric is used to measure how much a\n",
    "style transfer model has changed the style of a text sample.\n",
    "\n",
    "**2. Content Preservation Score (CPS)**\n",
    "\n",
    "The CPS metric is used to measure how well a\n",
    "style transfer model preserves the original content of a text sample.\n"
   ]
  },
  {
   "cell_type": "code",
   "execution_count": 19,
   "id": "0f76c9ec-7a01-4770-8304-fa76c7e4aee1",
   "metadata": {},
   "outputs": [],
   "source": [
    "import pandas as pd\n",
    "from scipy.stats import wasserstein_distance\n",
    "from sentence_transformers import SentenceTransformer\n",
    "from scipy.spatial.distance import cosine\n",
    "import numpy as np"
   ]
  },
  {
   "cell_type": "code",
   "execution_count": 20,
   "id": "6661169f-a690-4487-9f6b-fe99324e665f",
   "metadata": {},
   "outputs": [],
   "source": [
    "# Load the CSV file\n",
    "file_path = '../data/data_for_eval.csv'\n",
    "df = pd.read_csv(file_path)\n",
    "\n",
    "# Ensure the column names match CSV file's column names\n",
    "source_label_0_col = 'source_label_0'\n",
    "source_label_1_col = 'source_label_1'\n",
    "target_label_0_col = 'target_label_0'\n",
    "target_label_1_col = 'target_label_1'\n",
    "predicted_label_0_col = 'predicted_label_0'  \n",
    "predicted_label_1_col = 'predicted_label_1'"
   ]
  },
  {
   "cell_type": "markdown",
   "id": "0fbca770-3c38-4e18-8af6-07ce1688bc67",
   "metadata": {},
   "source": [
    "## For Style Transfer Intensity (STI) calculation using Earth Mover's Distance\n",
    "1. EMD Calculation\n",
    "\n",
    "EMD is calculated between the style distributions (probabilities) of the source text and the predicted text, as well as between the target text and the predicted text.\n",
    "\n",
    "2. Style Distributions\n",
    "\n",
    "The style distribution for each text type (source, target, predicted) is represented by the probabilities that the text is neutral or subjective. These are stored in the columns like source_label_0, source_label_1, etc.\n",
    "\n",
    "3. EMD for Source-Predicted\n",
    "\n",
    "For each pair of source and predicted texts, EMD measures how much the style of the text has shifted after the style transfer. A lower EMD indicates a smaller shift, suggesting that the predicted text retains much of the source text's style.\n",
    "\n",
    "4. EMD for Target-Predicted\n",
    "\n",
    "Similarly, EMD between the target and predicted texts measures how close the style of the predicted text is to the desired target style. A lower EMD here indicates that the predicted text closely matches the target style."
   ]
  },
  {
   "cell_type": "code",
   "execution_count": 33,
   "id": "fee10cd1",
   "metadata": {},
   "outputs": [],
   "source": [
    "# Calculate EMD for Style Transfer Intensity (STI)\n",
    "\n",
    "# Here, 'source_label_0' and 'source_label_1' are the probabilities for the source text being neutral and subjective, respectively\n",
    "# Similarly for 'target_label_0', 'target_label_1', 'predicted_label_0', and 'predicted_label_1'\n",
    "\n",
    "emd_source_predicted = [wasserstein_distance([row[source_label_0_col], row[source_label_1_col]],\n",
    "                                              [row[predicted_label_0_col], row[predicted_label_1_col]])\n",
    "                        for index, row in df.iterrows()]\n",
    "emd_target_predicted = [wasserstein_distance([row[target_label_0_col], row[target_label_1_col]],\n",
    "                                              [row[predicted_label_0_col], row[predicted_label_1_col]])\n",
    "                        for index, row in df.iterrows()]\n",
    "emd_source_target = [wasserstein_distance([row[target_label_0_col], row[target_label_1_col]],\n",
    "                                              [row[source_label_0_col], row[source_label_1_col]])\n",
    "                        for index, row in df.iterrows()]"
   ]
  },
  {
   "cell_type": "code",
   "execution_count": 21,
   "id": "493dca1a-ff6d-4911-b85a-d6beec1b173b",
   "metadata": {},
   "outputs": [
    {
     "data": {
      "application/vnd.jupyter.widget-view+json": {
       "model_id": "8cab0f21146340bf997e2119b21113b5",
       "version_major": 2,
       "version_minor": 0
      },
      "text/plain": [
       "Downloading .gitattributes:   0%|          | 0.00/391 [00:00<?, ?B/s]"
      ]
     },
     "metadata": {},
     "output_type": "display_data"
    },
    {
     "data": {
      "application/vnd.jupyter.widget-view+json": {
       "model_id": "444f46852505466c8a82c55da6ad9f1e",
       "version_major": 2,
       "version_minor": 0
      },
      "text/plain": [
       "Downloading 1_Pooling/config.json:   0%|          | 0.00/190 [00:00<?, ?B/s]"
      ]
     },
     "metadata": {},
     "output_type": "display_data"
    },
    {
     "data": {
      "application/vnd.jupyter.widget-view+json": {
       "model_id": "a32e1d328862496e8fc72e75ce2fc127",
       "version_major": 2,
       "version_minor": 0
      },
      "text/plain": [
       "Downloading README.md:   0%|          | 0.00/3.95k [00:00<?, ?B/s]"
      ]
     },
     "metadata": {},
     "output_type": "display_data"
    },
    {
     "data": {
      "application/vnd.jupyter.widget-view+json": {
       "model_id": "c592f2ccea794a4e828f8f436d914296",
       "version_major": 2,
       "version_minor": 0
      },
      "text/plain": [
       "Downloading added_tokens.json:   0%|          | 0.00/2.00 [00:00<?, ?B/s]"
      ]
     },
     "metadata": {},
     "output_type": "display_data"
    },
    {
     "data": {
      "application/vnd.jupyter.widget-view+json": {
       "model_id": "0bf2fb7e626c480c8236e6fdbd692df0",
       "version_major": 2,
       "version_minor": 0
      },
      "text/plain": [
       "Downloading config.json:   0%|          | 0.00/625 [00:00<?, ?B/s]"
      ]
     },
     "metadata": {},
     "output_type": "display_data"
    },
    {
     "data": {
      "application/vnd.jupyter.widget-view+json": {
       "model_id": "885f6784d90249afb13e9c3dfe75aaa1",
       "version_major": 2,
       "version_minor": 0
      },
      "text/plain": [
       "Downloading (…)ce_transformers.json:   0%|          | 0.00/122 [00:00<?, ?B/s]"
      ]
     },
     "metadata": {},
     "output_type": "display_data"
    },
    {
     "data": {
      "application/vnd.jupyter.widget-view+json": {
       "model_id": "34347054944148368cbe8357f60c41c1",
       "version_major": 2,
       "version_minor": 0
      },
      "text/plain": [
       "Downloading pytorch_model.bin:   0%|          | 0.00/438M [00:00<?, ?B/s]"
      ]
     },
     "metadata": {},
     "output_type": "display_data"
    },
    {
     "data": {
      "application/vnd.jupyter.widget-view+json": {
       "model_id": "36b499b8c89247f4be341beb6efe723e",
       "version_major": 2,
       "version_minor": 0
      },
      "text/plain": [
       "Downloading (…)nce_bert_config.json:   0%|          | 0.00/53.0 [00:00<?, ?B/s]"
      ]
     },
     "metadata": {},
     "output_type": "display_data"
    },
    {
     "data": {
      "application/vnd.jupyter.widget-view+json": {
       "model_id": "4ca8080aa27842598354846068f01bdb",
       "version_major": 2,
       "version_minor": 0
      },
      "text/plain": [
       "Downloading (…)cial_tokens_map.json:   0%|          | 0.00/112 [00:00<?, ?B/s]"
      ]
     },
     "metadata": {},
     "output_type": "display_data"
    },
    {
     "data": {
      "application/vnd.jupyter.widget-view+json": {
       "model_id": "b7dcbbdc8e774422807507ae9c55f011",
       "version_major": 2,
       "version_minor": 0
      },
      "text/plain": [
       "Downloading tokenizer.json:   0%|          | 0.00/466k [00:00<?, ?B/s]"
      ]
     },
     "metadata": {},
     "output_type": "display_data"
    },
    {
     "data": {
      "application/vnd.jupyter.widget-view+json": {
       "model_id": "cb96c2890f764627a659fcafd8acb2ae",
       "version_major": 2,
       "version_minor": 0
      },
      "text/plain": [
       "Downloading tokenizer_config.json:   0%|          | 0.00/399 [00:00<?, ?B/s]"
      ]
     },
     "metadata": {},
     "output_type": "display_data"
    },
    {
     "data": {
      "application/vnd.jupyter.widget-view+json": {
       "model_id": "9437c1fe69d84321935c65fe58b286e4",
       "version_major": 2,
       "version_minor": 0
      },
      "text/plain": [
       "Downloading vocab.txt:   0%|          | 0.00/232k [00:00<?, ?B/s]"
      ]
     },
     "metadata": {},
     "output_type": "display_data"
    },
    {
     "data": {
      "application/vnd.jupyter.widget-view+json": {
       "model_id": "c593bf6cfa6c459ebe6347f782d4471b",
       "version_major": 2,
       "version_minor": 0
      },
      "text/plain": [
       "Downloading modules.json:   0%|          | 0.00/229 [00:00<?, ?B/s]"
      ]
     },
     "metadata": {},
     "output_type": "display_data"
    }
   ],
   "source": [
    "\n",
    "# Calculate Content Preservation Score\n",
    "model = SentenceTransformer('bert-base-nli-mean-tokens')\n",
    "source_embeddings = model.encode(df['source_text'].tolist())\n",
    "predicted_embeddings = model.encode(df['predictions'].tolist())"
   ]
  },
  {
   "cell_type": "markdown",
   "id": "becbaa40-3815-4d02-93f3-71058d78f306",
   "metadata": {},
   "source": [
    "## For Content Preservation Score (CPS) calculation\n",
    "\n",
    "**1. Compute Sentence Embeddings**\n",
    "\n",
    "SentenceTransformer Model: The code uses a pre-trained model from the sentence-transformers library, specifically 'bert-base-nli-mean-tokens'. This model is designed to produce meaningful sentence embeddings for a wide range of texts.\n",
    "\n",
    "Embeddings for Source and Predicted Texts: The model encodes both the source and predicted texts, converting them into high-dimensional vectors (embeddings) that represent their semantic content.\n",
    "\n",
    "**2. Calculate Cosine Similarity for Content Preservation**\n",
    "\n",
    "Cosine Similarity: This metric measures the cosine of the angle between two vectors. In the context of sentence embeddings, a higher cosine similarity indicates greater semantic similarity between texts.\n",
    "\n",
    "Iterative Comparison: The code iterates over each pair of source and predicted embeddings, calculating the cosine similarity for each pair. This value ranges from -1 to 1, where 1 means identical directionality (high semantic similarity), 0 indicates orthogonality (no similarity), and -1 implies completely opposite directionality."
   ]
  },
  {
   "cell_type": "code",
   "execution_count": 22,
   "id": "c2aa2c6a-84a8-41b4-8cf0-0265e886a7b1",
   "metadata": {},
   "outputs": [],
   "source": [
    "content_scores = [1 - cosine(source_emb, pred_emb) \n",
    "                  if not np.isnan(cosine(source_emb, pred_emb)) else 0\n",
    "                  for source_emb, pred_emb in zip(source_embeddings, predicted_embeddings)]"
   ]
  },
  {
   "cell_type": "code",
   "execution_count": 34,
   "id": "804ae208-a99a-479c-b892-bfc312e6f441",
   "metadata": {},
   "outputs": [],
   "source": [
    "# Combine results in a new DataFrame\n",
    "evaluation_df = pd.DataFrame({\n",
    "    \"Source Text\": df['source_text'],\n",
    "    \"Target Text\": df['target_text'],\n",
    "    \"Predicted Text\": df['predictions'],\n",
    "    \"EMD Source-Predicted\": emd_source_predicted,\n",
    "    \"EMD Target-Predicted\": emd_target_predicted,\n",
    "\t\"EMD Source-Target\": emd_source_target,\n",
    "    \"Content Preservation Score\": content_scores\n",
    "})"
   ]
  },
  {
   "cell_type": "code",
   "execution_count": 35,
   "id": "db78b7c7-fa47-4261-9812-eff078bdce78",
   "metadata": {},
   "outputs": [
    {
     "name": "stdout",
     "output_type": "stream",
     "text": [
      "                                         Source Text  \\\n",
      "0  in april 2009 a brazilian human rights group, ...   \n",
      "1  the 51 day standoff and ensuing murder of 76 m...   \n",
      "2  mark oaten (born 8 march 1964, watford) is a d...   \n",
      "3  another infamous period of colonisation in anc...   \n",
      "4  photo sequence of astonishing 2005 chicagoland...   \n",
      "\n",
      "                                         Target Text  \\\n",
      "0  in april 2009 a brazilian human rights group, ...   \n",
      "1  the 51 day standoff and ensuing deaths of 76 m...   \n",
      "2  mark oaten (born 8 march 1964, watford) is a l...   \n",
      "3  another period of colonisation in ancient time...   \n",
      "4  photo sequence of 2005 chicagoland crash with ...   \n",
      "\n",
      "                                      Predicted Text  EMD Source-Predicted  \\\n",
      "0  in april 2009 a brazilian human rights group, ...              0.000000   \n",
      "1  the 51 day standoff and ensuing murder of 76 m...              0.000000   \n",
      "2  mark oaten (born 8 march 1964, watford) is a l...              0.037568   \n",
      "3  another period of colonisation in ancient time...              0.025609   \n",
      "4  photo sequence of 2005 chicagoland crash with ...              0.001016   \n",
      "\n",
      "   EMD Target-Predicted  EMD Source-Target  Content Preservation Score  \n",
      "0              0.097619           0.097619                    1.000000  \n",
      "1              0.148595           0.148595                    1.000000  \n",
      "2              0.000000           0.037568                    0.934390  \n",
      "3              0.000000           0.025609                    0.851425  \n",
      "4              0.000000           0.001016                    0.983531  \n"
     ]
    }
   ],
   "source": [
    "print(evaluation_df.head())"
   ]
  },
  {
   "cell_type": "code",
   "execution_count": 7,
   "id": "489ab745-b30f-40c7-b538-65b965aca2bd",
   "metadata": {},
   "outputs": [
    {
     "name": "stdout",
     "output_type": "stream",
     "text": [
      "Evaluation data saved to: ../../data/evaluated.csv\n"
     ]
    }
   ],
   "source": [
    "# # Save the evaluation DataFrame to a new CSV file\n",
    "# evaluation_csv_path = \"../../data/evaluated.csv\"\n",
    "# evaluation_df.to_csv(evaluation_csv_path, index=False)\n",
    "\n",
    "# print(\"Evaluation data saved to:\", evaluation_csv_path)"
   ]
  },
  {
   "cell_type": "code",
   "execution_count": 27,
   "id": "852f294d",
   "metadata": {},
   "outputs": [
    {
     "data": {
      "text/plain": [
       "Source Text                   mark oaten (born 8 march 1964, watford) is a d...\n",
       "Target Text                   mark oaten (born 8 march 1964, watford) is a l...\n",
       "Predicted Text                mark oaten (born 8 march 1964, watford) is a l...\n",
       "EMD Source-Predicted                                                   0.037568\n",
       "EMD Target-Predicted                                                        0.0\n",
       "Content Preservation Score                                              0.93439\n",
       "Name: 2, dtype: object"
      ]
     },
     "execution_count": 27,
     "metadata": {},
     "output_type": "execute_result"
    }
   ],
   "source": [
    "evaluation_df.iloc[2]"
   ]
  },
  {
   "cell_type": "markdown",
   "id": "666caab8",
   "metadata": {},
   "source": [
    "We Need to combine the SWD metrics into a single STI. "
   ]
  },
  {
   "cell_type": "markdown",
   "id": "5d9bff41",
   "metadata": {},
   "source": [
    "This statement has been successfully neutralized by the model (EMD Target-Predicted = 0). However, CPS shows value 0.93. This is due to the blant cosine similarity matching between source and oredicted text. The style transferred word is reducing the CPS score.\n",
    "Thereofre we need to remove that Word to make CPS more appropriate"
   ]
  },
  {
   "cell_type": "markdown",
   "id": "a6bf296b",
   "metadata": {},
   "source": [
    "Therefore we will refine evaluation metrics"
   ]
  },
  {
   "cell_type": "markdown",
   "id": "6a279790",
   "metadata": {},
   "source": [
    "# Refined Evaluation metrics"
   ]
  },
  {
   "cell_type": "code",
   "execution_count": 15,
   "id": "738221c4",
   "metadata": {},
   "outputs": [],
   "source": [
    "# df_renamed = df.rename(columns={\"source_text\":\"source_text\",\"source_label_0\":\"source_prob_S\",\"source_label_1\":\"source_prob_N\",\"target_text\":\"target_text\",\n",
    "# \t\t   \"target_label_0\":\"target_prob_S\",\"target_label_1\":\"taget_prob_N\",\"predictions\":\"predictions\",\"predicted_label_0\":\"predicted_prob_S\",\"predicted_label_1\":\"predicted_label_N\"})\n",
    "\n",
    "# # Ensure the column names match CSV file's column names\n",
    "# source_label_0_col = 'source_label_0'\n",
    "# source_label_1_col = 'source_label_1'\n",
    "# target_label_0_col = 'target_label_0'\n",
    "# target_label_1_col = 'target_label_1'\n",
    "# predicted_label_0_col = 'predicted_label_0'  \n",
    "# predicted_label_1_col = 'predicted_label_1'"
   ]
  },
  {
   "cell_type": "markdown",
   "id": "410e73ac",
   "metadata": {},
   "source": [
    "### calculating directional STI"
   ]
  },
  {
   "cell_type": "code",
   "execution_count": 36,
   "id": "c530a404",
   "metadata": {},
   "outputs": [
    {
     "data": {
      "text/html": [
       "<div>\n",
       "<style scoped>\n",
       "    .dataframe tbody tr th:only-of-type {\n",
       "        vertical-align: middle;\n",
       "    }\n",
       "\n",
       "    .dataframe tbody tr th {\n",
       "        vertical-align: top;\n",
       "    }\n",
       "\n",
       "    .dataframe thead th {\n",
       "        text-align: right;\n",
       "    }\n",
       "</style>\n",
       "<table border=\"1\" class=\"dataframe\">\n",
       "  <thead>\n",
       "    <tr style=\"text-align: right;\">\n",
       "      <th></th>\n",
       "      <th>Source Text</th>\n",
       "      <th>Target Text</th>\n",
       "      <th>Predicted Text</th>\n",
       "      <th>EMD Source-Predicted</th>\n",
       "      <th>EMD Target-Predicted</th>\n",
       "      <th>EMD Source-Target</th>\n",
       "      <th>Content Preservation Score</th>\n",
       "    </tr>\n",
       "  </thead>\n",
       "  <tbody>\n",
       "    <tr>\n",
       "      <th>0</th>\n",
       "      <td>in april 2009 a brazilian human rights group, ...</td>\n",
       "      <td>in april 2009 a brazilian human rights group, ...</td>\n",
       "      <td>in april 2009 a brazilian human rights group, ...</td>\n",
       "      <td>0.000000</td>\n",
       "      <td>0.097619</td>\n",
       "      <td>0.097619</td>\n",
       "      <td>1.000000</td>\n",
       "    </tr>\n",
       "    <tr>\n",
       "      <th>1</th>\n",
       "      <td>the 51 day standoff and ensuing murder of 76 m...</td>\n",
       "      <td>the 51 day standoff and ensuing deaths of 76 m...</td>\n",
       "      <td>the 51 day standoff and ensuing murder of 76 m...</td>\n",
       "      <td>0.000000</td>\n",
       "      <td>0.148595</td>\n",
       "      <td>0.148595</td>\n",
       "      <td>1.000000</td>\n",
       "    </tr>\n",
       "    <tr>\n",
       "      <th>2</th>\n",
       "      <td>mark oaten (born 8 march 1964, watford) is a d...</td>\n",
       "      <td>mark oaten (born 8 march 1964, watford) is a l...</td>\n",
       "      <td>mark oaten (born 8 march 1964, watford) is a l...</td>\n",
       "      <td>0.037568</td>\n",
       "      <td>0.000000</td>\n",
       "      <td>0.037568</td>\n",
       "      <td>0.934390</td>\n",
       "    </tr>\n",
       "    <tr>\n",
       "      <th>3</th>\n",
       "      <td>another infamous period of colonisation in anc...</td>\n",
       "      <td>another period of colonisation in ancient time...</td>\n",
       "      <td>another period of colonisation in ancient time...</td>\n",
       "      <td>0.025609</td>\n",
       "      <td>0.000000</td>\n",
       "      <td>0.025609</td>\n",
       "      <td>0.851425</td>\n",
       "    </tr>\n",
       "    <tr>\n",
       "      <th>4</th>\n",
       "      <td>photo sequence of astonishing 2005 chicagoland...</td>\n",
       "      <td>photo sequence of 2005 chicagoland crash with ...</td>\n",
       "      <td>photo sequence of 2005 chicagoland crash with ...</td>\n",
       "      <td>0.001016</td>\n",
       "      <td>0.000000</td>\n",
       "      <td>0.001016</td>\n",
       "      <td>0.983531</td>\n",
       "    </tr>\n",
       "  </tbody>\n",
       "</table>\n",
       "</div>"
      ],
      "text/plain": [
       "                                         Source Text  \\\n",
       "0  in april 2009 a brazilian human rights group, ...   \n",
       "1  the 51 day standoff and ensuing murder of 76 m...   \n",
       "2  mark oaten (born 8 march 1964, watford) is a d...   \n",
       "3  another infamous period of colonisation in anc...   \n",
       "4  photo sequence of astonishing 2005 chicagoland...   \n",
       "\n",
       "                                         Target Text  \\\n",
       "0  in april 2009 a brazilian human rights group, ...   \n",
       "1  the 51 day standoff and ensuing deaths of 76 m...   \n",
       "2  mark oaten (born 8 march 1964, watford) is a l...   \n",
       "3  another period of colonisation in ancient time...   \n",
       "4  photo sequence of 2005 chicagoland crash with ...   \n",
       "\n",
       "                                      Predicted Text  EMD Source-Predicted  \\\n",
       "0  in april 2009 a brazilian human rights group, ...              0.000000   \n",
       "1  the 51 day standoff and ensuing murder of 76 m...              0.000000   \n",
       "2  mark oaten (born 8 march 1964, watford) is a l...              0.037568   \n",
       "3  another period of colonisation in ancient time...              0.025609   \n",
       "4  photo sequence of 2005 chicagoland crash with ...              0.001016   \n",
       "\n",
       "   EMD Target-Predicted  EMD Source-Target  Content Preservation Score  \n",
       "0              0.097619           0.097619                    1.000000  \n",
       "1              0.148595           0.148595                    1.000000  \n",
       "2              0.000000           0.037568                    0.934390  \n",
       "3              0.000000           0.025609                    0.851425  \n",
       "4              0.000000           0.001016                    0.983531  "
      ]
     },
     "execution_count": 36,
     "metadata": {},
     "output_type": "execute_result"
    }
   ],
   "source": [
    "evaluation_df.head()"
   ]
  },
  {
   "cell_type": "markdown",
   "id": "d89c0f99",
   "metadata": {},
   "source": [
    "Logic : If emd between source and predicted is lesser than the emd between target and predicted, then it is gievn negative sign"
   ]
  },
  {
   "cell_type": "code",
   "execution_count": 84,
   "id": "cbfe1527",
   "metadata": {},
   "outputs": [],
   "source": [
    "#Defining intuitive STI  : more 'accurate' style transfer is when prediction is close to target + far away from source.\n",
    "# 1. more intuitive\n",
    "# 2. Focuses on genuine style transfers\n",
    "# 2. penalizes no change in source, target and prediction\n",
    "evaluation_df['STI'] = evaluation_df['EMD Source-Predicted'] + (1/(1+evaluation_df['EMD Target-Predicted']))\n",
    "evaluation_df['STI'] = evaluation_df['STI'] - evaluation_df['STI'].min()"
   ]
  },
  {
   "cell_type": "code",
   "execution_count": 85,
   "id": "aa84b1f1",
   "metadata": {},
   "outputs": [],
   "source": [
    "import matplotlib.pyplot as plt \n",
    "import seaborn as sns"
   ]
  },
  {
   "cell_type": "code",
   "execution_count": 86,
   "id": "89dadf7b",
   "metadata": {},
   "outputs": [
    {
     "data": {
      "image/png": "[encoded data removed]",
      "text/plain": [
       "<Figure size 640x480 with 1 Axes>"
      ]
     },
     "metadata": {},
     "output_type": "display_data"
    }
   ],
   "source": [
    "sns.histplot(evaluation_df,x='STI')\n",
    "plt.show()"
   ]
  },
  {
   "cell_type": "markdown",
   "id": "7b191e49",
   "metadata": {},
   "source": [
    "Most texts have STI of 0.32"
   ]
  },
  {
   "cell_type": "code",
   "execution_count": 87,
   "id": "be11e3a4",
   "metadata": {},
   "outputs": [],
   "source": [
    "#Let us check some examples with high STI\n",
    "max_sti_df = evaluation_df.sort_values(by='STI',ascending=False).head(n = 5) "
   ]
  },
  {
   "cell_type": "code",
   "execution_count": 88,
   "id": "4db9875d",
   "metadata": {},
   "outputs": [
    {
     "name": "stdout",
     "output_type": "stream",
     "text": [
      "source text : muzaffarabad is the capital of the pakistani territory of pakistan occupied kashmir.\n",
      "Target Text :  muzaffarabad is the capital of the pakistani territory of pakistan administered kashmir.\n",
      "Predicted Text :  muzaffarabad is the capital of the pakistani territory of pakistan administered kashmir.\n"
     ]
    }
   ],
   "source": [
    "print(\"source text :\" ,max_sti_df['Source Text'].iloc[0])\n",
    "print(\"Target Text : \", max_sti_df['Target Text'].iloc[0])\n",
    "print(\"Predicted Text : \", max_sti_df['Predicted Text'].iloc[0])\n"
   ]
  },
  {
   "cell_type": "markdown",
   "id": "03c49386",
   "metadata": {},
   "source": [
    "Perfect Style Transfer"
   ]
  },
  {
   "cell_type": "code",
   "execution_count": 89,
   "id": "4d812315",
   "metadata": {},
   "outputs": [
    {
     "name": "stdout",
     "output_type": "stream",
     "text": [
      "source text : it also has a small concessions stand, run by the fantastic volunteer staff, which sells refreshments and earplugs.\n",
      "Target Text :  it also has a small concessions stand, run by the volunteer staff, which sells refreshments and earplugs.\n",
      "Predicted Text :  it also has a small concessions stand, run by the volunteer staff, which sells refreshments and earplugs.\n"
     ]
    }
   ],
   "source": [
    "print(\"source text :\" ,max_sti_df['Source Text'].iloc[1])\n",
    "print(\"Target Text : \", max_sti_df['Target Text'].iloc[1])\n",
    "print(\"Predicted Text : \", max_sti_df['Predicted Text'].iloc[1])\n"
   ]
  },
  {
   "cell_type": "code",
   "execution_count": 90,
   "id": "83c0d2a4",
   "metadata": {},
   "outputs": [
    {
     "name": "stdout",
     "output_type": "stream",
     "text": [
      "source text : he is best known for his metal wall sculptures and looney tunes shadow boxes.\n",
      "Target Text :  he is known for his metal wall sculptures and looney tunes shadow boxes.\n",
      "Predicted Text :  he is known for his metal wall sculptures and looney tunes shadow boxes.\n"
     ]
    }
   ],
   "source": [
    "print(\"source text :\" ,max_sti_df['Source Text'].iloc[3])\n",
    "print(\"Target Text : \", max_sti_df['Target Text'].iloc[3])\n",
    "print(\"Predicted Text : \", max_sti_df['Predicted Text'].iloc[3])"
   ]
  },
  {
   "cell_type": "markdown",
   "id": "61dde057",
   "metadata": {},
   "source": [
    "High STI is when prediction text style matches perfecty with Target Text Style"
   ]
  },
  {
   "cell_type": "markdown",
   "id": "9e9a8ce9",
   "metadata": {},
   "source": [
    "#Let us look at most common STI examples. (STI = 0.32)"
   ]
  },
  {
   "cell_type": "code",
   "execution_count": 112,
   "id": "b58913ee",
   "metadata": {},
   "outputs": [],
   "source": [
    "common_sti_df = evaluation_df[(evaluation_df['STI']>=0.3) & (evaluation_df['STI'] < 0.33)]"
   ]
  },
  {
   "cell_type": "code",
   "execution_count": 99,
   "id": "f90cdb12",
   "metadata": {},
   "outputs": [],
   "source": [
    "#Let us check some examples\n",
    "common_sti_df = common_sti_df.sort_values(by='STI',ascending=False)"
   ]
  },
  {
   "cell_type": "code",
   "execution_count": 100,
   "id": "40b94a2b",
   "metadata": {},
   "outputs": [
    {
     "name": "stdout",
     "output_type": "stream",
     "text": [
      "source text : kulhawik received her bachelor of arts degree in english & secondary education from simmons college in 1974. one of the top two graduating seniors at simmons, kulhawik received the prestigious crown zellerbach award and a full fellowship from the university of vermont, where she received a double master's degree in english/education in 1977. she taught english at brookline high school from 1976 through 1978, and at the boston architectural center from 1977 through 1979.\n",
      "Target Text :  kulhawik received her bachelor of arts degree in english & secondary education from simmons college in 1974. one of the top two graduating seniors at simmons, kulhawik received the crown zellerbach award and a full fellowship from the university of vermont, where she received a double master's degree in english/education in 1977. she taught english at brookline high school from 1976 through 1978, and at the boston architectural center from 1977 through 1979.\n",
      "Predicted Text :  kulhawik received her bachelor of arts degree in english & secondary education from simmons college in 1974. one of the top two graduating seniors at simmons, kulhawick received the crown zellerbach award and a full fellowship from the university of vermont, where she received a double master's degree in french/education in 1977. she taught english at brookline high school from 1976 through 1978, and at the boston architectural center from 1977 through 1979.\n"
     ]
    }
   ],
   "source": [
    "print(\"source text :\" ,common_sti_df['Source Text'].iloc[3])\n",
    "print(\"Target Text : \", common_sti_df['Target Text'].iloc[3])\n",
    "print(\"Predicted Text : \", common_sti_df['Predicted Text'].iloc[3])"
   ]
  },
  {
   "cell_type": "code",
   "execution_count": 101,
   "id": "18e6d6a3",
   "metadata": {},
   "outputs": [
    {
     "name": "stdout",
     "output_type": "stream",
     "text": [
      "source text : in recent years, the term has often been misapplied to those who are merely clean-cut.\n",
      "Target Text :  in recent years, the term has often been applied to those who are merely clean-cut.\n",
      "Predicted Text :  in recent years, the term has often been used to describe those who are merely clean-cut.\n"
     ]
    }
   ],
   "source": [
    "print(\"source text :\" ,common_sti_df['Source Text'].iloc[10])\n",
    "print(\"Target Text : \", common_sti_df['Target Text'].iloc[10])\n",
    "print(\"Predicted Text : \", common_sti_df['Predicted Text'].iloc[10])"
   ]
  },
  {
   "cell_type": "markdown",
   "id": "70b3b07b",
   "metadata": {},
   "source": [
    "Minimum STI"
   ]
  },
  {
   "cell_type": "code",
   "execution_count": 111,
   "id": "bf7f41bc",
   "metadata": {},
   "outputs": [],
   "source": [
    "min_sti_df = evaluation_df[(evaluation_df['STI']>=0) & (evaluation_df['STI'] < 0.2)]"
   ]
  },
  {
   "cell_type": "code",
   "execution_count": 113,
   "id": "d5976ebd",
   "metadata": {},
   "outputs": [
    {
     "name": "stdout",
     "output_type": "stream",
     "text": [
      "source text : aiming at palestinian qassam rockets and grad launchers in an open area, seven of the shells landed 1 km off target and hit houses in the outskirts of beit hanoun.\n",
      "Target Text :  although israel claimed they aimed at palestinian qassam rockets and grad launchers in an open area, seven of the shells landed 1 km off target and hit houses in the outskirts of beit hanoun.\n",
      "Predicted Text :  aiming at palestinian qassam rockets and grad launchers in an open area, seven of the shells landed 1 km off target and hit houses in the outskirts of beit hanoun.\n"
     ]
    }
   ],
   "source": [
    "print(\"source text :\" ,min_sti_df['Source Text'].iloc[15])\n",
    "print(\"Target Text : \", min_sti_df['Target Text'].iloc[15])\n",
    "print(\"Predicted Text : \", min_sti_df['Predicted Text'].iloc[15])"
   ]
  },
  {
   "cell_type": "markdown",
   "id": "000143f7",
   "metadata": {},
   "source": [
    "No change in prediction "
   ]
  },
  {
   "cell_type": "markdown",
   "id": "9caea8c9",
   "metadata": {},
   "source": [
    "### CPS"
   ]
  },
  {
   "cell_type": "code",
   "execution_count": 116,
   "id": "9da1f50f",
   "metadata": {},
   "outputs": [],
   "source": [
    "from transformers import AutoModelForSequenceClassification, AutoTokenizer\n",
    "from transformers_interpret import SequenceClassificationExplainer"
   ]
  },
  {
   "cell_type": "code",
   "execution_count": null,
   "id": "dac2b70a",
   "metadata": {},
   "outputs": [],
   "source": [
    "tokenizer = AutoTokenizer.from_pretrained(CLS_MODEL_PATH)"
   ]
  },
  {
   "cell_type": "code",
   "execution_count": 117,
   "id": "65b9ec57",
   "metadata": {},
   "outputs": [],
   "source": [
    "test = 'Harvard is a beautiful school'"
   ]
  },
  {
   "cell_type": "code",
   "execution_count": null,
   "id": "5f626a6e",
   "metadata": {},
   "outputs": [],
   "source": [
    "cls_explainer = SequenceClassificationExplainer(model, tokenizer)\n",
    "word_attributions = cls_explainer(test)"
   ]
  },
  {
   "cell_type": "code",
   "execution_count": null,
   "id": "f0af12a9",
   "metadata": {},
   "outputs": [],
   "source": [
    "# Create a DataFrame\n",
    "df_attrb = pd.DataFrame(word_attributions, columns=['token', 'score'])\n",
    "df_attrb.sort_values(by='score')\n",
    "# Calculate the cumulative score\n",
    "df_attrb['cum_score'] = df_attrb['score'].cumsum()\n",
    "\n",
    "threshold_score = 0.5\n",
    "# Filter tokens with score less than threshold\n",
    "df_attrb_filtered = df_attrb[df_attrb['cum_score'] <= threshold_score]\n"
   ]
  },
  {
   "cell_type": "code",
   "execution_count": null,
   "id": "427a0804",
   "metadata": {},
   "outputs": [],
   "source": [
    "# Create a DataFrame\n",
    "df_attrb = pd.DataFrame(word_attributions, columns=['token', 'score'])\n",
    "df_attrb.sort_values(by='score')\n",
    "# Calculate the cumulative score\n",
    "df_attrb['cum_score'] = df_attrb['score'].cumsum()\n",
    "\n",
    "threshold_score = 0.5\n",
    "# Filter tokens with score less than threshold\n",
    "df_attrb_filtered = df_attrb[df_attrb['cum_score'] <= threshold_score]\n"
   ]
  }
 ],
 "metadata": {
  "kernelspec": {
   "display_name": "Python 3 (ipykernel)",
   "language": "python",
   "name": "python3"
  },
  "language_info": {
   "codemirror_mode": {
    "name": "ipython",
    "version": 3
   },
   "file_extension": ".py",
   "mimetype": "text/x-python",
   "name": "python",
   "nbconvert_exporter": "python",
   "pygments_lexer": "ipython3",
   "version": "3.9.13"
  }
 },
 "nbformat": 4,
 "nbformat_minor": 5
}
