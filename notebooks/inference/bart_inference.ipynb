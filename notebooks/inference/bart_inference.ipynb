{
 "cells": [
  {
   "cell_type": "code",
   "execution_count": 19,
   "id": "6149104a-2608-44c9-bb7c-9c8a72827eb0",
   "metadata": {},
   "outputs": [],
   "source": [
    "from transformers import (\n",
    "    BartForConditionalGeneration,\n",
    "    BartTokenizer\n",
    ")"
   ]
  },
  {
   "cell_type": "code",
   "execution_count": 20,
   "id": "9e02dc00-3752-4e6a-a60c-90444c3aff37",
   "metadata": {},
   "outputs": [],
   "source": [
    "tokenizer = BartTokenizer.from_pretrained('facebook/bart-base')\n",
    "# Load the model from the saved path\n",
    "saved_model = BartForConditionalGeneration.from_pretrained(\"../../../models/bart-base\")\n",
    "max_target_length = 128"
   ]
  },
  {
   "cell_type": "code",
   "execution_count": 15,
   "id": "5583cc9e-2a1f-493b-a35c-6b9d938830ae",
   "metadata": {},
   "outputs": [],
   "source": [
    "sample_text = [\n",
    "    \"adequate testing for adverse health effects as well as performance data for these devices are seriously lacking.\",\n",
    "    \"I am a really great human being\",\n",
    "    \"Taj Mahal is the best wonders of the world.\",\n",
    "]\n",
    "\n",
    "inputs = tokenizer(sample_text, padding=True, truncation=True, return_tensors=\"pt\")"
   ]
  },
  {
   "cell_type": "code",
   "execution_count": 16,
   "id": "a928f491-b70f-4f54-ae97-37773f8054f2",
   "metadata": {},
   "outputs": [],
   "source": [
    "inputs = {name: tensor.to(saved_model.device) for name, tensor in inputs.items()}"
   ]
  },
  {
   "cell_type": "code",
   "execution_count": 17,
   "id": "2eeec5c1-68fb-4fca-907a-4f6510cdb3f8",
   "metadata": {},
   "outputs": [],
   "source": [
    "outputs = saved_model.generate(\n",
    "    inputs[\"input_ids\"],\n",
    "    max_length=max_target_length,\n",
    "    min_length=4,\n",
    "    length_penalty=2,\n",
    "    num_beams=4,\n",
    "    early_stopping=True,\n",
    ")"
   ]
  },
  {
   "cell_type": "code",
   "execution_count": 18,
   "id": "afb25d4e-15e6-4ba3-afa0-013520dd0c41",
   "metadata": {},
   "outputs": [
    {
     "data": {
      "text/plain": [
       "['adequate testing for adverse health effects as well as performance data for these devices are lacking.',\n",
       " 'I am a really great human being',\n",
       " 'Taj Mahal is one of the wonders of the world.']"
      ]
     },
     "execution_count": 18,
     "metadata": {},
     "output_type": "execute_result"
    }
   ],
   "source": [
    "tokenizer.batch_decode(outputs, skip_special_tokens=True)"
   ]
  },
  {
   "cell_type": "code",
   "execution_count": null,
   "id": "659a6fe0-4260-4f74-a6b5-2ef429035022",
   "metadata": {},
   "outputs": [],
   "source": []
  }
 ],
 "metadata": {
  "kernelspec": {
   "display_name": "Python 3 (ipykernel)",
   "language": "python",
   "name": "python3"
  },
  "language_info": {
   "codemirror_mode": {
    "name": "ipython",
    "version": 3
   },
   "file_extension": ".py",
   "mimetype": "text/x-python",
   "name": "python",
   "nbconvert_exporter": "python",
   "pygments_lexer": "ipython3",
   "version": "3.10.12"
  }
 },
 "nbformat": 4,
 "nbformat_minor": 5
}
