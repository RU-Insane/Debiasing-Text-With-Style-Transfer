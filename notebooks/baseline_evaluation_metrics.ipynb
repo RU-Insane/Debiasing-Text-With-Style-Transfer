{
 "cells": [
  {
   "cell_type": "markdown",
   "id": "5659e63f",
   "metadata": {},
   "source": [
    "## Imports"
   ]
  },
  {
   "cell_type": "code",
   "execution_count": null,
   "id": "9603f56d",
   "metadata": {},
   "outputs": [],
   "source": [
    "import pandas as pd\n",
    "from scipy.stats import wasserstein_distance\n",
    "from sentence_transformers import SentenceTransformer\n",
    "from scipy.spatial.distance import cosine\n",
    "import numpy as np\n",
    "\n",
    "import matplotlib.pyplot as plt \n",
    "import seaborn as sns\n",
    "\n",
    "from transformers import AutoModelForSequenceClassification, AutoTokenizer\n",
    "from transformers_interpret import SequenceClassificationExplainer\n",
    "\n",
    "#BERT model\n",
    "CLS_MODEL_PATH = \"../../models/bert-finetuned\"\n",
    "model_sc = AutoModelForSequenceClassification.from_pretrained(CLS_MODEL_PATH)\n",
    "tokenizer = AutoTokenizer.from_pretrained(CLS_MODEL_PATH)\n",
    "\n",
    "# Calculate Content Preservation Score\n",
    "model_st = SentenceTransformer('bert-base-nli-mean-tokens')\n",
    "cls_explainer = SequenceClassificationExplainer(model_sc, tokenizer)"
   ]
  },
  {
   "cell_type": "markdown",
   "id": "aa81cdd7-a9d0-44f2-8481-170f3b1cd42d",
   "metadata": {},
   "source": [
    "## Explaination of Evaluation Metrics\n",
    "The metrics we will use are:\n",
    "\n",
    "**1. Style Transfer Intensity (STI)**\n",
    "\n",
    "The STI metric is used to measure how much a\n",
    "style transfer model has changed the style of a text sample.\n",
    "\n",
    "**2. Content Preservation Score (CPS)**\n",
    "\n",
    "The CPS metric is used to measure how well a\n",
    "style transfer model preserves the original content of a text sample.\n"
   ]
  },
  {
   "cell_type": "code",
   "execution_count": 5,
   "id": "6661169f-a690-4487-9f6b-fe99324e665f",
   "metadata": {},
   "outputs": [],
   "source": [
    "# Load the CSV file\n",
    "file_path = '../data/baseline_evaluated.csv'\n",
    "df = pd.read_csv(file_path)\n",
    "\n",
    "# Ensure the column names match CSV file's column names\n",
    "source_label_0_col = 'source_label_0'\n",
    "source_label_1_col = 'source_label_1'\n",
    "target_label_0_col = 'target_label_0'\n",
    "target_label_1_col = 'target_label_1'\n",
    "predicted_label_0_col = 'predicted_label_0'  \n",
    "predicted_label_1_col = 'predicted_label_1'"
   ]
  },
  {
   "cell_type": "markdown",
   "id": "0fbca770-3c38-4e18-8af6-07ce1688bc67",
   "metadata": {},
   "source": [
    "## Style Transfer Intensity (STI) calculation using Earth Mover's Distance\n",
    "1. EMD Calculation\n",
    "\n",
    "EMD is calculated between the style distributions (probabilities) of the source text and the predicted text, as well as between the target text and the predicted text.\n",
    "\n",
    "2. Style Distributions\n",
    "\n",
    "The style distribution for each text type (source, target, predicted) is represented by the probabilities that the text is neutral or subjective. These are stored in the columns like source_label_0, source_label_1, etc.\n",
    "\n",
    "3. EMD for Source-Predicted\n",
    "\n",
    "For each pair of source and predicted texts, EMD measures how much the style of the text has shifted after the style transfer. A lower EMD indicates a smaller shift, suggesting that the predicted text retains much of the source text's style.\n",
    "\n",
    "4. EMD for Target-Predicted\n",
    "\n",
    "Similarly, EMD between the target and predicted texts measures how close the style of the predicted text is to the desired target style. A lower EMD here indicates that the predicted text closely matches the target style."
   ]
  },
  {
   "cell_type": "markdown",
   "id": "1e8d12ba",
   "metadata": {},
   "source": [
    "### Exploration"
   ]
  },
  {
   "cell_type": "code",
   "execution_count": 6,
   "id": "ab2ad079",
   "metadata": {},
   "outputs": [],
   "source": [
    "# Calculate EMD for Style Transfer Intensity (STI)\n",
    "\n",
    "# Here, 'source_label_0' and 'source_label_1' are the probabilities for the source text being neutral and subjective, respectively\n",
    "# Similarly for 'target_label_0', 'target_label_1', 'predicted_label_0', and 'predicted_label_1'\n",
    "\n",
    "emd_source_predicted = [wasserstein_distance([row[source_label_0_col], row[source_label_1_col]],\n",
    "                                              [row[predicted_label_0_col], row[predicted_label_1_col]])\n",
    "                        for index, row in df.iterrows()]\n",
    "emd_target_predicted = [wasserstein_distance([row[target_label_0_col], row[target_label_1_col]],\n",
    "                                              [row[predicted_label_0_col], row[predicted_label_1_col]])\n",
    "                        for index, row in df.iterrows()]\n",
    "emd_source_target = [wasserstein_distance([row[target_label_0_col], row[target_label_1_col]],\n",
    "                                              [row[source_label_0_col], row[source_label_1_col]])\n",
    "                        for index, row in df.iterrows()]"
   ]
  },
  {
   "cell_type": "code",
   "execution_count": 7,
   "id": "804ae208-a99a-479c-b892-bfc312e6f441",
   "metadata": {},
   "outputs": [],
   "source": [
    "# Combine results in a new DataFrame\n",
    "evaluation_df = pd.DataFrame({\n",
    "    \"Source Text\": df['source_text'],\n",
    "    \"Target Text\": df['target_text'],\n",
    "    \"Predicted Text\": df['predictions'],\n",
    "    \"EMD Source-Predicted\": emd_source_predicted,\n",
    "    \"EMD Target-Predicted\": emd_target_predicted,\n",
    "\t\"EMD Source-Target\": emd_source_target\n",
    "})"
   ]
  },
  {
   "cell_type": "code",
   "execution_count": 8,
   "id": "db78b7c7-fa47-4261-9812-eff078bdce78",
   "metadata": {},
   "outputs": [
    {
     "name": "stdout",
     "output_type": "stream",
     "text": [
      "                                         Source Text  \\\n",
      "0  in april 2009 a brazilian human rights group, ...   \n",
      "1  the 51 day standoff and ensuing murder of 76 m...   \n",
      "2  mark oaten (born 8 march 1964, watford) is a d...   \n",
      "3  another infamous period of colonisation in anc...   \n",
      "4  photo sequence of astonishing 2005 chicagoland...   \n",
      "\n",
      "                                         Target Text  \\\n",
      "0  in april 2009 a brazilian human rights group, ...   \n",
      "1  the 51 day standoff and ensuing deaths of 76 m...   \n",
      "2  mark oaten (born 8 march 1964, watford) is a l...   \n",
      "3  another period of colonisation in ancient time...   \n",
      "4  photo sequence of 2005 chicagoland crash with ...   \n",
      "\n",
      "                                      Predicted Text  EMD Source-Predicted  \\\n",
      "0  in april 2009 a brazilian human rights group, ...              0.000000   \n",
      "1  the 51 day standoff and ensuing murder of 76 m...              0.000000   \n",
      "2  mark oaten (born 8 march 1964, watford) is a l...              0.037568   \n",
      "3  another period of colonisation in ancient time...              0.025609   \n",
      "4  photo sequence of 2005 chicagoland crash with ...              0.001016   \n",
      "\n",
      "   EMD Target-Predicted  EMD Source-Target  \n",
      "0              0.097619           0.097619  \n",
      "1              0.148595           0.148595  \n",
      "2              0.000000           0.037568  \n",
      "3              0.000000           0.025609  \n",
      "4              0.000000           0.001016  \n"
     ]
    }
   ],
   "source": [
    "print(evaluation_df.head())"
   ]
  },
  {
   "cell_type": "markdown",
   "id": "666caab8",
   "metadata": {},
   "source": [
    "We Need to combine the SWD metrics into a single STI. "
   ]
  },
  {
   "cell_type": "markdown",
   "id": "5d9bff41",
   "metadata": {},
   "source": [
    "This statement has been successfully neutralized by the model (EMD Target-Predicted = 0). However, CPS shows value 0.93. This is due to the blant cosine similarity matching between source and oredicted text. The style transferred word is reducing the CPS score.\n",
    "Thereofre we need to remove that Word to make CPS more appropriate"
   ]
  },
  {
   "cell_type": "markdown",
   "id": "a6bf296b",
   "metadata": {},
   "source": [
    "Therefore we will refine evaluation metrics"
   ]
  },
  {
   "cell_type": "markdown",
   "id": "410e73ac",
   "metadata": {},
   "source": [
    "### Calculating STI :"
   ]
  },
  {
   "cell_type": "markdown",
   "id": "0b5c7261",
   "metadata": {},
   "source": [
    "Intuition  :  More 'accurate' style transfer is when prediction is close to target and far away from source.\n",
    "\n",
    "Logic : STI = (EMD between source and predicted) + (inverse of EMD between target and source)\n",
    "1. more intuitive\n",
    "2. Focuses on genuine style transfers\n",
    "2. penalizes no change in source, target and prediction"
   ]
  },
  {
   "cell_type": "code",
   "execution_count": 11,
   "id": "c530a404",
   "metadata": {},
   "outputs": [
    {
     "data": {
      "text/html": [
       "<div>\n",
       "<style scoped>\n",
       "    .dataframe tbody tr th:only-of-type {\n",
       "        vertical-align: middle;\n",
       "    }\n",
       "\n",
       "    .dataframe tbody tr th {\n",
       "        vertical-align: top;\n",
       "    }\n",
       "\n",
       "    .dataframe thead th {\n",
       "        text-align: right;\n",
       "    }\n",
       "</style>\n",
       "<table border=\"1\" class=\"dataframe\">\n",
       "  <thead>\n",
       "    <tr style=\"text-align: right;\">\n",
       "      <th></th>\n",
       "      <th>Source Text</th>\n",
       "      <th>Target Text</th>\n",
       "      <th>Predicted Text</th>\n",
       "      <th>EMD Source-Predicted</th>\n",
       "      <th>EMD Target-Predicted</th>\n",
       "      <th>EMD Source-Target</th>\n",
       "      <th>STI</th>\n",
       "    </tr>\n",
       "  </thead>\n",
       "  <tbody>\n",
       "    <tr>\n",
       "      <th>0</th>\n",
       "      <td>in april 2009 a brazilian human rights group, ...</td>\n",
       "      <td>in april 2009 a brazilian human rights group, ...</td>\n",
       "      <td>in april 2009 a brazilian human rights group, ...</td>\n",
       "      <td>0.000000</td>\n",
       "      <td>0.097619</td>\n",
       "      <td>0.097619</td>\n",
       "      <td>0.236648</td>\n",
       "    </tr>\n",
       "    <tr>\n",
       "      <th>1</th>\n",
       "      <td>the 51 day standoff and ensuing murder of 76 m...</td>\n",
       "      <td>the 51 day standoff and ensuing deaths of 76 m...</td>\n",
       "      <td>the 51 day standoff and ensuing murder of 76 m...</td>\n",
       "      <td>0.000000</td>\n",
       "      <td>0.148595</td>\n",
       "      <td>0.148595</td>\n",
       "      <td>0.196214</td>\n",
       "    </tr>\n",
       "    <tr>\n",
       "      <th>2</th>\n",
       "      <td>mark oaten (born 8 march 1964, watford) is a d...</td>\n",
       "      <td>mark oaten (born 8 march 1964, watford) is a l...</td>\n",
       "      <td>mark oaten (born 8 march 1964, watford) is a l...</td>\n",
       "      <td>0.037568</td>\n",
       "      <td>0.000000</td>\n",
       "      <td>0.037568</td>\n",
       "      <td>0.363152</td>\n",
       "    </tr>\n",
       "    <tr>\n",
       "      <th>3</th>\n",
       "      <td>another infamous period of colonisation in anc...</td>\n",
       "      <td>another period of colonisation in ancient time...</td>\n",
       "      <td>another period of colonisation in ancient time...</td>\n",
       "      <td>0.025609</td>\n",
       "      <td>0.000000</td>\n",
       "      <td>0.025609</td>\n",
       "      <td>0.351194</td>\n",
       "    </tr>\n",
       "    <tr>\n",
       "      <th>4</th>\n",
       "      <td>photo sequence of astonishing 2005 chicagoland...</td>\n",
       "      <td>photo sequence of 2005 chicagoland crash with ...</td>\n",
       "      <td>photo sequence of 2005 chicagoland crash with ...</td>\n",
       "      <td>0.001016</td>\n",
       "      <td>0.000000</td>\n",
       "      <td>0.001016</td>\n",
       "      <td>0.326601</td>\n",
       "    </tr>\n",
       "  </tbody>\n",
       "</table>\n",
       "</div>"
      ],
      "text/plain": [
       "                                         Source Text  \\\n",
       "0  in april 2009 a brazilian human rights group, ...   \n",
       "1  the 51 day standoff and ensuing murder of 76 m...   \n",
       "2  mark oaten (born 8 march 1964, watford) is a d...   \n",
       "3  another infamous period of colonisation in anc...   \n",
       "4  photo sequence of astonishing 2005 chicagoland...   \n",
       "\n",
       "                                         Target Text  \\\n",
       "0  in april 2009 a brazilian human rights group, ...   \n",
       "1  the 51 day standoff and ensuing deaths of 76 m...   \n",
       "2  mark oaten (born 8 march 1964, watford) is a l...   \n",
       "3  another period of colonisation in ancient time...   \n",
       "4  photo sequence of 2005 chicagoland crash with ...   \n",
       "\n",
       "                                      Predicted Text  EMD Source-Predicted  \\\n",
       "0  in april 2009 a brazilian human rights group, ...              0.000000   \n",
       "1  the 51 day standoff and ensuing murder of 76 m...              0.000000   \n",
       "2  mark oaten (born 8 march 1964, watford) is a l...              0.037568   \n",
       "3  another period of colonisation in ancient time...              0.025609   \n",
       "4  photo sequence of 2005 chicagoland crash with ...              0.001016   \n",
       "\n",
       "   EMD Target-Predicted  EMD Source-Target       STI  \n",
       "0              0.097619           0.097619  0.236648  \n",
       "1              0.148595           0.148595  0.196214  \n",
       "2              0.000000           0.037568  0.363152  \n",
       "3              0.000000           0.025609  0.351194  \n",
       "4              0.000000           0.001016  0.326601  "
      ]
     },
     "execution_count": 11,
     "metadata": {},
     "output_type": "execute_result"
    }
   ],
   "source": [
    "evaluation_df.head()"
   ]
  },
  {
   "cell_type": "code",
   "execution_count": 12,
   "id": "cbfe1527",
   "metadata": {},
   "outputs": [],
   "source": [
    "#calculating STI\n",
    "evaluation_df['STI'] = evaluation_df['EMD Source-Predicted'] + (1/(1+evaluation_df['EMD Target-Predicted']))\n",
    "evaluation_df['STI'] = evaluation_df['STI'] - evaluation_df['STI'].min()"
   ]
  },
  {
   "cell_type": "code",
   "execution_count": 13,
   "id": "89dadf7b",
   "metadata": {},
   "outputs": [
    {
     "data": {
      "image/png": "[encoded data removed]",
      "text/plain": [
       "<Figure size 640x480 with 1 Axes>"
      ]
     },
     "metadata": {},
     "output_type": "display_data"
    }
   ],
   "source": [
    "sns.histplot(evaluation_df,x='STI')\n",
    "plt.show()"
   ]
  },
  {
   "cell_type": "markdown",
   "id": "7b191e49",
   "metadata": {},
   "source": [
    "<i> Obs: 1. Most texts have STI of 0.32"
   ]
  },
  {
   "cell_type": "markdown",
   "id": "2564c81b",
   "metadata": {},
   "source": [
    "1. High Style Transfer Examples"
   ]
  },
  {
   "cell_type": "code",
   "execution_count": null,
   "id": "be11e3a4",
   "metadata": {},
   "outputs": [],
   "source": [
    "#Let us check some examples with high STI\n",
    "max_sti_df = evaluation_df.sort_values(by='STI',ascending=False).head(n = 5) "
   ]
  },
  {
   "cell_type": "code",
   "execution_count": null,
   "id": "4db9875d",
   "metadata": {},
   "outputs": [
    {
     "name": "stdout",
     "output_type": "stream",
     "text": [
      "source text : muzaffarabad is the capital of the pakistani territory of pakistan occupied kashmir.\n",
      "Target Text :  muzaffarabad is the capital of the pakistani territory of pakistan administered kashmir.\n",
      "Predicted Text :  muzaffarabad is the capital of the pakistani territory of pakistan administered kashmir.\n"
     ]
    }
   ],
   "source": [
    "print(\"source text :\" ,max_sti_df['Source Text'].iloc[0])\n",
    "print(\"Target Text : \", max_sti_df['Target Text'].iloc[0])\n",
    "print(\"Predicted Text : \", max_sti_df['Predicted Text'].iloc[0])\n"
   ]
  },
  {
   "cell_type": "markdown",
   "id": "03c49386",
   "metadata": {},
   "source": [
    "<i> Perfect Style Transfer"
   ]
  },
  {
   "cell_type": "code",
   "execution_count": null,
   "id": "4d812315",
   "metadata": {},
   "outputs": [
    {
     "name": "stdout",
     "output_type": "stream",
     "text": [
      "source text : it also has a small concessions stand, run by the fantastic volunteer staff, which sells refreshments and earplugs.\n",
      "Target Text :  it also has a small concessions stand, run by the volunteer staff, which sells refreshments and earplugs.\n",
      "Predicted Text :  it also has a small concessions stand, run by the volunteer staff, which sells refreshments and earplugs.\n"
     ]
    }
   ],
   "source": [
    "print(\"source text :\" ,max_sti_df['Source Text'].iloc[1])\n",
    "print(\"Target Text : \", max_sti_df['Target Text'].iloc[1])\n",
    "print(\"Predicted Text : \", max_sti_df['Predicted Text'].iloc[1])\n"
   ]
  },
  {
   "cell_type": "code",
   "execution_count": null,
   "id": "83c0d2a4",
   "metadata": {},
   "outputs": [
    {
     "name": "stdout",
     "output_type": "stream",
     "text": [
      "source text : he is best known for his metal wall sculptures and looney tunes shadow boxes.\n",
      "Target Text :  he is known for his metal wall sculptures and looney tunes shadow boxes.\n",
      "Predicted Text :  he is known for his metal wall sculptures and looney tunes shadow boxes.\n"
     ]
    }
   ],
   "source": [
    "print(\"source text :\" ,max_sti_df['Source Text'].iloc[3])\n",
    "print(\"Target Text : \", max_sti_df['Target Text'].iloc[3])\n",
    "print(\"Predicted Text : \", max_sti_df['Predicted Text'].iloc[3])"
   ]
  },
  {
   "cell_type": "markdown",
   "id": "61dde057",
   "metadata": {},
   "source": [
    "<b> High STI is when prediction text style matches perfecty with Target Text Style"
   ]
  },
  {
   "cell_type": "markdown",
   "id": "9e9a8ce9",
   "metadata": {},
   "source": [
    "2. Common Style Transfer examples. (STI = 0.32)"
   ]
  },
  {
   "cell_type": "code",
   "execution_count": null,
   "id": "b58913ee",
   "metadata": {},
   "outputs": [],
   "source": [
    "common_sti_df = evaluation_df[(evaluation_df['STI']>=0.3) & (evaluation_df['STI'] < 0.33)]"
   ]
  },
  {
   "cell_type": "code",
   "execution_count": null,
   "id": "f90cdb12",
   "metadata": {},
   "outputs": [],
   "source": [
    "#Let us check some examples\n",
    "common_sti_df = common_sti_df.sort_values(by='STI',ascending=False)"
   ]
  },
  {
   "cell_type": "code",
   "execution_count": null,
   "id": "40b94a2b",
   "metadata": {},
   "outputs": [
    {
     "name": "stdout",
     "output_type": "stream",
     "text": [
      "source text : kulhawik received her bachelor of arts degree in english & secondary education from simmons college in 1974. one of the top two graduating seniors at simmons, kulhawik received the prestigious crown zellerbach award and a full fellowship from the university of vermont, where she received a double master's degree in english/education in 1977. she taught english at brookline high school from 1976 through 1978, and at the boston architectural center from 1977 through 1979.\n",
      "Target Text :  kulhawik received her bachelor of arts degree in english & secondary education from simmons college in 1974. one of the top two graduating seniors at simmons, kulhawik received the crown zellerbach award and a full fellowship from the university of vermont, where she received a double master's degree in english/education in 1977. she taught english at brookline high school from 1976 through 1978, and at the boston architectural center from 1977 through 1979.\n",
      "Predicted Text :  kulhawik received her bachelor of arts degree in english & secondary education from simmons college in 1974. one of the top two graduating seniors at simmons, kulhawick received the crown zellerbach award and a full fellowship from the university of vermont, where she received a double master's degree in french/education in 1977. she taught english at brookline high school from 1976 through 1978, and at the boston architectural center from 1977 through 1979.\n"
     ]
    }
   ],
   "source": [
    "print(\"source text :\" ,common_sti_df['Source Text'].iloc[3])\n",
    "print(\"Target Text : \", common_sti_df['Target Text'].iloc[3])\n",
    "print(\"Predicted Text : \", common_sti_df['Predicted Text'].iloc[3])"
   ]
  },
  {
   "cell_type": "code",
   "execution_count": null,
   "id": "18e6d6a3",
   "metadata": {},
   "outputs": [
    {
     "name": "stdout",
     "output_type": "stream",
     "text": [
      "source text : in recent years, the term has often been misapplied to those who are merely clean-cut.\n",
      "Target Text :  in recent years, the term has often been applied to those who are merely clean-cut.\n",
      "Predicted Text :  in recent years, the term has often been used to describe those who are merely clean-cut.\n"
     ]
    }
   ],
   "source": [
    "print(\"source text :\" ,common_sti_df['Source Text'].iloc[10])\n",
    "print(\"Target Text : \", common_sti_df['Target Text'].iloc[10])\n",
    "print(\"Predicted Text : \", common_sti_df['Predicted Text'].iloc[10])"
   ]
  },
  {
   "cell_type": "markdown",
   "id": "70b3b07b",
   "metadata": {},
   "source": [
    "3. Low Style Transfer Examples"
   ]
  },
  {
   "cell_type": "code",
   "execution_count": null,
   "id": "bf7f41bc",
   "metadata": {},
   "outputs": [],
   "source": [
    "min_sti_df = evaluation_df[(evaluation_df['STI']>=0) & (evaluation_df['STI'] < 0.2)]"
   ]
  },
  {
   "cell_type": "code",
   "execution_count": null,
   "id": "d5976ebd",
   "metadata": {},
   "outputs": [
    {
     "name": "stdout",
     "output_type": "stream",
     "text": [
      "source text : aiming at palestinian qassam rockets and grad launchers in an open area, seven of the shells landed 1 km off target and hit houses in the outskirts of beit hanoun.\n",
      "Target Text :  although israel claimed they aimed at palestinian qassam rockets and grad launchers in an open area, seven of the shells landed 1 km off target and hit houses in the outskirts of beit hanoun.\n",
      "Predicted Text :  aiming at palestinian qassam rockets and grad launchers in an open area, seven of the shells landed 1 km off target and hit houses in the outskirts of beit hanoun.\n"
     ]
    }
   ],
   "source": [
    "print(\"source text :\" ,min_sti_df['Source Text'].iloc[15])\n",
    "print(\"Target Text : \", min_sti_df['Target Text'].iloc[15])\n",
    "print(\"Predicted Text : \", min_sti_df['Predicted Text'].iloc[15])"
   ]
  },
  {
   "cell_type": "markdown",
   "id": "000143f7",
   "metadata": {},
   "source": [
    "<i>No change in prediction "
   ]
  },
  {
   "cell_type": "markdown",
   "id": "9caea8c9",
   "metadata": {},
   "source": [
    "## CPS"
   ]
  },
  {
   "cell_type": "markdown",
   "id": "5ff86dd3",
   "metadata": {},
   "source": [
    "**1. Compute Word Attributions**\n",
    "We get the word attributions in the subjective text. Word attributions give us the importance of each word in making in subjective in the context of the sentenence.\n",
    "\n",
    "**2. Remove most biased words**\n",
    "Remove the most biased word from the sentence.\n",
    "\n",
    "**1. Compute Sentence Embeddings**\n",
    "\n",
    "SentenceTransformer Model: The code uses a pre-trained model from the sentence-transformers library, specifically 'bert-base-nli-mean-tokens'. This model is designed to produce meaningful sentence embeddings for a wide range of texts.\n",
    "\n",
    "Embeddings for Source and Predicted Texts: The model encodes both the source and predicted texts, converting them into high-dimensional vectors (embeddings) that represent their semantic content.\n",
    "\n",
    "**2. Calculate Cosine Similarity for Content Preservation**\n",
    "\n",
    "Cosine Similarity: This metric measures the cosine of the angle between two vectors. In the context of sentence embeddings, a higher cosine similarity indicates greater semantic similarity between texts.\n",
    "\n",
    "Iterative Comparison: The code iterates over each pair of source and predicted embeddings, calculating the cosine similarity for each pair. This value ranges from -1 to 1, where 1 means identical directionality (high semantic similarity), 0 indicates orthogonality (no similarity), and -1 implies completely opposite directionality."
   ]
  },
  {
   "cell_type": "code",
   "execution_count": null,
   "id": "1a42f725",
   "metadata": {},
   "outputs": [],
   "source": [
    "CLS_MODEL_PATH = \"../../models/bert_finetuned\"\n",
    "model = AutoModelForSequenceClassification.from_pretrained(CLS_MODEL_PATH)\n",
    "tokenizer = AutoTokenizer.from_pretrained(CLS_MODEL_PATH)"
   ]
  },
  {
   "cell_type": "code",
   "execution_count": null,
   "id": "cb11c4fb",
   "metadata": {},
   "outputs": [],
   "source": [
    "def get_attributions(text):\n",
    "\tword_attributions = cls_explainer(text)\n",
    "\t# Create a DataFrame\n",
    "\tdf_attrb = pd.DataFrame(word_attributions, columns=['token', 'score'])\n",
    "\tdf_attrb[\"abs_norm\"] = df_attrb['score'].abs()/df_attrb[\"score\"].abs().sum()\n",
    "\tdf_attrb = df_attrb.sort_values(by='abs_norm',ascending=False)\n",
    "\tdf_attrb['abs_norm'] = df_attrb['abs_norm'].cumsum()\n",
    "\tdf_attrb[\"cumulative\"] = df_attrb[\"abs_norm\"].cumsum()\n",
    "\n",
    "\treturn df_attrb"
   ]
  },
  {
   "cell_type": "code",
   "execution_count": null,
   "id": "750e1faf",
   "metadata": {},
   "outputs": [],
   "source": [
    "def mask_style_words(text):\n",
    "\tatrrb_df = get_attributions(text)\n",
    "\t#remove the top scoring word\n",
    "\t#if length is less than 3, do not remove any word\n",
    "\tif len(atrrb_df['token']) <= 3:\n",
    "\t\tNone\n",
    "\telse: \n",
    "\t\t#if length more than 3 remove top score word\n",
    "\t\t\n",
    "\t\t#get the max score\n",
    "\t\tmax_score = max(atrrb_df['score'])\n",
    "        #list the words with subjectivity for future use\n",
    "\t\tsubj_wrds = atrrb_df['token'][(atrrb_df['score']>=max_score)]\n",
    "\t\tnon_subj_words = atrrb_df['token'][(atrrb_df['score']<max_score)]\n",
    "\t\tmasked_text = non_subj_words.sort_index()[1:-1].str.cat(sep=' ')\n",
    "\t\t\n",
    "\treturn masked_text"
   ]
  },
  {
   "cell_type": "code",
   "execution_count": 17,
   "id": "512414df",
   "metadata": {},
   "outputs": [],
   "source": [
    "def get_cps_score(source_text, target_text):\n",
    "\t\"\"\"\n",
    "\tCalculates the content preservation score between the source text and the target text.\n",
    "\n",
    "\tParameters:\n",
    "\tsource_text (str): The original text.\n",
    "\ttarget_text (str): The modified text.\n",
    "\n",
    "\tReturns:\n",
    "\tfloat: The content preservation score between the source text and the target text.\n",
    "\t\"\"\"\n",
    "\t#generate embeddings (768 dimensional)\n",
    "\tsource_embeddings = model_st.encode(source_text)\n",
    "\tpredicted_embeddings = model_st.encode(target_text)\n",
    "\tcontent_scores = 1 - cosine(source_embeddings, predicted_embeddings)    \n",
    "\t\n",
    "\treturn content_scores"
   ]
  },
  {
   "cell_type": "code",
   "execution_count": 14,
   "id": "fed3ac7f",
   "metadata": {},
   "outputs": [
    {
     "data": {
      "text/html": [
       "<table width: 100%><div style=\"border-top: 1px solid; margin-top: 5px;             padding-top: 5px; display: inline-block\"><b>Legend: </b><span style=\"display: inline-block; width: 10px; height: 10px;                 border: 1px solid; background-color:                 hsl(0, 75%, 60%)\"></span> Negative  <span style=\"display: inline-block; width: 10px; height: 10px;                 border: 1px solid; background-color:                 hsl(0, 75%, 100%)\"></span> Neutral  <span style=\"display: inline-block; width: 10px; height: 10px;                 border: 1px solid; background-color:                 hsl(120, 75%, 50%)\"></span> Positive  </div><tr><th>True Label</th><th>Predicted Label</th><th>Attribution Label</th><th>Attribution Score</th><th>Word Importance</th><tr><td><text style=\"padding-right:2em\"><b>1</b></text></td><td><text style=\"padding-right:2em\"><b>LABEL_1 (0.96)</b></text></td><td><text style=\"padding-right:2em\"><b>LABEL_1</b></text></td><td><text style=\"padding-right:2em\"><b>1.00</b></text></td><td><mark style=\"background-color: hsl(0, 75%, 100%); opacity:1.0;                     line-height:1.75\"><font color=\"black\"> [CLS]                    </font></mark><mark style=\"background-color: hsl(0, 75%, 98%); opacity:1.0;                     line-height:1.75\"><font color=\"black\"> ta                    </font></mark><mark style=\"background-color: hsl(0, 75%, 97%); opacity:1.0;                     line-height:1.75\"><font color=\"black\"> ##jm                    </font></mark><mark style=\"background-color: hsl(0, 75%, 94%); opacity:1.0;                     line-height:1.75\"><font color=\"black\"> ##aha                    </font></mark><mark style=\"background-color: hsl(120, 75%, 99%); opacity:1.0;                     line-height:1.75\"><font color=\"black\"> ##l                    </font></mark><mark style=\"background-color: hsl(120, 75%, 95%); opacity:1.0;                     line-height:1.75\"><font color=\"black\"> is                    </font></mark><mark style=\"background-color: hsl(120, 75%, 88%); opacity:1.0;                     line-height:1.75\"><font color=\"black\"> very                    </font></mark><mark style=\"background-color: hsl(120, 75%, 53%); opacity:1.0;                     line-height:1.75\"><font color=\"black\"> beautiful                    </font></mark><mark style=\"background-color: hsl(0, 75%, 100%); opacity:1.0;                     line-height:1.75\"><font color=\"black\"> [SEP]                    </font></mark></td><tr></table>"
      ],
      "text/plain": [
       "<IPython.core.display.HTML object>"
      ]
     },
     "metadata": {},
     "output_type": "display_data"
    },
    {
     "data": {
      "text/html": [
       "<table width: 100%><div style=\"border-top: 1px solid; margin-top: 5px;             padding-top: 5px; display: inline-block\"><b>Legend: </b><span style=\"display: inline-block; width: 10px; height: 10px;                 border: 1px solid; background-color:                 hsl(0, 75%, 60%)\"></span> Negative  <span style=\"display: inline-block; width: 10px; height: 10px;                 border: 1px solid; background-color:                 hsl(0, 75%, 100%)\"></span> Neutral  <span style=\"display: inline-block; width: 10px; height: 10px;                 border: 1px solid; background-color:                 hsl(120, 75%, 50%)\"></span> Positive  </div><tr><th>True Label</th><th>Predicted Label</th><th>Attribution Label</th><th>Attribution Score</th><th>Word Importance</th><tr><td><text style=\"padding-right:2em\"><b>1</b></text></td><td><text style=\"padding-right:2em\"><b>LABEL_1 (0.96)</b></text></td><td><text style=\"padding-right:2em\"><b>LABEL_1</b></text></td><td><text style=\"padding-right:2em\"><b>1.00</b></text></td><td><mark style=\"background-color: hsl(0, 75%, 100%); opacity:1.0;                     line-height:1.75\"><font color=\"black\"> [CLS]                    </font></mark><mark style=\"background-color: hsl(0, 75%, 98%); opacity:1.0;                     line-height:1.75\"><font color=\"black\"> ta                    </font></mark><mark style=\"background-color: hsl(0, 75%, 97%); opacity:1.0;                     line-height:1.75\"><font color=\"black\"> ##jm                    </font></mark><mark style=\"background-color: hsl(0, 75%, 94%); opacity:1.0;                     line-height:1.75\"><font color=\"black\"> ##aha                    </font></mark><mark style=\"background-color: hsl(120, 75%, 99%); opacity:1.0;                     line-height:1.75\"><font color=\"black\"> ##l                    </font></mark><mark style=\"background-color: hsl(120, 75%, 95%); opacity:1.0;                     line-height:1.75\"><font color=\"black\"> is                    </font></mark><mark style=\"background-color: hsl(120, 75%, 88%); opacity:1.0;                     line-height:1.75\"><font color=\"black\"> very                    </font></mark><mark style=\"background-color: hsl(120, 75%, 53%); opacity:1.0;                     line-height:1.75\"><font color=\"black\"> beautiful                    </font></mark><mark style=\"background-color: hsl(0, 75%, 100%); opacity:1.0;                     line-height:1.75\"><font color=\"black\"> [SEP]                    </font></mark></td><tr></table>"
      ],
      "text/plain": [
       "<IPython.core.display.HTML object>"
      ]
     },
     "execution_count": 14,
     "metadata": {},
     "output_type": "execute_result"
    }
   ],
   "source": [
    "test = 'Tajmahal is very beautiful'\n",
    "word_attrn = cls_explainer(test)\n",
    "cls_explainer.visualize()"
   ]
  },
  {
   "cell_type": "code",
   "execution_count": 16,
   "id": "9cb621c6",
   "metadata": {},
   "outputs": [
    {
     "data": {
      "text/html": [
       "<div>\n",
       "<style scoped>\n",
       "    .dataframe tbody tr th:only-of-type {\n",
       "        vertical-align: middle;\n",
       "    }\n",
       "\n",
       "    .dataframe tbody tr th {\n",
       "        vertical-align: top;\n",
       "    }\n",
       "\n",
       "    .dataframe thead th {\n",
       "        text-align: right;\n",
       "    }\n",
       "</style>\n",
       "<table border=\"1\" class=\"dataframe\">\n",
       "  <thead>\n",
       "    <tr style=\"text-align: right;\">\n",
       "      <th></th>\n",
       "      <th>Source Text</th>\n",
       "      <th>Target Text</th>\n",
       "      <th>Predicted Text</th>\n",
       "      <th>EMD Source-Predicted</th>\n",
       "      <th>EMD Target-Predicted</th>\n",
       "      <th>EMD Source-Target</th>\n",
       "      <th>STI</th>\n",
       "    </tr>\n",
       "  </thead>\n",
       "  <tbody>\n",
       "    <tr>\n",
       "      <th>0</th>\n",
       "      <td>in april 2009 a brazilian human rights group, ...</td>\n",
       "      <td>in april 2009 a brazilian human rights group, ...</td>\n",
       "      <td>in april 2009 a brazilian human rights group, ...</td>\n",
       "      <td>0.000000</td>\n",
       "      <td>0.097619</td>\n",
       "      <td>0.097619</td>\n",
       "      <td>0.236648</td>\n",
       "    </tr>\n",
       "    <tr>\n",
       "      <th>1</th>\n",
       "      <td>the 51 day standoff and ensuing murder of 76 m...</td>\n",
       "      <td>the 51 day standoff and ensuing deaths of 76 m...</td>\n",
       "      <td>the 51 day standoff and ensuing murder of 76 m...</td>\n",
       "      <td>0.000000</td>\n",
       "      <td>0.148595</td>\n",
       "      <td>0.148595</td>\n",
       "      <td>0.196214</td>\n",
       "    </tr>\n",
       "    <tr>\n",
       "      <th>2</th>\n",
       "      <td>mark oaten (born 8 march 1964, watford) is a d...</td>\n",
       "      <td>mark oaten (born 8 march 1964, watford) is a l...</td>\n",
       "      <td>mark oaten (born 8 march 1964, watford) is a l...</td>\n",
       "      <td>0.037568</td>\n",
       "      <td>0.000000</td>\n",
       "      <td>0.037568</td>\n",
       "      <td>0.363152</td>\n",
       "    </tr>\n",
       "    <tr>\n",
       "      <th>3</th>\n",
       "      <td>another infamous period of colonisation in anc...</td>\n",
       "      <td>another period of colonisation in ancient time...</td>\n",
       "      <td>another period of colonisation in ancient time...</td>\n",
       "      <td>0.025609</td>\n",
       "      <td>0.000000</td>\n",
       "      <td>0.025609</td>\n",
       "      <td>0.351194</td>\n",
       "    </tr>\n",
       "    <tr>\n",
       "      <th>4</th>\n",
       "      <td>photo sequence of astonishing 2005 chicagoland...</td>\n",
       "      <td>photo sequence of 2005 chicagoland crash with ...</td>\n",
       "      <td>photo sequence of 2005 chicagoland crash with ...</td>\n",
       "      <td>0.001016</td>\n",
       "      <td>0.000000</td>\n",
       "      <td>0.001016</td>\n",
       "      <td>0.326601</td>\n",
       "    </tr>\n",
       "  </tbody>\n",
       "</table>\n",
       "</div>"
      ],
      "text/plain": [
       "                                         Source Text  \\\n",
       "0  in april 2009 a brazilian human rights group, ...   \n",
       "1  the 51 day standoff and ensuing murder of 76 m...   \n",
       "2  mark oaten (born 8 march 1964, watford) is a d...   \n",
       "3  another infamous period of colonisation in anc...   \n",
       "4  photo sequence of astonishing 2005 chicagoland...   \n",
       "\n",
       "                                         Target Text  \\\n",
       "0  in april 2009 a brazilian human rights group, ...   \n",
       "1  the 51 day standoff and ensuing deaths of 76 m...   \n",
       "2  mark oaten (born 8 march 1964, watford) is a l...   \n",
       "3  another period of colonisation in ancient time...   \n",
       "4  photo sequence of 2005 chicagoland crash with ...   \n",
       "\n",
       "                                      Predicted Text  EMD Source-Predicted  \\\n",
       "0  in april 2009 a brazilian human rights group, ...              0.000000   \n",
       "1  the 51 day standoff and ensuing murder of 76 m...              0.000000   \n",
       "2  mark oaten (born 8 march 1964, watford) is a l...              0.037568   \n",
       "3  another period of colonisation in ancient time...              0.025609   \n",
       "4  photo sequence of 2005 chicagoland crash with ...              0.001016   \n",
       "\n",
       "   EMD Target-Predicted  EMD Source-Target       STI  \n",
       "0              0.097619           0.097619  0.236648  \n",
       "1              0.148595           0.148595  0.196214  \n",
       "2              0.000000           0.037568  0.363152  \n",
       "3              0.000000           0.025609  0.351194  \n",
       "4              0.000000           0.001016  0.326601  "
      ]
     },
     "execution_count": 16,
     "metadata": {},
     "output_type": "execute_result"
    }
   ],
   "source": [
    "#calculte CPS\n",
    "evaluation_df.head()"
   ]
  },
  {
   "cell_type": "code",
   "execution_count": 18,
   "id": "986112d4",
   "metadata": {},
   "outputs": [
    {
     "data": {
      "text/html": [
       "<div>\n",
       "<style scoped>\n",
       "    .dataframe tbody tr th:only-of-type {\n",
       "        vertical-align: middle;\n",
       "    }\n",
       "\n",
       "    .dataframe tbody tr th {\n",
       "        vertical-align: top;\n",
       "    }\n",
       "\n",
       "    .dataframe thead th {\n",
       "        text-align: right;\n",
       "    }\n",
       "</style>\n",
       "<table border=\"1\" class=\"dataframe\">\n",
       "  <thead>\n",
       "    <tr style=\"text-align: right;\">\n",
       "      <th></th>\n",
       "      <th>Source Text</th>\n",
       "      <th>Target Text</th>\n",
       "      <th>Predicted Text</th>\n",
       "      <th>EMD Source-Predicted</th>\n",
       "      <th>EMD Target-Predicted</th>\n",
       "      <th>EMD Source-Target</th>\n",
       "      <th>STI</th>\n",
       "      <th>CPS</th>\n",
       "    </tr>\n",
       "  </thead>\n",
       "  <tbody>\n",
       "    <tr>\n",
       "      <th>0</th>\n",
       "      <td>in april 2009 a brazilian human rights group, ...</td>\n",
       "      <td>in april 2009 a brazilian human rights group, ...</td>\n",
       "      <td>in april 2009 a brazilian human rights group, ...</td>\n",
       "      <td>0.000000</td>\n",
       "      <td>0.097619</td>\n",
       "      <td>0.097619</td>\n",
       "      <td>0.236648</td>\n",
       "      <td>1.000000</td>\n",
       "    </tr>\n",
       "    <tr>\n",
       "      <th>1</th>\n",
       "      <td>the 51 day standoff and ensuing murder of 76 m...</td>\n",
       "      <td>the 51 day standoff and ensuing deaths of 76 m...</td>\n",
       "      <td>the 51 day standoff and ensuing murder of 76 m...</td>\n",
       "      <td>0.000000</td>\n",
       "      <td>0.148595</td>\n",
       "      <td>0.148595</td>\n",
       "      <td>0.196214</td>\n",
       "      <td>1.000000</td>\n",
       "    </tr>\n",
       "    <tr>\n",
       "      <th>2</th>\n",
       "      <td>mark oaten (born 8 march 1964, watford) is a d...</td>\n",
       "      <td>mark oaten (born 8 march 1964, watford) is a l...</td>\n",
       "      <td>mark oaten (born 8 march 1964, watford) is a l...</td>\n",
       "      <td>0.037568</td>\n",
       "      <td>0.000000</td>\n",
       "      <td>0.037568</td>\n",
       "      <td>0.363152</td>\n",
       "      <td>0.934390</td>\n",
       "    </tr>\n",
       "    <tr>\n",
       "      <th>3</th>\n",
       "      <td>another infamous period of colonisation in anc...</td>\n",
       "      <td>another period of colonisation in ancient time...</td>\n",
       "      <td>another period of colonisation in ancient time...</td>\n",
       "      <td>0.025609</td>\n",
       "      <td>0.000000</td>\n",
       "      <td>0.025609</td>\n",
       "      <td>0.351194</td>\n",
       "      <td>0.851425</td>\n",
       "    </tr>\n",
       "    <tr>\n",
       "      <th>4</th>\n",
       "      <td>photo sequence of astonishing 2005 chicagoland...</td>\n",
       "      <td>photo sequence of 2005 chicagoland crash with ...</td>\n",
       "      <td>photo sequence of 2005 chicagoland crash with ...</td>\n",
       "      <td>0.001016</td>\n",
       "      <td>0.000000</td>\n",
       "      <td>0.001016</td>\n",
       "      <td>0.326601</td>\n",
       "      <td>0.983531</td>\n",
       "    </tr>\n",
       "    <tr>\n",
       "      <th>...</th>\n",
       "      <td>...</td>\n",
       "      <td>...</td>\n",
       "      <td>...</td>\n",
       "      <td>...</td>\n",
       "      <td>...</td>\n",
       "      <td>...</td>\n",
       "      <td>...</td>\n",
       "      <td>...</td>\n",
       "    </tr>\n",
       "    <tr>\n",
       "      <th>958</th>\n",
       "      <td>especially as the cost to refurbish and modify...</td>\n",
       "      <td>especially as the cost to refurbish and modify...</td>\n",
       "      <td>especially as the cost to refurbish and modify...</td>\n",
       "      <td>0.003198</td>\n",
       "      <td>0.016592</td>\n",
       "      <td>0.019791</td>\n",
       "      <td>0.312462</td>\n",
       "      <td>0.999604</td>\n",
       "    </tr>\n",
       "    <tr>\n",
       "      <th>959</th>\n",
       "      <td>blood libels against jews are incorrect accusa...</td>\n",
       "      <td>blood libels against jews are accusations that...</td>\n",
       "      <td>blood libels against jews are accusations that...</td>\n",
       "      <td>0.054457</td>\n",
       "      <td>0.000000</td>\n",
       "      <td>0.054457</td>\n",
       "      <td>0.380042</td>\n",
       "      <td>0.943002</td>\n",
       "    </tr>\n",
       "    <tr>\n",
       "      <th>960</th>\n",
       "      <td>jacob collier (born august 2, 1994) is a singe...</td>\n",
       "      <td>jacob collier (born august 2, 1994) is a singe...</td>\n",
       "      <td>jacob collier (born august 2, 1994) is a singe...</td>\n",
       "      <td>0.016962</td>\n",
       "      <td>0.000000</td>\n",
       "      <td>0.016962</td>\n",
       "      <td>0.342546</td>\n",
       "      <td>0.991481</td>\n",
       "    </tr>\n",
       "    <tr>\n",
       "      <th>961</th>\n",
       "      <td>they immediately decided to apply it to the an...</td>\n",
       "      <td>they immediately decided to apply it to the ne...</td>\n",
       "      <td>they immediately decided to apply it to the ne...</td>\n",
       "      <td>0.477579</td>\n",
       "      <td>0.198434</td>\n",
       "      <td>0.279145</td>\n",
       "      <td>0.637586</td>\n",
       "      <td>0.785644</td>\n",
       "    </tr>\n",
       "    <tr>\n",
       "      <th>962</th>\n",
       "      <td>the third section deals with the supposed pupp...</td>\n",
       "      <td>the third section deals with the supposed pupp...</td>\n",
       "      <td>the third section deals with the supposed pupp...</td>\n",
       "      <td>0.000000</td>\n",
       "      <td>0.111468</td>\n",
       "      <td>0.111468</td>\n",
       "      <td>0.225296</td>\n",
       "      <td>1.000000</td>\n",
       "    </tr>\n",
       "  </tbody>\n",
       "</table>\n",
       "<p>963 rows × 8 columns</p>\n",
       "</div>"
      ],
      "text/plain": [
       "                                           Source Text  \\\n",
       "0    in april 2009 a brazilian human rights group, ...   \n",
       "1    the 51 day standoff and ensuing murder of 76 m...   \n",
       "2    mark oaten (born 8 march 1964, watford) is a d...   \n",
       "3    another infamous period of colonisation in anc...   \n",
       "4    photo sequence of astonishing 2005 chicagoland...   \n",
       "..                                                 ...   \n",
       "958  especially as the cost to refurbish and modify...   \n",
       "959  blood libels against jews are incorrect accusa...   \n",
       "960  jacob collier (born august 2, 1994) is a singe...   \n",
       "961  they immediately decided to apply it to the an...   \n",
       "962  the third section deals with the supposed pupp...   \n",
       "\n",
       "                                           Target Text  \\\n",
       "0    in april 2009 a brazilian human rights group, ...   \n",
       "1    the 51 day standoff and ensuing deaths of 76 m...   \n",
       "2    mark oaten (born 8 march 1964, watford) is a l...   \n",
       "3    another period of colonisation in ancient time...   \n",
       "4    photo sequence of 2005 chicagoland crash with ...   \n",
       "..                                                 ...   \n",
       "958  especially as the cost to refurbish and modify...   \n",
       "959  blood libels against jews are accusations that...   \n",
       "960  jacob collier (born august 2, 1994) is a singe...   \n",
       "961  they immediately decided to apply it to the ne...   \n",
       "962  the third section deals with the supposed pupp...   \n",
       "\n",
       "                                        Predicted Text  EMD Source-Predicted  \\\n",
       "0    in april 2009 a brazilian human rights group, ...              0.000000   \n",
       "1    the 51 day standoff and ensuing murder of 76 m...              0.000000   \n",
       "2    mark oaten (born 8 march 1964, watford) is a l...              0.037568   \n",
       "3    another period of colonisation in ancient time...              0.025609   \n",
       "4    photo sequence of 2005 chicagoland crash with ...              0.001016   \n",
       "..                                                 ...                   ...   \n",
       "958  especially as the cost to refurbish and modify...              0.003198   \n",
       "959  blood libels against jews are accusations that...              0.054457   \n",
       "960  jacob collier (born august 2, 1994) is a singe...              0.016962   \n",
       "961  they immediately decided to apply it to the ne...              0.477579   \n",
       "962  the third section deals with the supposed pupp...              0.000000   \n",
       "\n",
       "     EMD Target-Predicted  EMD Source-Target       STI       CPS  \n",
       "0                0.097619           0.097619  0.236648  1.000000  \n",
       "1                0.148595           0.148595  0.196214  1.000000  \n",
       "2                0.000000           0.037568  0.363152  0.934390  \n",
       "3                0.000000           0.025609  0.351194  0.851425  \n",
       "4                0.000000           0.001016  0.326601  0.983531  \n",
       "..                    ...                ...       ...       ...  \n",
       "958              0.016592           0.019791  0.312462  0.999604  \n",
       "959              0.000000           0.054457  0.380042  0.943002  \n",
       "960              0.000000           0.016962  0.342546  0.991481  \n",
       "961              0.198434           0.279145  0.637586  0.785644  \n",
       "962              0.111468           0.111468  0.225296  1.000000  \n",
       "\n",
       "[963 rows x 8 columns]"
      ]
     },
     "execution_count": 18,
     "metadata": {},
     "output_type": "execute_result"
    }
   ],
   "source": [
    "evaluation_df['CPS'] = evaluation_df.apply(lambda row: get_cps_score(row['Source Text'],row['Predicted Text']),axis=1)\n",
    "evaluation_df"
   ]
  },
  {
   "cell_type": "code",
   "execution_count": 19,
   "id": "a3f0c41a",
   "metadata": {},
   "outputs": [
    {
     "data": {
      "text/plain": [
       "<seaborn.axisgrid.FacetGrid at 0x26c9351fe50>"
      ]
     },
     "execution_count": 19,
     "metadata": {},
     "output_type": "execute_result"
    },
    {
     "data": {
      "image/png": "[encoded data removed]",
      "text/plain": [
       "<Figure size 500x500 with 1 Axes>"
      ]
     },
     "metadata": {},
     "output_type": "display_data"
    }
   ],
   "source": [
    "sns.displot(evaluation_df['CPS'])"
   ]
  },
  {
   "cell_type": "markdown",
   "id": "0eadd85d",
   "metadata": {},
   "source": [
    "Observtions:\n",
    "1. Most texts have CPS of 1, meaning the content has been perfectly preserved!\n",
    "2. Some texts have very low CPS. We need to analyze them. "
   ]
  },
  {
   "cell_type": "markdown",
   "id": "957799db",
   "metadata": {},
   "source": [
    "## Creating buckets for STI and CPS"
   ]
  },
  {
   "cell_type": "markdown",
   "id": "63ec8e27",
   "metadata": {},
   "source": [
    "1.  STI_buckets :\n",
    "0.0 - 0.2 : bad\n",
    "0.2 - 0.5 : good\n",
    "greater than 0.5 : great"
   ]
  },
  {
   "cell_type": "code",
   "execution_count": 20,
   "id": "3df39994",
   "metadata": {},
   "outputs": [
    {
     "data": {
      "image/png": "[encoded data removed]",
      "text/plain": [
       "<Figure size 640x480 with 1 Axes>"
      ]
     },
     "metadata": {},
     "output_type": "display_data"
    }
   ],
   "source": [
    "sns.histplot(evaluation_df,x='STI')\n",
    "plt.show()"
   ]
  },
  {
   "cell_type": "code",
   "execution_count": 39,
   "id": "6b1d533d",
   "metadata": {},
   "outputs": [],
   "source": [
    "# Define the bins and labels for STI\n",
    "bins = [0 ,0.15, 0.3, 0.5, 0.8]\n",
    "labels = ['Bad', 'Decent','Good','Perfect']\n",
    "\n",
    "# Create the new 'sti categories' column\n",
    "evaluation_df['STI Categories'] = pd.cut(evaluation_df['STI'], bins=bins, labels=labels)"
   ]
  },
  {
   "cell_type": "code",
   "execution_count": 41,
   "id": "d121a317",
   "metadata": {},
   "outputs": [
    {
     "data": {
      "text/html": [
       "<div>\n",
       "<style scoped>\n",
       "    .dataframe tbody tr th:only-of-type {\n",
       "        vertical-align: middle;\n",
       "    }\n",
       "\n",
       "    .dataframe tbody tr th {\n",
       "        vertical-align: top;\n",
       "    }\n",
       "\n",
       "    .dataframe thead th {\n",
       "        text-align: right;\n",
       "    }\n",
       "</style>\n",
       "<table border=\"1\" class=\"dataframe\">\n",
       "  <thead>\n",
       "    <tr style=\"text-align: right;\">\n",
       "      <th></th>\n",
       "      <th>Source Text</th>\n",
       "      <th>Target Text</th>\n",
       "      <th>Predicted Text</th>\n",
       "      <th>EMD Source-Predicted</th>\n",
       "      <th>EMD Target-Predicted</th>\n",
       "      <th>EMD Source-Target</th>\n",
       "      <th>STI</th>\n",
       "      <th>CPS</th>\n",
       "      <th>STI Categories</th>\n",
       "    </tr>\n",
       "  </thead>\n",
       "  <tbody>\n",
       "    <tr>\n",
       "      <th>0</th>\n",
       "      <td>in april 2009 a brazilian human rights group, ...</td>\n",
       "      <td>in april 2009 a brazilian human rights group, ...</td>\n",
       "      <td>in april 2009 a brazilian human rights group, ...</td>\n",
       "      <td>0.000000</td>\n",
       "      <td>0.097619</td>\n",
       "      <td>0.097619</td>\n",
       "      <td>0.236648</td>\n",
       "      <td>1.000000</td>\n",
       "      <td>Decent</td>\n",
       "    </tr>\n",
       "    <tr>\n",
       "      <th>1</th>\n",
       "      <td>the 51 day standoff and ensuing murder of 76 m...</td>\n",
       "      <td>the 51 day standoff and ensuing deaths of 76 m...</td>\n",
       "      <td>the 51 day standoff and ensuing murder of 76 m...</td>\n",
       "      <td>0.000000</td>\n",
       "      <td>0.148595</td>\n",
       "      <td>0.148595</td>\n",
       "      <td>0.196214</td>\n",
       "      <td>1.000000</td>\n",
       "      <td>Decent</td>\n",
       "    </tr>\n",
       "    <tr>\n",
       "      <th>2</th>\n",
       "      <td>mark oaten (born 8 march 1964, watford) is a d...</td>\n",
       "      <td>mark oaten (born 8 march 1964, watford) is a l...</td>\n",
       "      <td>mark oaten (born 8 march 1964, watford) is a l...</td>\n",
       "      <td>0.037568</td>\n",
       "      <td>0.000000</td>\n",
       "      <td>0.037568</td>\n",
       "      <td>0.363152</td>\n",
       "      <td>0.934390</td>\n",
       "      <td>Good</td>\n",
       "    </tr>\n",
       "    <tr>\n",
       "      <th>3</th>\n",
       "      <td>another infamous period of colonisation in anc...</td>\n",
       "      <td>another period of colonisation in ancient time...</td>\n",
       "      <td>another period of colonisation in ancient time...</td>\n",
       "      <td>0.025609</td>\n",
       "      <td>0.000000</td>\n",
       "      <td>0.025609</td>\n",
       "      <td>0.351194</td>\n",
       "      <td>0.851425</td>\n",
       "      <td>Good</td>\n",
       "    </tr>\n",
       "    <tr>\n",
       "      <th>4</th>\n",
       "      <td>photo sequence of astonishing 2005 chicagoland...</td>\n",
       "      <td>photo sequence of 2005 chicagoland crash with ...</td>\n",
       "      <td>photo sequence of 2005 chicagoland crash with ...</td>\n",
       "      <td>0.001016</td>\n",
       "      <td>0.000000</td>\n",
       "      <td>0.001016</td>\n",
       "      <td>0.326601</td>\n",
       "      <td>0.983531</td>\n",
       "      <td>Good</td>\n",
       "    </tr>\n",
       "    <tr>\n",
       "      <th>...</th>\n",
       "      <td>...</td>\n",
       "      <td>...</td>\n",
       "      <td>...</td>\n",
       "      <td>...</td>\n",
       "      <td>...</td>\n",
       "      <td>...</td>\n",
       "      <td>...</td>\n",
       "      <td>...</td>\n",
       "      <td>...</td>\n",
       "    </tr>\n",
       "    <tr>\n",
       "      <th>958</th>\n",
       "      <td>especially as the cost to refurbish and modify...</td>\n",
       "      <td>especially as the cost to refurbish and modify...</td>\n",
       "      <td>especially as the cost to refurbish and modify...</td>\n",
       "      <td>0.003198</td>\n",
       "      <td>0.016592</td>\n",
       "      <td>0.019791</td>\n",
       "      <td>0.312462</td>\n",
       "      <td>0.999604</td>\n",
       "      <td>Good</td>\n",
       "    </tr>\n",
       "    <tr>\n",
       "      <th>959</th>\n",
       "      <td>blood libels against jews are incorrect accusa...</td>\n",
       "      <td>blood libels against jews are accusations that...</td>\n",
       "      <td>blood libels against jews are accusations that...</td>\n",
       "      <td>0.054457</td>\n",
       "      <td>0.000000</td>\n",
       "      <td>0.054457</td>\n",
       "      <td>0.380042</td>\n",
       "      <td>0.943002</td>\n",
       "      <td>Good</td>\n",
       "    </tr>\n",
       "    <tr>\n",
       "      <th>960</th>\n",
       "      <td>jacob collier (born august 2, 1994) is a singe...</td>\n",
       "      <td>jacob collier (born august 2, 1994) is a singe...</td>\n",
       "      <td>jacob collier (born august 2, 1994) is a singe...</td>\n",
       "      <td>0.016962</td>\n",
       "      <td>0.000000</td>\n",
       "      <td>0.016962</td>\n",
       "      <td>0.342546</td>\n",
       "      <td>0.991481</td>\n",
       "      <td>Good</td>\n",
       "    </tr>\n",
       "    <tr>\n",
       "      <th>961</th>\n",
       "      <td>they immediately decided to apply it to the an...</td>\n",
       "      <td>they immediately decided to apply it to the ne...</td>\n",
       "      <td>they immediately decided to apply it to the ne...</td>\n",
       "      <td>0.477579</td>\n",
       "      <td>0.198434</td>\n",
       "      <td>0.279145</td>\n",
       "      <td>0.637586</td>\n",
       "      <td>0.785644</td>\n",
       "      <td>Perfect</td>\n",
       "    </tr>\n",
       "    <tr>\n",
       "      <th>962</th>\n",
       "      <td>the third section deals with the supposed pupp...</td>\n",
       "      <td>the third section deals with the supposed pupp...</td>\n",
       "      <td>the third section deals with the supposed pupp...</td>\n",
       "      <td>0.000000</td>\n",
       "      <td>0.111468</td>\n",
       "      <td>0.111468</td>\n",
       "      <td>0.225296</td>\n",
       "      <td>1.000000</td>\n",
       "      <td>Decent</td>\n",
       "    </tr>\n",
       "  </tbody>\n",
       "</table>\n",
       "<p>963 rows × 9 columns</p>\n",
       "</div>"
      ],
      "text/plain": [
       "                                           Source Text  \\\n",
       "0    in april 2009 a brazilian human rights group, ...   \n",
       "1    the 51 day standoff and ensuing murder of 76 m...   \n",
       "2    mark oaten (born 8 march 1964, watford) is a d...   \n",
       "3    another infamous period of colonisation in anc...   \n",
       "4    photo sequence of astonishing 2005 chicagoland...   \n",
       "..                                                 ...   \n",
       "958  especially as the cost to refurbish and modify...   \n",
       "959  blood libels against jews are incorrect accusa...   \n",
       "960  jacob collier (born august 2, 1994) is a singe...   \n",
       "961  they immediately decided to apply it to the an...   \n",
       "962  the third section deals with the supposed pupp...   \n",
       "\n",
       "                                           Target Text  \\\n",
       "0    in april 2009 a brazilian human rights group, ...   \n",
       "1    the 51 day standoff and ensuing deaths of 76 m...   \n",
       "2    mark oaten (born 8 march 1964, watford) is a l...   \n",
       "3    another period of colonisation in ancient time...   \n",
       "4    photo sequence of 2005 chicagoland crash with ...   \n",
       "..                                                 ...   \n",
       "958  especially as the cost to refurbish and modify...   \n",
       "959  blood libels against jews are accusations that...   \n",
       "960  jacob collier (born august 2, 1994) is a singe...   \n",
       "961  they immediately decided to apply it to the ne...   \n",
       "962  the third section deals with the supposed pupp...   \n",
       "\n",
       "                                        Predicted Text  EMD Source-Predicted  \\\n",
       "0    in april 2009 a brazilian human rights group, ...              0.000000   \n",
       "1    the 51 day standoff and ensuing murder of 76 m...              0.000000   \n",
       "2    mark oaten (born 8 march 1964, watford) is a l...              0.037568   \n",
       "3    another period of colonisation in ancient time...              0.025609   \n",
       "4    photo sequence of 2005 chicagoland crash with ...              0.001016   \n",
       "..                                                 ...                   ...   \n",
       "958  especially as the cost to refurbish and modify...              0.003198   \n",
       "959  blood libels against jews are accusations that...              0.054457   \n",
       "960  jacob collier (born august 2, 1994) is a singe...              0.016962   \n",
       "961  they immediately decided to apply it to the ne...              0.477579   \n",
       "962  the third section deals with the supposed pupp...              0.000000   \n",
       "\n",
       "     EMD Target-Predicted  EMD Source-Target       STI       CPS  \\\n",
       "0                0.097619           0.097619  0.236648  1.000000   \n",
       "1                0.148595           0.148595  0.196214  1.000000   \n",
       "2                0.000000           0.037568  0.363152  0.934390   \n",
       "3                0.000000           0.025609  0.351194  0.851425   \n",
       "4                0.000000           0.001016  0.326601  0.983531   \n",
       "..                    ...                ...       ...       ...   \n",
       "958              0.016592           0.019791  0.312462  0.999604   \n",
       "959              0.000000           0.054457  0.380042  0.943002   \n",
       "960              0.000000           0.016962  0.342546  0.991481   \n",
       "961              0.198434           0.279145  0.637586  0.785644   \n",
       "962              0.111468           0.111468  0.225296  1.000000   \n",
       "\n",
       "    STI Categories  \n",
       "0           Decent  \n",
       "1           Decent  \n",
       "2             Good  \n",
       "3             Good  \n",
       "4             Good  \n",
       "..             ...  \n",
       "958           Good  \n",
       "959           Good  \n",
       "960           Good  \n",
       "961        Perfect  \n",
       "962         Decent  \n",
       "\n",
       "[963 rows x 9 columns]"
      ]
     },
     "execution_count": 41,
     "metadata": {},
     "output_type": "execute_result"
    }
   ],
   "source": [
    "evaluation_df"
   ]
  },
  {
   "cell_type": "code",
   "execution_count": 42,
   "id": "15d899b4",
   "metadata": {},
   "outputs": [
    {
     "data": {
      "text/plain": [
       "Bad        0.084463\n",
       "Perfect    0.105318\n",
       "Decent     0.240876\n",
       "Good       0.569343\n",
       "Name: STI Categories, dtype: float64"
      ]
     },
     "execution_count": 42,
     "metadata": {},
     "output_type": "execute_result"
    }
   ],
   "source": [
    "sti_category_proportions = evaluation_df['STI Categories'].value_counts(normalize=True)\n",
    "sti_category_proportions.sort_values()"
   ]
  },
  {
   "cell_type": "markdown",
   "id": "263d41eb",
   "metadata": {},
   "source": [
    "2. CPI Buckets : "
   ]
  },
  {
   "cell_type": "code",
   "execution_count": 38,
   "id": "13f82088",
   "metadata": {},
   "outputs": [
    {
     "data": {
      "text/plain": [
       "<seaborn.axisgrid.FacetGrid at 0x26c90b12190>"
      ]
     },
     "execution_count": 38,
     "metadata": {},
     "output_type": "execute_result"
    },
    {
     "data": {
      "image/png": "[encoded data removed]",
      "text/plain": [
       "<Figure size 500x500 with 1 Axes>"
      ]
     },
     "metadata": {},
     "output_type": "display_data"
    }
   ],
   "source": [
    "sns.displot(evaluation_df['CPS'])"
   ]
  },
  {
   "cell_type": "code",
   "execution_count": 46,
   "id": "5f7b20e6",
   "metadata": {},
   "outputs": [
    {
     "data": {
      "text/plain": [
       "Bad        0.039460\n",
       "Decent     0.075805\n",
       "Perfect    0.402908\n",
       "Good       0.481828\n",
       "Name: CPS Categories, dtype: float64"
      ]
     },
     "execution_count": 46,
     "metadata": {},
     "output_type": "execute_result"
    }
   ],
   "source": [
    "# Define the bins and labels for STI\n",
    "bins = [0 ,0.9, 0.95, 0.999, 1]\n",
    "labels = ['Bad', 'Decent','Good','Perfect']\n",
    "# Create the new 'sti categories' column\n",
    "evaluation_df['CPS Categories'] = pd.cut(evaluation_df['CPS'], bins=bins, labels=labels)\n",
    "\n",
    "cps_category_proportions = evaluation_df['CPS Categories'].value_counts(normalize=True)\n",
    "cps_category_proportions.sort_values()"
   ]
  }
 ],
 "metadata": {
  "kernelspec": {
   "display_name": "Python 3 (ipykernel)",
   "language": "python",
   "name": "python3"
  },
  "language_info": {
   "codemirror_mode": {
    "name": "ipython",
    "version": 3
   },
   "file_extension": ".py",
   "mimetype": "text/x-python",
   "name": "python",
   "nbconvert_exporter": "python",
   "pygments_lexer": "ipython3",
   "version": "3.9.6"
  }
 },
 "nbformat": 4,
 "nbformat_minor": 5
}
