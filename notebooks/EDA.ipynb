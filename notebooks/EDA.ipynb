{
 "cells": [
  {
   "cell_type": "code",
   "execution_count": 1,
   "metadata": {},
   "outputs": [],
   "source": [
    "import pandas as pd\n",
    "import numpy as np\n",
    "import matplotlib.pyplot as plt\n",
    "import seaborn as sns\n",
    "\n",
    "pd.options.display.max_rows = 4000"
   ]
  },
  {
   "cell_type": "code",
   "execution_count": 2,
   "metadata": {},
   "outputs": [],
   "source": [
    "data_full = '../../data/biased.full'\n",
    "data_train = '../../data/biased.word.train'\n",
    "data_test = '../../data/biased.word.test'\n",
    "data_dev = '../../data/biased.word.dev'"
   ]
  },
  {
   "cell_type": "code",
   "execution_count": 3,
   "metadata": {},
   "outputs": [],
   "source": [
    "#full = pd.read_csv(data_full, sep='\\t', names=[\"id\", \"src_tok\", \"tgt_tok\", \"src_raw\", \"tgt_raw\", \"src_POS_tags\", \"tgt_parse_tags\"], on_bad_lines='skip')\n",
    "train = pd.read_csv(data_train, sep='\\t', names=[\"id\", \"src_tok\", \"tgt_tok\", \"src_raw\", \"tgt_raw\", \"src_POS_tags\", \"tgt_parse_tags\"])\n",
    "test = pd.read_csv(data_test, sep = '\\t', names=[\"id\", \"src_tok\", \"tgt_tok\", \"src_raw\", \"tgt_raw\", \"src_POS_tags\", \"tgt_parse_tags\"])\n",
    "dev = pd.read_csv(data_dev, sep='\\t', names=[\"id\", \"src_tok\", \"tgt_tok\", \"src_raw\", \"tgt_raw\", \"src_POS_tags\", \"tgt_parse_tags\"])"
   ]
  },
  {
   "cell_type": "markdown",
   "metadata": {},
   "source": [
    "checking shape"
   ]
  },
  {
   "cell_type": "code",
   "execution_count": 4,
   "metadata": {},
   "outputs": [
    {
     "name": "stdout",
     "output_type": "stream",
     "text": [
      "(53803, 7)\n",
      "(1000, 7)\n",
      "(700, 7)\n"
     ]
    }
   ],
   "source": [
    "print(train.shape)\n",
    "print(test.shape)\n",
    "print(dev.shape)\n"
   ]
  },
  {
   "cell_type": "code",
   "execution_count": 5,
   "metadata": {},
   "outputs": [
    {
     "data": {
      "text/html": [
       "<div>\n",
       "<style scoped>\n",
       "    .dataframe tbody tr th:only-of-type {\n",
       "        vertical-align: middle;\n",
       "    }\n",
       "\n",
       "    .dataframe tbody tr th {\n",
       "        vertical-align: top;\n",
       "    }\n",
       "\n",
       "    .dataframe thead th {\n",
       "        text-align: right;\n",
       "    }\n",
       "</style>\n",
       "<table border=\"1\" class=\"dataframe\">\n",
       "  <thead>\n",
       "    <tr style=\"text-align: right;\">\n",
       "      <th></th>\n",
       "      <th>id</th>\n",
       "      <th>src_tok</th>\n",
       "      <th>tgt_tok</th>\n",
       "      <th>src_raw</th>\n",
       "      <th>tgt_raw</th>\n",
       "      <th>src_POS_tags</th>\n",
       "      <th>tgt_parse_tags</th>\n",
       "    </tr>\n",
       "  </thead>\n",
       "  <tbody>\n",
       "    <tr>\n",
       "      <th>0</th>\n",
       "      <td>165188319</td>\n",
       "      <td>ch ##lor ##of ##or ##m \" the molecular life ##...</td>\n",
       "      <td>ch ##lor ##of ##or ##m \" the molecular life ##...</td>\n",
       "      <td>chloroform \"the molecular lifesaver\" an articl...</td>\n",
       "      <td>chloroform \"the molecular lifesaver\" an articl...</td>\n",
       "      <td>NOUN NOUN NOUN NOUN NOUN PUNCT DET ADJ NOUN NO...</td>\n",
       "      <td>ROOT ROOT ROOT ROOT ROOT punct det amod dobj d...</td>\n",
       "    </tr>\n",
       "    <tr>\n",
       "      <th>1</th>\n",
       "      <td>123204846</td>\n",
       "      <td>the free software gnu class ##path project is ...</td>\n",
       "      <td>the free software gnu class ##path project is ...</td>\n",
       "      <td>the free software gnu classpath project is onl...</td>\n",
       "      <td>the free software gnu classpath project is par...</td>\n",
       "      <td>DET ADJ NOUN NOUN NOUN NOUN NOUN VERB ADV ADV ...</td>\n",
       "      <td>det amod nmod compound compound compound nsubj...</td>\n",
       "    </tr>\n",
       "    <tr>\n",
       "      <th>2</th>\n",
       "      <td>706783956</td>\n",
       "      <td>other campaign ##ers , especially the controve...</td>\n",
       "      <td>other campaign ##ers , especially the british ...</td>\n",
       "      <td>other campaigners, especially the controversia...</td>\n",
       "      <td>other campaigners, especially the british acti...</td>\n",
       "      <td>ADJ NOUN NOUN PUNCT ADV DET ADJ ADJ NOUN ADJ N...</td>\n",
       "      <td>amod nsubj nsubj punct advmod det amod amod am...</td>\n",
       "    </tr>\n",
       "    <tr>\n",
       "      <th>3</th>\n",
       "      <td>612378448</td>\n",
       "      <td>vocalist rob half ##ord ' s performance is con...</td>\n",
       "      <td>vocalist rob half ##ord ' s performance is con...</td>\n",
       "      <td>vocalist rob halford's performance is consider...</td>\n",
       "      <td>vocalist rob halford's performance is consider...</td>\n",
       "      <td>ADJ X NOUN NOUN PUNCT PART NOUN VERB VERB NUM ...</td>\n",
       "      <td>amod amod poss poss punct case nsubjpass auxpa...</td>\n",
       "    </tr>\n",
       "    <tr>\n",
       "      <th>4</th>\n",
       "      <td>876796337</td>\n",
       "      <td>the proud general is a chinese animated featur...</td>\n",
       "      <td>the proud general is a chinese animated featur...</td>\n",
       "      <td>the proud general is a chinese animated featur...</td>\n",
       "      <td>the proud general is a chinese animated featur...</td>\n",
       "      <td>DET ADJ NOUN VERB DET ADJ VERB NOUN NOUN VERB ...</td>\n",
       "      <td>det amod nsubj ROOT det amod amod attr attr ac...</td>\n",
       "    </tr>\n",
       "  </tbody>\n",
       "</table>\n",
       "</div>"
      ],
      "text/plain": [
       "          id                                            src_tok  \\\n",
       "0  165188319  ch ##lor ##of ##or ##m \" the molecular life ##...   \n",
       "1  123204846  the free software gnu class ##path project is ...   \n",
       "2  706783956  other campaign ##ers , especially the controve...   \n",
       "3  612378448  vocalist rob half ##ord ' s performance is con...   \n",
       "4  876796337  the proud general is a chinese animated featur...   \n",
       "\n",
       "                                             tgt_tok  \\\n",
       "0  ch ##lor ##of ##or ##m \" the molecular life ##...   \n",
       "1  the free software gnu class ##path project is ...   \n",
       "2  other campaign ##ers , especially the british ...   \n",
       "3  vocalist rob half ##ord ' s performance is con...   \n",
       "4  the proud general is a chinese animated featur...   \n",
       "\n",
       "                                             src_raw  \\\n",
       "0  chloroform \"the molecular lifesaver\" an articl...   \n",
       "1  the free software gnu classpath project is onl...   \n",
       "2  other campaigners, especially the controversia...   \n",
       "3  vocalist rob halford's performance is consider...   \n",
       "4  the proud general is a chinese animated featur...   \n",
       "\n",
       "                                             tgt_raw  \\\n",
       "0  chloroform \"the molecular lifesaver\" an articl...   \n",
       "1  the free software gnu classpath project is par...   \n",
       "2  other campaigners, especially the british acti...   \n",
       "3  vocalist rob halford's performance is consider...   \n",
       "4  the proud general is a chinese animated featur...   \n",
       "\n",
       "                                        src_POS_tags  \\\n",
       "0  NOUN NOUN NOUN NOUN NOUN PUNCT DET ADJ NOUN NO...   \n",
       "1  DET ADJ NOUN NOUN NOUN NOUN NOUN VERB ADV ADV ...   \n",
       "2  ADJ NOUN NOUN PUNCT ADV DET ADJ ADJ NOUN ADJ N...   \n",
       "3  ADJ X NOUN NOUN PUNCT PART NOUN VERB VERB NUM ...   \n",
       "4  DET ADJ NOUN VERB DET ADJ VERB NOUN NOUN VERB ...   \n",
       "\n",
       "                                      tgt_parse_tags  \n",
       "0  ROOT ROOT ROOT ROOT ROOT punct det amod dobj d...  \n",
       "1  det amod nmod compound compound compound nsubj...  \n",
       "2  amod nsubj nsubj punct advmod det amod amod am...  \n",
       "3  amod amod poss poss punct case nsubjpass auxpa...  \n",
       "4  det amod nsubj ROOT det amod amod attr attr ac...  "
      ]
     },
     "execution_count": 5,
     "metadata": {},
     "output_type": "execute_result"
    }
   ],
   "source": [
    "train.head()"
   ]
  },
  {
   "cell_type": "markdown",
   "metadata": {},
   "source": [
    "Tokens columns seem to have split words and filled # comapred to the raw text. Therefore inspecting the tokens columns quality with raw text data for different examples in the dataset"
   ]
  },
  {
   "cell_type": "code",
   "execution_count": 6,
   "metadata": {},
   "outputs": [
    {
     "name": "stdout",
     "output_type": "stream",
     "text": [
      "src_tok :  he ##ini ##e  was a popular nickname for german baseball players in the early part of the 20th century .\n",
      "tgt_tok :  he ##ini ##e  was a common nickname for german baseball players in the early part of the 20th century .\n",
      "src_raw : heinie was a popular nickname for german baseball players in the early part of the 20th century.\n",
      "tgt_raw : heinie was a common nickname for german baseball players in the early part of the 20th century.\n",
      "src_POS_tags : PUNCT NOUN NOUN NOUN PUNCT VERB DET ADJ NOUN ADP ADJ NOUN NOUN ADP DET ADJ NOUN ADP DET ADJ NOUN PUNCT\n",
      "tgt_parse_tags : punct nsubj nsubj nsubj punct ROOT det amod attr prep amod compound pobj prep det amod pobj prep det amod pobj punct\n"
     ]
    }
   ],
   "source": [
    "rand_ex = [30,100,150]\n",
    "for col in train.columns[1:len(train.columns)]:\n",
    "\tprint(col,\":\" , train.loc[30,col])"
   ]
  },
  {
   "cell_type": "code",
   "execution_count": 7,
   "metadata": {},
   "outputs": [
    {
     "name": "stdout",
     "output_type": "stream",
     "text": [
      "src_tok : little cow ##po ##ke is the amazing first album by the grammy winning group nickel creek .\n",
      "tgt_tok : little cow ##po ##ke is the first album by the grammy winning group nickel creek .\n",
      "src_raw : little cowpoke is the amazing first album by the grammy winning group nickel creek.\n",
      "tgt_raw : little cowpoke is the first album by the grammy winning group nickel creek.\n",
      "src_POS_tags : ADJ NOUN NOUN NOUN VERB DET ADJ ADJ NOUN ADP DET ADJ VERB NOUN NOUN NOUN PUNCT\n",
      "tgt_parse_tags : amod nsubj nsubj nsubj ROOT det amod amod attr prep det amod compound compound compound pobj punct\n"
     ]
    }
   ],
   "source": [
    "for col in train.columns[1:len(train.columns)]:\n",
    "\tprint(col,\":\" , train.loc[500,col])"
   ]
  },
  {
   "cell_type": "markdown",
   "metadata": {},
   "source": [
    "for some reason, the tokenized data has # values, that don't seem to be meaningful for the task at hand. since we will be contexualizing the words in our modeling. So we will drop these two columns of tokens"
   ]
  },
  {
   "cell_type": "markdown",
   "metadata": {},
   "source": [
    "We will combine the datasets to analyse them all together"
   ]
  },
  {
   "cell_type": "code",
   "execution_count": 8,
   "metadata": {},
   "outputs": [],
   "source": [
    "#dropping the columns \n",
    "train = train.drop(['src_tok', 'tgt_tok','src_POS_tags','tgt_parse_tags'], axis=1)\n",
    "test = test.drop(['src_tok', 'tgt_tok','src_POS_tags','tgt_parse_tags'], axis=1)\n",
    "dev = dev.drop(['src_tok', 'tgt_tok','src_POS_tags','tgt_parse_tags'], axis=1)"
   ]
  },
  {
   "cell_type": "code",
   "execution_count": 9,
   "metadata": {},
   "outputs": [
    {
     "data": {
      "text/html": [
       "<div>\n",
       "<style scoped>\n",
       "    .dataframe tbody tr th:only-of-type {\n",
       "        vertical-align: middle;\n",
       "    }\n",
       "\n",
       "    .dataframe tbody tr th {\n",
       "        vertical-align: top;\n",
       "    }\n",
       "\n",
       "    .dataframe thead th {\n",
       "        text-align: right;\n",
       "    }\n",
       "</style>\n",
       "<table border=\"1\" class=\"dataframe\">\n",
       "  <thead>\n",
       "    <tr style=\"text-align: right;\">\n",
       "      <th></th>\n",
       "      <th>index</th>\n",
       "      <th>id</th>\n",
       "      <th>src_raw</th>\n",
       "      <th>tgt_raw</th>\n",
       "    </tr>\n",
       "  </thead>\n",
       "  <tbody>\n",
       "    <tr>\n",
       "      <th>0</th>\n",
       "      <td>0</td>\n",
       "      <td>165188319</td>\n",
       "      <td>chloroform \"the molecular lifesaver\" an articl...</td>\n",
       "      <td>chloroform \"the molecular lifesaver\" an articl...</td>\n",
       "    </tr>\n",
       "    <tr>\n",
       "      <th>1</th>\n",
       "      <td>1</td>\n",
       "      <td>123204846</td>\n",
       "      <td>the free software gnu classpath project is onl...</td>\n",
       "      <td>the free software gnu classpath project is par...</td>\n",
       "    </tr>\n",
       "    <tr>\n",
       "      <th>2</th>\n",
       "      <td>2</td>\n",
       "      <td>706783956</td>\n",
       "      <td>other campaigners, especially the controversia...</td>\n",
       "      <td>other campaigners, especially the british acti...</td>\n",
       "    </tr>\n",
       "    <tr>\n",
       "      <th>3</th>\n",
       "      <td>3</td>\n",
       "      <td>612378448</td>\n",
       "      <td>vocalist rob halford's performance is consider...</td>\n",
       "      <td>vocalist rob halford's performance is consider...</td>\n",
       "    </tr>\n",
       "    <tr>\n",
       "      <th>4</th>\n",
       "      <td>4</td>\n",
       "      <td>876796337</td>\n",
       "      <td>the proud general is a chinese animated featur...</td>\n",
       "      <td>the proud general is a chinese animated featur...</td>\n",
       "    </tr>\n",
       "    <tr>\n",
       "      <th>...</th>\n",
       "      <td>...</td>\n",
       "      <td>...</td>\n",
       "      <td>...</td>\n",
       "      <td>...</td>\n",
       "    </tr>\n",
       "    <tr>\n",
       "      <th>55498</th>\n",
       "      <td>55498</td>\n",
       "      <td>278865067</td>\n",
       "      <td>in 2008 five pharmaceutical companies have rec...</td>\n",
       "      <td>in 2008 five pharmaceutical companies received...</td>\n",
       "    </tr>\n",
       "    <tr>\n",
       "      <th>55499</th>\n",
       "      <td>55499</td>\n",
       "      <td>245123602</td>\n",
       "      <td>the palm, a famous steakhouse restaurant chain...</td>\n",
       "      <td>the palm, a steakhouse restaurant chain origin...</td>\n",
       "    </tr>\n",
       "    <tr>\n",
       "      <th>55500</th>\n",
       "      <td>55500</td>\n",
       "      <td>473235829</td>\n",
       "      <td>d.c. united's early domination</td>\n",
       "      <td>d.c. united's early successes</td>\n",
       "    </tr>\n",
       "    <tr>\n",
       "      <th>55501</th>\n",
       "      <td>55501</td>\n",
       "      <td>195118995</td>\n",
       "      <td>on 29 june 2007 price gave birth to her third ...</td>\n",
       "      <td>on 29 june 2007 price gave birth to her third ...</td>\n",
       "    </tr>\n",
       "    <tr>\n",
       "      <th>55502</th>\n",
       "      <td>55502</td>\n",
       "      <td>452430218</td>\n",
       "      <td>on 7 april, reuters reported that soldiers loy...</td>\n",
       "      <td>on 7 april, reuters reported that soldiers loy...</td>\n",
       "    </tr>\n",
       "  </tbody>\n",
       "</table>\n",
       "<p>55503 rows × 4 columns</p>\n",
       "</div>"
      ],
      "text/plain": [
       "       index         id                                            src_raw  \\\n",
       "0          0  165188319  chloroform \"the molecular lifesaver\" an articl...   \n",
       "1          1  123204846  the free software gnu classpath project is onl...   \n",
       "2          2  706783956  other campaigners, especially the controversia...   \n",
       "3          3  612378448  vocalist rob halford's performance is consider...   \n",
       "4          4  876796337  the proud general is a chinese animated featur...   \n",
       "...      ...        ...                                                ...   \n",
       "55498  55498  278865067  in 2008 five pharmaceutical companies have rec...   \n",
       "55499  55499  245123602  the palm, a famous steakhouse restaurant chain...   \n",
       "55500  55500  473235829                     d.c. united's early domination   \n",
       "55501  55501  195118995  on 29 june 2007 price gave birth to her third ...   \n",
       "55502  55502  452430218  on 7 april, reuters reported that soldiers loy...   \n",
       "\n",
       "                                                 tgt_raw  \n",
       "0      chloroform \"the molecular lifesaver\" an articl...  \n",
       "1      the free software gnu classpath project is par...  \n",
       "2      other campaigners, especially the british acti...  \n",
       "3      vocalist rob halford's performance is consider...  \n",
       "4      the proud general is a chinese animated featur...  \n",
       "...                                                  ...  \n",
       "55498  in 2008 five pharmaceutical companies received...  \n",
       "55499  the palm, a steakhouse restaurant chain origin...  \n",
       "55500                      d.c. united's early successes  \n",
       "55501  on 29 june 2007 price gave birth to her third ...  \n",
       "55502  on 7 april, reuters reported that soldiers loy...  \n",
       "\n",
       "[55503 rows x 4 columns]"
      ]
     },
     "execution_count": 9,
     "metadata": {},
     "output_type": "execute_result"
    }
   ],
   "source": [
    "data = pd.concat([train,test,dev],ignore_index=True)\n",
    "data.reset_index()"
   ]
  },
  {
   "cell_type": "code",
   "execution_count": 10,
   "metadata": {},
   "outputs": [
    {
     "name": "stdout",
     "output_type": "stream",
     "text": [
      "(55503, 3)\n"
     ]
    }
   ],
   "source": [
    "print(data.shape)"
   ]
  },
  {
   "cell_type": "code",
   "execution_count": 11,
   "metadata": {},
   "outputs": [
    {
     "data": {
      "text/html": [
       "<div>\n",
       "<style scoped>\n",
       "    .dataframe tbody tr th:only-of-type {\n",
       "        vertical-align: middle;\n",
       "    }\n",
       "\n",
       "    .dataframe tbody tr th {\n",
       "        vertical-align: top;\n",
       "    }\n",
       "\n",
       "    .dataframe thead th {\n",
       "        text-align: right;\n",
       "    }\n",
       "</style>\n",
       "<table border=\"1\" class=\"dataframe\">\n",
       "  <thead>\n",
       "    <tr style=\"text-align: right;\">\n",
       "      <th></th>\n",
       "      <th>id</th>\n",
       "      <th>src_raw</th>\n",
       "      <th>tgt_raw</th>\n",
       "    </tr>\n",
       "  </thead>\n",
       "  <tbody>\n",
       "    <tr>\n",
       "      <th>0</th>\n",
       "      <td>165188319</td>\n",
       "      <td>chloroform \"the molecular lifesaver\" an articl...</td>\n",
       "      <td>chloroform \"the molecular lifesaver\" an articl...</td>\n",
       "    </tr>\n",
       "    <tr>\n",
       "      <th>1</th>\n",
       "      <td>123204846</td>\n",
       "      <td>the free software gnu classpath project is onl...</td>\n",
       "      <td>the free software gnu classpath project is par...</td>\n",
       "    </tr>\n",
       "    <tr>\n",
       "      <th>2</th>\n",
       "      <td>706783956</td>\n",
       "      <td>other campaigners, especially the controversia...</td>\n",
       "      <td>other campaigners, especially the british acti...</td>\n",
       "    </tr>\n",
       "    <tr>\n",
       "      <th>3</th>\n",
       "      <td>612378448</td>\n",
       "      <td>vocalist rob halford's performance is consider...</td>\n",
       "      <td>vocalist rob halford's performance is consider...</td>\n",
       "    </tr>\n",
       "    <tr>\n",
       "      <th>4</th>\n",
       "      <td>876796337</td>\n",
       "      <td>the proud general is a chinese animated featur...</td>\n",
       "      <td>the proud general is a chinese animated featur...</td>\n",
       "    </tr>\n",
       "  </tbody>\n",
       "</table>\n",
       "</div>"
      ],
      "text/plain": [
       "          id                                            src_raw  \\\n",
       "0  165188319  chloroform \"the molecular lifesaver\" an articl...   \n",
       "1  123204846  the free software gnu classpath project is onl...   \n",
       "2  706783956  other campaigners, especially the controversia...   \n",
       "3  612378448  vocalist rob halford's performance is consider...   \n",
       "4  876796337  the proud general is a chinese animated featur...   \n",
       "\n",
       "                                             tgt_raw  \n",
       "0  chloroform \"the molecular lifesaver\" an articl...  \n",
       "1  the free software gnu classpath project is par...  \n",
       "2  other campaigners, especially the british acti...  \n",
       "3  vocalist rob halford's performance is consider...  \n",
       "4  the proud general is a chinese animated featur...  "
      ]
     },
     "execution_count": 11,
     "metadata": {},
     "output_type": "execute_result"
    }
   ],
   "source": [
    "data.head()"
   ]
  },
  {
   "cell_type": "code",
   "execution_count": 12,
   "metadata": {},
   "outputs": [
    {
     "data": {
      "text/plain": [
       "id         object\n",
       "src_raw    object\n",
       "tgt_raw    object\n",
       "dtype: object"
      ]
     },
     "execution_count": 12,
     "metadata": {},
     "output_type": "execute_result"
    }
   ],
   "source": [
    "data.dtypes"
   ]
  },
  {
   "cell_type": "markdown",
   "metadata": {},
   "source": [
    "Check for duplicates using id column"
   ]
  },
  {
   "cell_type": "code",
   "execution_count": 13,
   "metadata": {},
   "outputs": [
    {
     "name": "stdout",
     "output_type": "stream",
     "text": [
      "55503\n"
     ]
    },
    {
     "data": {
      "text/plain": [
       "55497"
      ]
     },
     "execution_count": 13,
     "metadata": {},
     "output_type": "execute_result"
    }
   ],
   "source": [
    "ids = data['id']\n",
    "print(len(ids))\n",
    "len((ids.unique()))"
   ]
  },
  {
   "cell_type": "markdown",
   "metadata": {},
   "source": [
    "total 6 duplicates. Inspect them"
   ]
  },
  {
   "cell_type": "code",
   "execution_count": 14,
   "metadata": {},
   "outputs": [
    {
     "data": {
      "text/plain": [
       "array([649752518, 232695029, 241894774, 674355053, 243772559, 170782428],\n",
       "      dtype=object)"
      ]
     },
     "execution_count": 14,
     "metadata": {},
     "output_type": "execute_result"
    }
   ],
   "source": [
    "duplicate_ids = data['id'][data['id'].duplicated()]\n",
    "duplicate_ids = duplicate_ids.to_numpy()\n",
    "duplicate_ids"
   ]
  },
  {
   "cell_type": "code",
   "execution_count": 15,
   "metadata": {},
   "outputs": [
    {
     "data": {
      "text/html": [
       "<div>\n",
       "<style scoped>\n",
       "    .dataframe tbody tr th:only-of-type {\n",
       "        vertical-align: middle;\n",
       "    }\n",
       "\n",
       "    .dataframe tbody tr th {\n",
       "        vertical-align: top;\n",
       "    }\n",
       "\n",
       "    .dataframe thead th {\n",
       "        text-align: right;\n",
       "    }\n",
       "</style>\n",
       "<table border=\"1\" class=\"dataframe\">\n",
       "  <thead>\n",
       "    <tr style=\"text-align: right;\">\n",
       "      <th></th>\n",
       "      <th>id</th>\n",
       "      <th>src_raw</th>\n",
       "      <th>tgt_raw</th>\n",
       "    </tr>\n",
       "  </thead>\n",
       "  <tbody>\n",
       "    <tr>\n",
       "      <th>15151</th>\n",
       "      <td>170782428</td>\n",
       "      <td>to complete the lineup on their first full-len...</td>\n",
       "      <td>to complete the lineup on their first full-len...</td>\n",
       "    </tr>\n",
       "    <tr>\n",
       "      <th>47781</th>\n",
       "      <td>170782428</td>\n",
       "      <td>full of the brothers' pop culture obsessions, ...</td>\n",
       "      <td>full of the brothers' pop culture obsessions, ...</td>\n",
       "    </tr>\n",
       "    <tr>\n",
       "      <th>9959</th>\n",
       "      <td>232695029</td>\n",
       "      <td>the armstrongs and fine served jail time, a co...</td>\n",
       "      <td>the armstrongs and fine served jail time, a co...</td>\n",
       "    </tr>\n",
       "    <tr>\n",
       "      <th>16053</th>\n",
       "      <td>232695029</td>\n",
       "      <td>investigators believe that four people were in...</td>\n",
       "      <td>investigators believe that four people were in...</td>\n",
       "    </tr>\n",
       "    <tr>\n",
       "      <th>7086</th>\n",
       "      <td>241894774</td>\n",
       "      <td>in addition, they all famously wear purity rin...</td>\n",
       "      <td>in addition, they all famously wear purity rin...</td>\n",
       "    </tr>\n",
       "    <tr>\n",
       "      <th>44713</th>\n",
       "      <td>241894774</td>\n",
       "      <td>they also abstain from alcohol, tobacco, and d...</td>\n",
       "      <td>they also report abstaing from alcohol, tobacc...</td>\n",
       "    </tr>\n",
       "    <tr>\n",
       "      <th>20547</th>\n",
       "      <td>243772559</td>\n",
       "      <td>pettitte ended up getting the victory in the g...</td>\n",
       "      <td>pettitte ended up getting the victory in the g...</td>\n",
       "    </tr>\n",
       "    <tr>\n",
       "      <th>47039</th>\n",
       "      <td>243772559</td>\n",
       "      <td>he recorded his 2, 000 career strikeout in the...</td>\n",
       "      <td>he recorded his 2, 000th career strikeout in t...</td>\n",
       "    </tr>\n",
       "    <tr>\n",
       "      <th>15269</th>\n",
       "      <td>649752518</td>\n",
       "      <td>madeleine buckingham has served as chief execu...</td>\n",
       "      <td>madeleine buckingham has served as chief execu...</td>\n",
       "    </tr>\n",
       "    <tr>\n",
       "      <th>15560</th>\n",
       "      <td>649752518</td>\n",
       "      <td>mother jones (abbreviated mojo) is a far-left ...</td>\n",
       "      <td>mother jones (abbreviated mojo) is a american ...</td>\n",
       "    </tr>\n",
       "    <tr>\n",
       "      <th>26400</th>\n",
       "      <td>674355053</td>\n",
       "      <td>experts in branding and marketing, such as wen...</td>\n",
       "      <td>professionals in branding and marketing, such ...</td>\n",
       "    </tr>\n",
       "    <tr>\n",
       "      <th>46335</th>\n",
       "      <td>674355053</td>\n",
       "      <td>viewed as a brand, hillary clinton is well est...</td>\n",
       "      <td>viewed as a brand, hillary clinton is consider...</td>\n",
       "    </tr>\n",
       "  </tbody>\n",
       "</table>\n",
       "</div>"
      ],
      "text/plain": [
       "              id                                            src_raw  \\\n",
       "15151  170782428  to complete the lineup on their first full-len...   \n",
       "47781  170782428  full of the brothers' pop culture obsessions, ...   \n",
       "9959   232695029  the armstrongs and fine served jail time, a co...   \n",
       "16053  232695029  investigators believe that four people were in...   \n",
       "7086   241894774  in addition, they all famously wear purity rin...   \n",
       "44713  241894774  they also abstain from alcohol, tobacco, and d...   \n",
       "20547  243772559  pettitte ended up getting the victory in the g...   \n",
       "47039  243772559  he recorded his 2, 000 career strikeout in the...   \n",
       "15269  649752518  madeleine buckingham has served as chief execu...   \n",
       "15560  649752518  mother jones (abbreviated mojo) is a far-left ...   \n",
       "26400  674355053  experts in branding and marketing, such as wen...   \n",
       "46335  674355053  viewed as a brand, hillary clinton is well est...   \n",
       "\n",
       "                                                 tgt_raw  \n",
       "15151  to complete the lineup on their first full-len...  \n",
       "47781  full of the brothers' pop culture obsessions, ...  \n",
       "9959   the armstrongs and fine served jail time, a co...  \n",
       "16053  investigators believe that four people were in...  \n",
       "7086   in addition, they all famously wear purity rin...  \n",
       "44713  they also report abstaing from alcohol, tobacc...  \n",
       "20547  pettitte ended up getting the victory in the g...  \n",
       "47039  he recorded his 2, 000th career strikeout in t...  \n",
       "15269  madeleine buckingham has served as chief execu...  \n",
       "15560  mother jones (abbreviated mojo) is a american ...  \n",
       "26400  professionals in branding and marketing, such ...  \n",
       "46335  viewed as a brand, hillary clinton is consider...  "
      ]
     },
     "execution_count": 15,
     "metadata": {},
     "output_type": "execute_result"
    }
   ],
   "source": [
    "duplicate_data = data.loc[data['id'].isin(duplicate_ids)]\n",
    "duplicate_data.sort_values('id')"
   ]
  },
  {
   "cell_type": "markdown",
   "metadata": {},
   "source": [
    "these are different examples but with the same ids. Hence we will drop the column as it seems to be a bad data"
   ]
  },
  {
   "cell_type": "code",
   "execution_count": 16,
   "metadata": {},
   "outputs": [],
   "source": [
    "data = data.drop('id',axis=1)"
   ]
  },
  {
   "cell_type": "markdown",
   "metadata": {},
   "source": [
    "let's check these ids"
   ]
  },
  {
   "cell_type": "markdown",
   "metadata": {},
   "source": [
    "Let's check the length distribution of the texts"
   ]
  },
  {
   "cell_type": "code",
   "execution_count": 17,
   "metadata": {},
   "outputs": [],
   "source": [
    "data['src_raw'] = data['src_raw'].astype(str)\n",
    "data['tgt_raw'] = data['tgt_raw'].astype(str)"
   ]
  },
  {
   "cell_type": "code",
   "execution_count": 18,
   "metadata": {},
   "outputs": [],
   "source": [
    "# Create a new column to count the number of words in each string\n",
    "data['src_len'] =  data['src_raw'].apply(lambda x: len(x.split()))\n",
    "data['tgt_len'] =  data['tgt_raw'].apply(lambda x: len(x.split()))\n"
   ]
  },
  {
   "cell_type": "code",
   "execution_count": 19,
   "metadata": {},
   "outputs": [
    {
     "data": {
      "text/html": [
       "<div>\n",
       "<style scoped>\n",
       "    .dataframe tbody tr th:only-of-type {\n",
       "        vertical-align: middle;\n",
       "    }\n",
       "\n",
       "    .dataframe tbody tr th {\n",
       "        vertical-align: top;\n",
       "    }\n",
       "\n",
       "    .dataframe thead th {\n",
       "        text-align: right;\n",
       "    }\n",
       "</style>\n",
       "<table border=\"1\" class=\"dataframe\">\n",
       "  <thead>\n",
       "    <tr style=\"text-align: right;\">\n",
       "      <th></th>\n",
       "      <th>src_raw</th>\n",
       "      <th>tgt_raw</th>\n",
       "      <th>src_len</th>\n",
       "      <th>tgt_len</th>\n",
       "    </tr>\n",
       "  </thead>\n",
       "  <tbody>\n",
       "    <tr>\n",
       "      <th>0</th>\n",
       "      <td>chloroform \"the molecular lifesaver\" an articl...</td>\n",
       "      <td>chloroform \"the molecular lifesaver\" an articl...</td>\n",
       "      <td>14</td>\n",
       "      <td>13</td>\n",
       "    </tr>\n",
       "    <tr>\n",
       "      <th>1</th>\n",
       "      <td>the free software gnu classpath project is onl...</td>\n",
       "      <td>the free software gnu classpath project is par...</td>\n",
       "      <td>17</td>\n",
       "      <td>16</td>\n",
       "    </tr>\n",
       "    <tr>\n",
       "      <th>2</th>\n",
       "      <td>other campaigners, especially the controversia...</td>\n",
       "      <td>other campaigners, especially the british acti...</td>\n",
       "      <td>19</td>\n",
       "      <td>18</td>\n",
       "    </tr>\n",
       "    <tr>\n",
       "      <th>3</th>\n",
       "      <td>vocalist rob halford's performance is consider...</td>\n",
       "      <td>vocalist rob halford's performance is consider...</td>\n",
       "      <td>26</td>\n",
       "      <td>25</td>\n",
       "    </tr>\n",
       "    <tr>\n",
       "      <th>4</th>\n",
       "      <td>the proud general is a chinese animated featur...</td>\n",
       "      <td>the proud general is a chinese animated featur...</td>\n",
       "      <td>20</td>\n",
       "      <td>19</td>\n",
       "    </tr>\n",
       "  </tbody>\n",
       "</table>\n",
       "</div>"
      ],
      "text/plain": [
       "                                             src_raw  \\\n",
       "0  chloroform \"the molecular lifesaver\" an articl...   \n",
       "1  the free software gnu classpath project is onl...   \n",
       "2  other campaigners, especially the controversia...   \n",
       "3  vocalist rob halford's performance is consider...   \n",
       "4  the proud general is a chinese animated featur...   \n",
       "\n",
       "                                             tgt_raw  src_len  tgt_len  \n",
       "0  chloroform \"the molecular lifesaver\" an articl...       14       13  \n",
       "1  the free software gnu classpath project is par...       17       16  \n",
       "2  other campaigners, especially the british acti...       19       18  \n",
       "3  vocalist rob halford's performance is consider...       26       25  \n",
       "4  the proud general is a chinese animated featur...       20       19  "
      ]
     },
     "execution_count": 19,
     "metadata": {},
     "output_type": "execute_result"
    }
   ],
   "source": [
    "data.head()"
   ]
  },
  {
   "cell_type": "code",
   "execution_count": 20,
   "metadata": {},
   "outputs": [
    {
     "data": {
      "image/png": "[encoded data removed]",
      "text/plain": [
       "<Figure size 500x500 with 1 Axes>"
      ]
     },
     "metadata": {},
     "output_type": "display_data"
    },
    {
     "data": {
      "image/png": "[encoded data removed]",
      "text/plain": [
       "<Figure size 500x500 with 1 Axes>"
      ]
     },
     "metadata": {},
     "output_type": "display_data"
    }
   ],
   "source": [
    "sns.displot(data=data, x = 'src_len')\n",
    "sns.displot(data=data, x = 'tgt_len')\n",
    "plt.show()"
   ]
  },
  {
   "cell_type": "code",
   "execution_count": 21,
   "metadata": {},
   "outputs": [
    {
     "data": {
      "image/png": "[encoded data removed]",
      "text/plain": [
       "<Figure size 600x600 with 3 Axes>"
      ]
     },
     "metadata": {},
     "output_type": "display_data"
    }
   ],
   "source": [
    "sns.jointplot(data=data, x = 'src_len', y = 'tgt_len')\n",
    "plt.show()"
   ]
  },
  {
   "cell_type": "markdown",
   "metadata": {},
   "source": [
    "Mostly the source and target lengths are similar as linearity suggests, suggesting that most eidts are just 1-2 words. \n",
    "There also slight deviances, some examples with lengths close to zero, and some examples with very high lengths. Those with very high length seem to be outliers. We might have to remove them in preprocessing. Let's check them out"
   ]
  },
  {
   "cell_type": "markdown",
   "metadata": {},
   "source": [
    "near zero lengths"
   ]
  },
  {
   "cell_type": "code",
   "execution_count": 22,
   "metadata": {},
   "outputs": [
    {
     "data": {
      "text/plain": [
       "2"
      ]
     },
     "execution_count": 22,
     "metadata": {},
     "output_type": "execute_result"
    }
   ],
   "source": [
    "#getting minimum legth\n",
    "data['src_len'].min()"
   ]
  },
  {
   "cell_type": "code",
   "execution_count": 23,
   "metadata": {},
   "outputs": [
    {
     "data": {
      "text/html": [
       "<div>\n",
       "<style scoped>\n",
       "    .dataframe tbody tr th:only-of-type {\n",
       "        vertical-align: middle;\n",
       "    }\n",
       "\n",
       "    .dataframe tbody tr th {\n",
       "        vertical-align: top;\n",
       "    }\n",
       "\n",
       "    .dataframe thead th {\n",
       "        text-align: right;\n",
       "    }\n",
       "</style>\n",
       "<table border=\"1\" class=\"dataframe\">\n",
       "  <thead>\n",
       "    <tr style=\"text-align: right;\">\n",
       "      <th></th>\n",
       "      <th>src_raw</th>\n",
       "      <th>tgt_raw</th>\n",
       "      <th>src_len</th>\n",
       "      <th>tgt_len</th>\n",
       "    </tr>\n",
       "  </thead>\n",
       "  <tbody>\n",
       "    <tr>\n",
       "      <th>967</th>\n",
       "      <td>!bgcolor=\"#c0c0c0\"| northwestern</td>\n",
       "      <td>!bgcolor=\"#c0c0c0\"| northwestren</td>\n",
       "      <td>2</td>\n",
       "      <td>2</td>\n",
       "    </tr>\n",
       "    <tr>\n",
       "      <th>1457</th>\n",
       "      <td>category:mormonism-related controversies</td>\n",
       "      <td>category:mormonism-related criticism</td>\n",
       "      <td>2</td>\n",
       "      <td>2</td>\n",
       "    </tr>\n",
       "    <tr>\n",
       "      <th>1914</th>\n",
       "      <td>redirect copy_protection</td>\n",
       "      <td>redirect copy prevention</td>\n",
       "      <td>2</td>\n",
       "      <td>3</td>\n",
       "    </tr>\n",
       "    <tr>\n",
       "      <th>5839</th>\n",
       "      <td>obama-ayers connection</td>\n",
       "      <td>obama-ayers controversy</td>\n",
       "      <td>2</td>\n",
       "      <td>2</td>\n",
       "    </tr>\n",
       "    <tr>\n",
       "      <th>7361</th>\n",
       "      <td>invasion (710756)</td>\n",
       "      <td>conquest (710756)</td>\n",
       "      <td>2</td>\n",
       "      <td>2</td>\n",
       "    </tr>\n",
       "    <tr>\n",
       "      <th>7937</th>\n",
       "      <td>post-trips expansionism</td>\n",
       "      <td>post-trips expansion</td>\n",
       "      <td>2</td>\n",
       "      <td>2</td>\n",
       "    </tr>\n",
       "    <tr>\n",
       "      <th>10185</th>\n",
       "      <td>redirect human_rights_situation_in_saddam's_iraq</td>\n",
       "      <td>redirect human rights situation in iraq</td>\n",
       "      <td>2</td>\n",
       "      <td>6</td>\n",
       "    </tr>\n",
       "    <tr>\n",
       "      <th>13491</th>\n",
       "      <td>non-mainstream hypotheses</td>\n",
       "      <td>fringe hypotheses</td>\n",
       "      <td>2</td>\n",
       "      <td>2</td>\n",
       "    </tr>\n",
       "    <tr>\n",
       "      <th>14318</th>\n",
       "      <td>anarcho-capitalism sic</td>\n",
       "      <td>anarcho-capitalism</td>\n",
       "      <td>2</td>\n",
       "      <td>1</td>\n",
       "    </tr>\n",
       "    <tr>\n",
       "      <th>15513</th>\n",
       "      <td>197988: superstardom</td>\n",
       "      <td>197988: stardom</td>\n",
       "      <td>2</td>\n",
       "      <td>2</td>\n",
       "    </tr>\n",
       "    <tr>\n",
       "      <th>15658</th>\n",
       "      <td>non-circumcised penis.</td>\n",
       "      <td>uncircumcised penis.</td>\n",
       "      <td>2</td>\n",
       "      <td>2</td>\n",
       "    </tr>\n",
       "    <tr>\n",
       "      <th>16040</th>\n",
       "      <td>thumbnail|baby praying</td>\n",
       "      <td>thumbnail|baby with folded hands</td>\n",
       "      <td>2</td>\n",
       "      <td>4</td>\n",
       "    </tr>\n",
       "    <tr>\n",
       "      <th>23445</th>\n",
       "      <td>unorthodox trinitarianism</td>\n",
       "      <td>non-orthodox trinitarianism</td>\n",
       "      <td>2</td>\n",
       "      <td>2</td>\n",
       "    </tr>\n",
       "    <tr>\n",
       "      <th>25302</th>\n",
       "      <td>al-durrah's life</td>\n",
       "      <td>al-durrah's family</td>\n",
       "      <td>2</td>\n",
       "      <td>2</td>\n",
       "    </tr>\n",
       "    <tr>\n",
       "      <th>25797</th>\n",
       "      <td>perso-roman subjugation</td>\n",
       "      <td>perso-roman rule</td>\n",
       "      <td>2</td>\n",
       "      <td>2</td>\n",
       "    </tr>\n",
       "    <tr>\n",
       "      <th>25857</th>\n",
       "      <td>style=\"width:12%;\"| killer</td>\n",
       "      <td>style=\"width:12%;\"| origin of missile</td>\n",
       "      <td>2</td>\n",
       "      <td>4</td>\n",
       "    </tr>\n",
       "    <tr>\n",
       "      <th>28629</th>\n",
       "      <td>anti- freemasonry</td>\n",
       "      <td>position on freemasonry</td>\n",
       "      <td>2</td>\n",
       "      <td>3</td>\n",
       "    </tr>\n",
       "    <tr>\n",
       "      <th>28693</th>\n",
       "      <td>famous globsters</td>\n",
       "      <td>notable globsters</td>\n",
       "      <td>2</td>\n",
       "      <td>2</td>\n",
       "    </tr>\n",
       "    <tr>\n",
       "      <th>33478</th>\n",
       "      <td>redirect korsian</td>\n",
       "      <td>redirect kosian</td>\n",
       "      <td>2</td>\n",
       "      <td>2</td>\n",
       "    </tr>\n",
       "    <tr>\n",
       "      <th>34760</th>\n",
       "      <td>cameraman's story</td>\n",
       "      <td>cameraman's testimony</td>\n",
       "      <td>2</td>\n",
       "      <td>2</td>\n",
       "    </tr>\n",
       "    <tr>\n",
       "      <th>35802</th>\n",
       "      <td>bilabial !!alveolar!</td>\n",
       "      <td>labial !!alveolar!</td>\n",
       "      <td>2</td>\n",
       "      <td>2</td>\n",
       "    </tr>\n",
       "    <tr>\n",
       "      <th>36043</th>\n",
       "      <td>methamphetamine abuse</td>\n",
       "      <td>methamphetamine</td>\n",
       "      <td>2</td>\n",
       "      <td>1</td>\n",
       "    </tr>\n",
       "    <tr>\n",
       "      <th>36142</th>\n",
       "      <td>{{infobox assassin</td>\n",
       "      <td>{{infobox criminal</td>\n",
       "      <td>2</td>\n",
       "      <td>2</td>\n",
       "    </tr>\n",
       "    <tr>\n",
       "      <th>36247</th>\n",
       "      <td>success (2000-2008)</td>\n",
       "      <td>breakout (2000-2008)</td>\n",
       "      <td>2</td>\n",
       "      <td>2</td>\n",
       "    </tr>\n",
       "    <tr>\n",
       "      <th>36599</th>\n",
       "      <td>carmona's dictatorship</td>\n",
       "      <td>carmona's regime</td>\n",
       "      <td>2</td>\n",
       "      <td>2</td>\n",
       "    </tr>\n",
       "    <tr>\n",
       "      <th>36754</th>\n",
       "      <td>uncircumcised penis.</td>\n",
       "      <td>non-circumcised penis.</td>\n",
       "      <td>2</td>\n",
       "      <td>2</td>\n",
       "    </tr>\n",
       "    <tr>\n",
       "      <th>40391</th>\n",
       "      <td>trojan.fakealert.5 fiasco</td>\n",
       "      <td>trojan.fakealert.5 problem</td>\n",
       "      <td>2</td>\n",
       "      <td>2</td>\n",
       "    </tr>\n",
       "    <tr>\n",
       "      <th>40553</th>\n",
       "      <td>revisionist hypotheses</td>\n",
       "      <td>afrocentric hypotheses</td>\n",
       "      <td>2</td>\n",
       "      <td>2</td>\n",
       "    </tr>\n",
       "    <tr>\n",
       "      <th>43642</th>\n",
       "      <td>astroturfing fines</td>\n",
       "      <td>astroturfing charges</td>\n",
       "      <td>2</td>\n",
       "      <td>2</td>\n",
       "    </tr>\n",
       "    <tr>\n",
       "      <th>44738</th>\n",
       "      <td>premature decommissioning</td>\n",
       "      <td>early decommissioning</td>\n",
       "      <td>2</td>\n",
       "      <td>2</td>\n",
       "    </tr>\n",
       "    <tr>\n",
       "      <th>45419</th>\n",
       "      <td>bioficial (1991-06-01)</td>\n",
       "      <td>neutral (1991-06-01)</td>\n",
       "      <td>2</td>\n",
       "      <td>2</td>\n",
       "    </tr>\n",
       "    <tr>\n",
       "      <th>47005</th>\n",
       "      <td>alleged plagiarism</td>\n",
       "      <td>charges of plagiarism</td>\n",
       "      <td>2</td>\n",
       "      <td>3</td>\n",
       "    </tr>\n",
       "    <tr>\n",
       "      <th>47494</th>\n",
       "      <td>boscovich's nationality</td>\n",
       "      <td>boscovich's legacy</td>\n",
       "      <td>2</td>\n",
       "      <td>2</td>\n",
       "    </tr>\n",
       "    <tr>\n",
       "      <th>48883</th>\n",
       "      <td>socioecenomic success</td>\n",
       "      <td>socioecenomic status</td>\n",
       "      <td>2</td>\n",
       "      <td>2</td>\n",
       "    </tr>\n",
       "    <tr>\n",
       "      <th>49675</th>\n",
       "      <td>fringe hypotheses</td>\n",
       "      <td>non-mainstream hypotheses</td>\n",
       "      <td>2</td>\n",
       "      <td>2</td>\n",
       "    </tr>\n",
       "    <tr>\n",
       "      <th>51986</th>\n",
       "      <td>(1982-), comedienne</td>\n",
       "      <td>(1982-), comedian</td>\n",
       "      <td>2</td>\n",
       "      <td>2</td>\n",
       "    </tr>\n",
       "    <tr>\n",
       "      <th>52150</th>\n",
       "      <td>{{infobox criminal</td>\n",
       "      <td>{{infobox writer</td>\n",
       "      <td>2</td>\n",
       "      <td>2</td>\n",
       "    </tr>\n",
       "    <tr>\n",
       "      <th>54081</th>\n",
       "      <td>our jehovah)</td>\n",
       "      <td>jehovah)</td>\n",
       "      <td>2</td>\n",
       "      <td>1</td>\n",
       "    </tr>\n",
       "    <tr>\n",
       "      <th>55147</th>\n",
       "      <td>stintz's rebellion</td>\n",
       "      <td>stintz's alternative</td>\n",
       "      <td>2</td>\n",
       "      <td>2</td>\n",
       "    </tr>\n",
       "  </tbody>\n",
       "</table>\n",
       "</div>"
      ],
      "text/plain": [
       "                                                src_raw  \\\n",
       "967                    !bgcolor=\"#c0c0c0\"| northwestern   \n",
       "1457           category:mormonism-related controversies   \n",
       "1914                           redirect copy_protection   \n",
       "5839                             obama-ayers connection   \n",
       "7361                                  invasion (710756)   \n",
       "7937                            post-trips expansionism   \n",
       "10185  redirect human_rights_situation_in_saddam's_iraq   \n",
       "13491                         non-mainstream hypotheses   \n",
       "14318                            anarcho-capitalism sic   \n",
       "15513                              197988: superstardom   \n",
       "15658                            non-circumcised penis.   \n",
       "16040                            thumbnail|baby praying   \n",
       "23445                         unorthodox trinitarianism   \n",
       "25302                                  al-durrah's life   \n",
       "25797                           perso-roman subjugation   \n",
       "25857                        style=\"width:12%;\"| killer   \n",
       "28629                                 anti- freemasonry   \n",
       "28693                                  famous globsters   \n",
       "33478                                  redirect korsian   \n",
       "34760                                 cameraman's story   \n",
       "35802                              bilabial !!alveolar!   \n",
       "36043                             methamphetamine abuse   \n",
       "36142                                {{infobox assassin   \n",
       "36247                               success (2000-2008)   \n",
       "36599                            carmona's dictatorship   \n",
       "36754                              uncircumcised penis.   \n",
       "40391                         trojan.fakealert.5 fiasco   \n",
       "40553                            revisionist hypotheses   \n",
       "43642                                astroturfing fines   \n",
       "44738                         premature decommissioning   \n",
       "45419                            bioficial (1991-06-01)   \n",
       "47005                                alleged plagiarism   \n",
       "47494                           boscovich's nationality   \n",
       "48883                             socioecenomic success   \n",
       "49675                                 fringe hypotheses   \n",
       "51986                               (1982-), comedienne   \n",
       "52150                                {{infobox criminal   \n",
       "54081                                      our jehovah)   \n",
       "55147                                stintz's rebellion   \n",
       "\n",
       "                                       tgt_raw  src_len  tgt_len  \n",
       "967           !bgcolor=\"#c0c0c0\"| northwestren        2        2  \n",
       "1457      category:mormonism-related criticism        2        2  \n",
       "1914                  redirect copy prevention        2        3  \n",
       "5839                   obama-ayers controversy        2        2  \n",
       "7361                         conquest (710756)        2        2  \n",
       "7937                      post-trips expansion        2        2  \n",
       "10185  redirect human rights situation in iraq        2        6  \n",
       "13491                        fringe hypotheses        2        2  \n",
       "14318                       anarcho-capitalism        2        1  \n",
       "15513                          197988: stardom        2        2  \n",
       "15658                     uncircumcised penis.        2        2  \n",
       "16040         thumbnail|baby with folded hands        2        4  \n",
       "23445              non-orthodox trinitarianism        2        2  \n",
       "25302                       al-durrah's family        2        2  \n",
       "25797                         perso-roman rule        2        2  \n",
       "25857    style=\"width:12%;\"| origin of missile        2        4  \n",
       "28629                  position on freemasonry        2        3  \n",
       "28693                        notable globsters        2        2  \n",
       "33478                          redirect kosian        2        2  \n",
       "34760                    cameraman's testimony        2        2  \n",
       "35802                       labial !!alveolar!        2        2  \n",
       "36043                          methamphetamine        2        1  \n",
       "36142                       {{infobox criminal        2        2  \n",
       "36247                     breakout (2000-2008)        2        2  \n",
       "36599                         carmona's regime        2        2  \n",
       "36754                   non-circumcised penis.        2        2  \n",
       "40391               trojan.fakealert.5 problem        2        2  \n",
       "40553                   afrocentric hypotheses        2        2  \n",
       "43642                     astroturfing charges        2        2  \n",
       "44738                    early decommissioning        2        2  \n",
       "45419                     neutral (1991-06-01)        2        2  \n",
       "47005                    charges of plagiarism        2        3  \n",
       "47494                       boscovich's legacy        2        2  \n",
       "48883                     socioecenomic status        2        2  \n",
       "49675                non-mainstream hypotheses        2        2  \n",
       "51986                        (1982-), comedian        2        2  \n",
       "52150                         {{infobox writer        2        2  \n",
       "54081                                 jehovah)        2        1  \n",
       "55147                     stintz's alternative        2        2  "
      ]
     },
     "execution_count": 23,
     "metadata": {},
     "output_type": "execute_result"
    }
   ],
   "source": [
    "#check a few examples\n",
    "data.loc[data['src_len'] == 2]"
   ]
  },
  {
   "cell_type": "markdown",
   "metadata": {},
   "source": [
    "some examples are strange due to some encoded elements added to them, such as \"!bgcolor=\"#c0c0c0\"| northwestern\",\"style=\"width:12%;\"| killer\"\n",
    "some examples have 'glued' words, such as \"human_rights_situation_in_saddam's_iraq\", \"redirect copy_protection\"\n",
    "\n",
    "\n",
    "We Will not treat them as of yet. We will still go ahead with the modeling bit. If the perfromance is poor, we shall put in the necessary efforts, depending on the model to be used to do the data cleaning.\n",
    "\n"
   ]
  },
  {
   "cell_type": "markdown",
   "metadata": {},
   "source": [
    "We can check these words with some predefined vocabulary and then remove those words that are not the real words"
   ]
  },
  {
   "cell_type": "code",
   "execution_count": 24,
   "metadata": {},
   "outputs": [
    {
     "data": {
      "text/plain": [
       "225"
      ]
     },
     "execution_count": 24,
     "metadata": {},
     "output_type": "execute_result"
    }
   ],
   "source": [
    "#getting max legth\n",
    "data['src_len'].max()"
   ]
  },
  {
   "cell_type": "code",
   "execution_count": 28,
   "metadata": {},
   "outputs": [],
   "source": [
    "import pprint"
   ]
  },
  {
   "cell_type": "code",
   "execution_count": 42,
   "metadata": {},
   "outputs": [
    {
     "name": "stdout",
     "output_type": "stream",
     "text": [
      "15977    clayton waagner - us prisoner, faces 15 years ...\n",
      "47042    (which introduced the concept of robots and th...\n",
      "Name: src_raw, dtype: object\n"
     ]
    }
   ],
   "source": [
    "print(data['src_raw'].loc[data['src_len'] > 200])"
   ]
  },
  {
   "cell_type": "markdown",
   "metadata": {},
   "source": [
    "These seem fine."
   ]
  },
  {
   "cell_type": "markdown",
   "metadata": {},
   "source": [
    "Now let us check the difference in the source and target, in terms of edits made. "
   ]
  },
  {
   "cell_type": "code",
   "execution_count": 43,
   "metadata": {},
   "outputs": [],
   "source": [
    "data['edit_diff'] = data['tgt_len'] - data['src_len']"
   ]
  },
  {
   "cell_type": "code",
   "execution_count": 56,
   "metadata": {},
   "outputs": [
    {
     "data": {
      "image/png": "[encoded data removed]",
      "text/plain": [
       "<Figure size 640x480 with 1 Axes>"
      ]
     },
     "metadata": {},
     "output_type": "display_data"
    }
   ],
   "source": [
    "sns.boxplot(data=data,x='edit_diff')\n",
    "plt.show()"
   ]
  },
  {
   "cell_type": "code",
   "execution_count": 59,
   "metadata": {},
   "outputs": [
    {
     "data": {
      "image/png": "[encoded data removed]",
      "text/plain": [
       "<Figure size 500x500 with 1 Axes>"
      ]
     },
     "metadata": {},
     "output_type": "display_data"
    }
   ],
   "source": [
    "sns.displot(data=data,x='edit_diff',  stat=\"probability\")\n",
    "plt.show()"
   ]
  },
  {
   "cell_type": "markdown",
   "metadata": {},
   "source": [
    "1. ~50% edits are removals. \n",
    "2. ~40% no change. Could either be no edit or single word replacement\n",
    "3. few changes of more than one words. But since dataset is for one word edits, this shouldn't be happening\n",
    "We ll check these scenarios one by one to understand our data better and make informed decision o the model to use and preprocessing to be done"
   ]
  },
  {
   "cell_type": "markdown",
   "metadata": {},
   "source": [
    "1. Removals"
   ]
  },
  {
   "cell_type": "code",
   "execution_count": 62,
   "metadata": {},
   "outputs": [],
   "source": [
    "data_removal = data.loc[data['edit_diff'] < 0]"
   ]
  },
  {
   "cell_type": "code",
   "execution_count": 63,
   "metadata": {},
   "outputs": [
    {
     "data": {
      "text/html": [
       "<div>\n",
       "<style scoped>\n",
       "    .dataframe tbody tr th:only-of-type {\n",
       "        vertical-align: middle;\n",
       "    }\n",
       "\n",
       "    .dataframe tbody tr th {\n",
       "        vertical-align: top;\n",
       "    }\n",
       "\n",
       "    .dataframe thead th {\n",
       "        text-align: right;\n",
       "    }\n",
       "</style>\n",
       "<table border=\"1\" class=\"dataframe\">\n",
       "  <thead>\n",
       "    <tr style=\"text-align: right;\">\n",
       "      <th></th>\n",
       "      <th>src_raw</th>\n",
       "      <th>tgt_raw</th>\n",
       "      <th>src_len</th>\n",
       "      <th>tgt_len</th>\n",
       "      <th>edit_diff</th>\n",
       "    </tr>\n",
       "  </thead>\n",
       "  <tbody>\n",
       "    <tr>\n",
       "      <th>0</th>\n",
       "      <td>chloroform \"the molecular lifesaver\" an articl...</td>\n",
       "      <td>chloroform \"the molecular lifesaver\" an articl...</td>\n",
       "      <td>14</td>\n",
       "      <td>13</td>\n",
       "      <td>-1</td>\n",
       "    </tr>\n",
       "    <tr>\n",
       "      <th>1</th>\n",
       "      <td>the free software gnu classpath project is onl...</td>\n",
       "      <td>the free software gnu classpath project is par...</td>\n",
       "      <td>17</td>\n",
       "      <td>16</td>\n",
       "      <td>-1</td>\n",
       "    </tr>\n",
       "    <tr>\n",
       "      <th>2</th>\n",
       "      <td>other campaigners, especially the controversia...</td>\n",
       "      <td>other campaigners, especially the british acti...</td>\n",
       "      <td>19</td>\n",
       "      <td>18</td>\n",
       "      <td>-1</td>\n",
       "    </tr>\n",
       "    <tr>\n",
       "      <th>3</th>\n",
       "      <td>vocalist rob halford's performance is consider...</td>\n",
       "      <td>vocalist rob halford's performance is consider...</td>\n",
       "      <td>26</td>\n",
       "      <td>25</td>\n",
       "      <td>-1</td>\n",
       "    </tr>\n",
       "    <tr>\n",
       "      <th>4</th>\n",
       "      <td>the proud general is a chinese animated featur...</td>\n",
       "      <td>the proud general is a chinese animated featur...</td>\n",
       "      <td>20</td>\n",
       "      <td>19</td>\n",
       "      <td>-1</td>\n",
       "    </tr>\n",
       "  </tbody>\n",
       "</table>\n",
       "</div>"
      ],
      "text/plain": [
       "                                             src_raw  \\\n",
       "0  chloroform \"the molecular lifesaver\" an articl...   \n",
       "1  the free software gnu classpath project is onl...   \n",
       "2  other campaigners, especially the controversia...   \n",
       "3  vocalist rob halford's performance is consider...   \n",
       "4  the proud general is a chinese animated featur...   \n",
       "\n",
       "                                             tgt_raw  src_len  tgt_len  \\\n",
       "0  chloroform \"the molecular lifesaver\" an articl...       14       13   \n",
       "1  the free software gnu classpath project is par...       17       16   \n",
       "2  other campaigners, especially the british acti...       19       18   \n",
       "3  vocalist rob halford's performance is consider...       26       25   \n",
       "4  the proud general is a chinese animated featur...       20       19   \n",
       "\n",
       "   edit_diff  \n",
       "0         -1  \n",
       "1         -1  \n",
       "2         -1  \n",
       "3         -1  \n",
       "4         -1  "
      ]
     },
     "execution_count": 63,
     "metadata": {},
     "output_type": "execute_result"
    }
   ],
   "source": [
    "data_removal.head()"
   ]
  },
  {
   "cell_type": "code",
   "execution_count": 86,
   "metadata": {},
   "outputs": [],
   "source": [
    "source_list = data_removal['src_raw'].to_list()\n",
    "target_list = data_removal['tgt_raw'].to_list()"
   ]
  },
  {
   "cell_type": "code",
   "execution_count": 87,
   "metadata": {},
   "outputs": [
    {
     "name": "stdout",
     "output_type": "stream",
     "text": [
      "source :  chloroform \"the molecular lifesaver\" an article at oxford university providing interesting facts about chloroform.\n",
      "target :  chloroform \"the molecular lifesaver\" an article at oxford university providing facts about chloroform.\n"
     ]
    }
   ],
   "source": [
    "#checking some random samples\n",
    "print(\"source : \", data_removal['src_raw'][0])\n",
    "print(\"target : \", data_removal['tgt_raw'][0])"
   ]
  },
  {
   "cell_type": "code",
   "execution_count": 88,
   "metadata": {},
   "outputs": [
    {
     "name": "stdout",
     "output_type": "stream",
     "text": [
      "source :  in early november 2014, a horrifying \"price list\" for yazidi and christian females surfaced online.\n",
      "target :  in early november 2014, a \"price list\" for yazidi and christian females surfaced online.\n"
     ]
    }
   ],
   "source": [
    "print(\"source : \", source_list[5])\n",
    "print(\"target : \", target_list[5])"
   ]
  },
  {
   "cell_type": "code",
   "execution_count": 104,
   "metadata": {},
   "outputs": [
    {
     "name": "stdout",
     "output_type": "stream",
     "text": [
      "source :  recent acceptances from universities such as cornell , columbia , william and mary , duke university , davidson college , georgetown , smith , and washington and lee reveal a chatham hall girl is intelligent, driven, and loyal.\n",
      "target :  recent acceptances from universities such as cornell, columbia, william and mary, duke, davidson college, georgetown, smith, and washington and lee reveal a chatham hall girl is intelligent, driven, and loyal.\n"
     ]
    }
   ],
   "source": [
    "#5 word edits\n",
    "print(\"source : \", data_removal['src_raw'].loc[data_removal['edit_diff'] <= -5].to_list()[0])\n",
    "print(\"target : \", data_removal['tgt_raw'].loc[data_removal['edit_diff'] <= -5].to_list()[0])"
   ]
  },
  {
   "cell_type": "code",
   "execution_count": 105,
   "metadata": {},
   "outputs": [
    {
     "name": "stdout",
     "output_type": "stream",
     "text": [
      "source :  during the conference \"the collapse of europe\" at pepperdine university, ayaan hirsi ali asked for \" economic reform , meaning, to reduce government , where government is unnecessary , and especially the welfare state.\"\n",
      "target :  during the conference \"the collapse of europe\" at pepperdine university, ayaan hirsi ali asked for \"reform, meaning, to reduce government, where government is unnecessary, and especially the welfare state.\"\n"
     ]
    }
   ],
   "source": [
    "#8 word edits\n",
    "print(\"source : \", data_removal['src_raw'].loc[data_removal['edit_diff'] <= -5].to_list()[1])\n",
    "print(\"target : \", data_removal['tgt_raw'].loc[data_removal['edit_diff'] <= -5].to_list()[1])"
   ]
  },
  {
   "cell_type": "markdown",
   "metadata": {},
   "source": [
    "not exactly edits, but rather trimming of white spaces in the data"
   ]
  },
  {
   "cell_type": "markdown",
   "metadata": {},
   "source": [
    "<b> we will need to clean the data for this discepency"
   ]
  },
  {
   "cell_type": "markdown",
   "metadata": {},
   "source": [
    "2. No changes"
   ]
  },
  {
   "cell_type": "code",
   "execution_count": 106,
   "metadata": {},
   "outputs": [],
   "source": [
    "data_zero_change = data.loc[data['edit_diff'] == 0]"
   ]
  },
  {
   "cell_type": "code",
   "execution_count": 107,
   "metadata": {},
   "outputs": [],
   "source": [
    "source_list = data_zero_change['src_raw'].to_list()\n",
    "target_list = data_zero_change['tgt_raw'].to_list()"
   ]
  },
  {
   "cell_type": "code",
   "execution_count": 109,
   "metadata": {},
   "outputs": [
    {
     "name": "stdout",
     "output_type": "stream",
     "text": [
      "source :  there are 75 immigrant settlers .\n",
      "target :  there are 75 immigrant residents .\n"
     ]
    }
   ],
   "source": [
    "#checking some random samples\n",
    "print(\"source : \", source_list[5])\n",
    "print(\"target : \", target_list[5])"
   ]
  },
  {
   "cell_type": "code",
   "execution_count": 110,
   "metadata": {},
   "outputs": [
    {
     "name": "stdout",
     "output_type": "stream",
     "text": [
      "source :  the british broadcasting corporation or bbc is the most widely respected broadcasting organisation in the world.\n",
      "target :  the british broadcasting corporation or bbc is the most widely regarded broadcasting organisation in the world.\n"
     ]
    }
   ],
   "source": [
    "print(\"source : \", source_list[10])\n",
    "print(\"target : \", target_list[10])"
   ]
  },
  {
   "cell_type": "code",
   "execution_count": 111,
   "metadata": {},
   "outputs": [
    {
     "name": "stdout",
     "output_type": "stream",
     "text": [
      "source :  yusuf salaam, one of the five convicted , said that they had falsely confessed out of coercion, after having been mistreated by police while in custody, deprived of food, drink or sleep for over 24 hours.\n",
      "target :  yusuf salaam, one of the five defendants , said that they had falsely confessed out of coercion, after having been mistreated by police while in custody, deprived of food, drink or sleep for over 24 hours.\n"
     ]
    }
   ],
   "source": [
    "print(\"source : \", source_list[15])\n",
    "print(\"target : \", target_list[15])"
   ]
  },
  {
   "cell_type": "markdown",
   "metadata": {},
   "source": [
    "These are great exqamples of neutralization with one word"
   ]
  },
  {
   "cell_type": "markdown",
   "metadata": {},
   "source": [
    "3. Addition"
   ]
  },
  {
   "cell_type": "code",
   "execution_count": 112,
   "metadata": {},
   "outputs": [],
   "source": [
    "data_additive_edits = data.loc[data['edit_diff'] > 0]"
   ]
  },
  {
   "cell_type": "code",
   "execution_count": 113,
   "metadata": {},
   "outputs": [],
   "source": [
    "source_list = data_additive_edits['src_raw'].to_list()\n",
    "target_list = data_additive_edits['tgt_raw'].to_list()"
   ]
  },
  {
   "cell_type": "code",
   "execution_count": 114,
   "metadata": {},
   "outputs": [
    {
     "name": "stdout",
     "output_type": "stream",
     "text": [
      "source :  the city of harran, in modern southern turkey (32 km/20 mi southeast of anlurfa, formerly edessa) near the border with syria, is probably the haran of the biblical accounts.\n",
      "target :  the city of harran, in modern southern turkey (32 km/20 mi southeast of anlurfa, formerly edessa) near the border with syria, is believed to be the haran of the biblical accounts.\n"
     ]
    }
   ],
   "source": [
    "#checking some random samples\n",
    "print(\"source : \", source_list[5])\n",
    "print(\"target : \", target_list[5])"
   ]
  },
  {
   "cell_type": "code",
   "execution_count": 115,
   "metadata": {},
   "outputs": [
    {
     "name": "stdout",
     "output_type": "stream",
     "text": [
      "source :  vio-lence was a thrash metal band formed in 1985, that released a few demo tapes, one ep and 3 lps between 1985 and 1993. their classic line-up was phil demmel and robb flynn on guitars, dean dell on bass, perry strickland on drums and sean killian on vocals.\n",
      "target :  vio-lence was a thrash metal band formed in 1985, that released a few demo tapes, one ep and 3 lps between 1985 and 1993. their most stable line-up was phil demmel and robb flynn on guitars, dean dell on bass, perry strickland on drums and sean killian on vocals.\n"
     ]
    }
   ],
   "source": [
    "#checking some random samples\n",
    "print(\"source : \", source_list[10])\n",
    "print(\"target : \", target_list[10])"
   ]
  },
  {
   "cell_type": "code",
   "execution_count": 116,
   "metadata": {},
   "outputs": [
    {
     "name": "stdout",
     "output_type": "stream",
     "text": [
      "source :  initially, those who declared they were 'unsure' whether or not humans had evolved were given one year to change their mind before facing dismissal; this was later relaxed and scientists were allowed to stay on as long as they did not endorse human evolution.\n",
      "target :  initially, those who declared they were 'unsure' whether or not humans had evolved were given one year to change their mind before facing dismissal; this was later relaxed and advocates of evolution were allowed to stay on as long as they did not endorse human evolution.\n"
     ]
    }
   ],
   "source": [
    "#checking some random samples\n",
    "print(\"source : \", source_list[50])\n",
    "print(\"target : \", target_list[50])"
   ]
  },
  {
   "cell_type": "code",
   "execution_count": 122,
   "metadata": {},
   "outputs": [],
   "source": [
    "#check more than 10 edits\n",
    "data_additive_edits_large = data.loc[data['edit_diff'] > 10].sort_values('edit_diff')"
   ]
  },
  {
   "cell_type": "code",
   "execution_count": 119,
   "metadata": {},
   "outputs": [],
   "source": [
    "source_list = data_additive_edits_large['src_raw'].to_list()\n",
    "target_list = data_additive_edits_large['tgt_raw'].to_list()"
   ]
  },
  {
   "cell_type": "code",
   "execution_count": 123,
   "metadata": {},
   "outputs": [
    {
     "name": "stdout",
     "output_type": "stream",
     "text": [
      "source :  the atmospheric concentrations of carbon dioxide and methane have increased by 31% and 149% respectively above pre-industrial levels since 1750. this is considerably higher than at any time during the last 650,000 years, the period for which reliable data has been extracted from ice cores.\n",
      "target :  although measurements were not taken during most of this time, it is believed that atmospheric concentrations of carbon dioxide and methane have increased by 31% and 149% respectively above pre-industrial levels since 1750. this is considerably higher than at any time during the last 650,000 years, the period for which reliable data has been extracted from ice cores.\n"
     ]
    }
   ],
   "source": [
    "#checking some random samples\n",
    "print(\"source : \", source_list[0])\n",
    "print(\"target : \", target_list[0])"
   ]
  },
  {
   "cell_type": "markdown",
   "metadata": {},
   "source": [
    "this is more nuanced style transfer, with change in voice and text structure. Such edits will require more complicated language model"
   ]
  },
  {
   "cell_type": "code",
   "execution_count": 125,
   "metadata": {},
   "outputs": [
    {
     "name": "stdout",
     "output_type": "stream",
     "text": [
      "source :  in the politics of the united states, dark money is a term for funds given to nonprofit organizations—primarily 501(c)(4) (social welfare) and 501(c)(6) (trade association) groups—that can receive unlimited donations from corporations, individuals, and unions, and spend funds to influence elections, but are not required to disclose their donors.\n",
      "target :  in the politics of the united states, dark money is a term used by advocates of open government and campaign finance reform to describe funds given to nonprofit organizations—primarily 501(c)(4) (social welfare) and 501(c)(6) (trade association) groups—that can receive unlimited donations from corporations, individuals, and unions, and spend funds to influence elections, but are not required to disclose their donors.\n"
     ]
    }
   ],
   "source": [
    "#checking some random samples\n",
    "print(\"source : \", source_list[11])\n",
    "print(\"target : \", target_list[11])"
   ]
  },
  {
   "cell_type": "markdown",
   "metadata": {},
   "source": [
    "extra info added with the contexual knowledge"
   ]
  },
  {
   "cell_type": "code",
   "execution_count": 127,
   "metadata": {},
   "outputs": [
    {
     "name": "stdout",
     "output_type": "stream",
     "text": [
      "source :  hitler made in a public speech in berlin on 4 september 1940, hitler announced that the 'night piracy of the british' shall be countered by a concentrated night offensive against the island, and especially london.\n",
      "target :  hitler `s patience was exhausted only after a succession of british raids on berlin, starting on the 25 august 1940. infuriated, in a public speech in berlin on 4 september 1940, hitler announced that the 'night piracy of the british ' shall be countered by a concentrated night offensive against the island, and especially london.\n"
     ]
    }
   ],
   "source": [
    "#checking some random samples\n",
    "print(\"source : \", source_list[28])\n",
    "print(\"target : \", target_list[28])"
   ]
  },
  {
   "cell_type": "markdown",
   "metadata": {},
   "source": [
    "<b>Complete/huge changes in the sentence. Should be removed from the dataset"
   ]
  },
  {
   "cell_type": "markdown",
   "metadata": {},
   "source": [
    "<h3> Let's identify the words most commonly removed, replaced or added"
   ]
  },
  {
   "cell_type": "code",
   "execution_count": 130,
   "metadata": {},
   "outputs": [
    {
     "data": {
      "text/plain": [
       "<pandas.core.strings.accessor.StringMethods object at 0x000001D05D7FF220>"
      ]
     },
     "execution_count": 130,
     "metadata": {},
     "output_type": "execute_result"
    }
   ],
   "source": [
    "data_removal.tgt_raw"
   ]
  },
  {
   "cell_type": "code",
   "execution_count": null,
   "metadata": {},
   "outputs": [],
   "source": []
  },
  {
   "cell_type": "code",
   "execution_count": null,
   "metadata": {},
   "outputs": [],
   "source": []
  }
 ],
 "metadata": {
  "kernelspec": {
   "display_name": "base",
   "language": "python",
   "name": "python3"
  },
  "language_info": {
   "codemirror_mode": {
    "name": "ipython",
    "version": 3
   },
   "file_extension": ".py",
   "mimetype": "text/x-python",
   "name": "python",
   "nbconvert_exporter": "python",
   "pygments_lexer": "ipython3",
   "version": "3.9.13"
  }
 },
 "nbformat": 4,
 "nbformat_minor": 2
}
