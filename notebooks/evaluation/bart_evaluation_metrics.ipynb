{
 "cells": [
  {
   "cell_type": "markdown",
   "id": "5659e63f",
   "metadata": {},
   "source": [
    "## Imports"
   ]
  },
  {
   "cell_type": "code",
   "execution_count": 1,
   "id": "9603f56d",
   "metadata": {},
   "outputs": [],
   "source": [
    "import pandas as pd\n",
    "import numpy as np\n",
    "\n",
    "import matplotlib.pyplot as plt \n",
    "import seaborn as sns\n",
    "\n",
    "from transformers_interpret import SequenceClassificationExplainer\n"
   ]
  },
  {
   "cell_type": "code",
   "execution_count": 2,
   "id": "b8a8800c",
   "metadata": {},
   "outputs": [],
   "source": [
    "# Modify Python path\n",
    "import sys\n",
    "sys.path.insert(0, '../../')\n",
    "\n",
    "# Import evaluation processing functions\n",
    "from utils.eval import (\n",
    "    evaluate_sti, \n",
    "    get_cps_score,\n",
    "\tcls_explainer\n",
    ")"
   ]
  },
  {
   "cell_type": "markdown",
   "id": "aa81cdd7-a9d0-44f2-8481-170f3b1cd42d",
   "metadata": {},
   "source": [
    "## Explaination of Evaluation Metrics\n",
    "The metrics we will use are:\n",
    "\n",
    "**1. Style Transfer Intensity (STI)**\n",
    "\n",
    "The STI metric is used to measure how much a\n",
    "style transfer model has changed the style of a text sample.\n",
    "\n",
    "**2. Content Preservation Score (CPS)**\n",
    "\n",
    "The CPS metric is used to measure how well a\n",
    "style transfer model preserves the original content of a text sample.\n"
   ]
  },
  {
   "cell_type": "code",
   "execution_count": 3,
   "id": "6661169f-a690-4487-9f6b-fe99324e665f",
   "metadata": {},
   "outputs": [],
   "source": [
    "# Load the CSV file\n",
    "file_path = '../../data/bart_evaluated.csv'\n",
    "df = pd.read_csv(file_path)\n",
    "\n",
    "# Ensure the column names match CSV file's column names\n",
    "source_label_0_col = 'source_label_0'\n",
    "source_label_1_col = 'source_label_1'\n",
    "target_label_0_col = 'target_label_0'\n",
    "target_label_1_col = 'target_label_1'\n",
    "predicted_label_0_col = 'predicted_label_0'  \n",
    "predicted_label_1_col = 'predicted_label_1'"
   ]
  },
  {
   "cell_type": "markdown",
   "id": "1e8d12ba",
   "metadata": {},
   "source": [
    "## Metric Calculation"
   ]
  },
  {
   "cell_type": "code",
   "execution_count": 4,
   "id": "10057a62",
   "metadata": {},
   "outputs": [],
   "source": [
    "#get STI\n",
    "STI = [evaluate_sti(source_proba= [row[source_label_0_col], row[source_label_1_col]],\n",
    "\t\t\t\t\tpred_proba=  [row[predicted_label_0_col], row[predicted_label_1_col]],\n",
    "\t\t\t\t\ttarget_proba= [row[target_label_0_col], row[target_label_1_col]])\n",
    "                    for index, row in df.iterrows()]"
   ]
  },
  {
   "cell_type": "code",
   "execution_count": 5,
   "id": "ff6adde7",
   "metadata": {},
   "outputs": [],
   "source": [
    "CPS = df.apply(lambda row: get_cps_score(row['source_text'],row['predictions']),axis=1)\n"
   ]
  },
  {
   "cell_type": "code",
   "execution_count": 27,
   "id": "804ae208-a99a-479c-b892-bfc312e6f441",
   "metadata": {},
   "outputs": [],
   "source": [
    "# Combine results in a new DataFrame\n",
    "evaluation_df = pd.DataFrame({\n",
    "    \"Source Text\": df['source_text'],\n",
    "    \"Target Text\": df['target_text'],\n",
    "    \"Predicted Text\": df['predictions'],\n",
    "    \"STI\" : STI,\n",
    "\t\"CPS\" : CPS\n",
    "})"
   ]
  },
  {
   "cell_type": "code",
   "execution_count": 28,
   "id": "db78b7c7-fa47-4261-9812-eff078bdce78",
   "metadata": {},
   "outputs": [
    {
     "data": {
      "text/html": [
       "<div>\n",
       "<style scoped>\n",
       "    .dataframe tbody tr th:only-of-type {\n",
       "        vertical-align: middle;\n",
       "    }\n",
       "\n",
       "    .dataframe tbody tr th {\n",
       "        vertical-align: top;\n",
       "    }\n",
       "\n",
       "    .dataframe thead th {\n",
       "        text-align: right;\n",
       "    }\n",
       "</style>\n",
       "<table border=\"1\" class=\"dataframe\">\n",
       "  <thead>\n",
       "    <tr style=\"text-align: right;\">\n",
       "      <th></th>\n",
       "      <th>Source Text</th>\n",
       "      <th>Target Text</th>\n",
       "      <th>Predicted Text</th>\n",
       "      <th>STI</th>\n",
       "      <th>CPS</th>\n",
       "    </tr>\n",
       "  </thead>\n",
       "  <tbody>\n",
       "    <tr>\n",
       "      <th>0</th>\n",
       "      <td>in april 2009 a brazilian human rights group, ...</td>\n",
       "      <td>in april 2009 a brazilian human rights group, ...</td>\n",
       "      <td>in april 2009 a brazilian human rights group, ...</td>\n",
       "      <td>0.241063</td>\n",
       "      <td>1.000000</td>\n",
       "    </tr>\n",
       "    <tr>\n",
       "      <th>1</th>\n",
       "      <td>the 51 day standoff and ensuing murder of 76 m...</td>\n",
       "      <td>the 51 day standoff and ensuing deaths of 76 m...</td>\n",
       "      <td>the 51 day standoff and ensuing murder of 76 m...</td>\n",
       "      <td>0.200629</td>\n",
       "      <td>1.000000</td>\n",
       "    </tr>\n",
       "    <tr>\n",
       "      <th>2</th>\n",
       "      <td>mark oaten (born 8 march 1964, watford) is a d...</td>\n",
       "      <td>mark oaten (born 8 march 1964, watford) is a l...</td>\n",
       "      <td>mark oaten (born 8 march 1964, watford) is a l...</td>\n",
       "      <td>0.367568</td>\n",
       "      <td>0.934390</td>\n",
       "    </tr>\n",
       "    <tr>\n",
       "      <th>3</th>\n",
       "      <td>another infamous period of colonisation in anc...</td>\n",
       "      <td>another period of colonisation in ancient time...</td>\n",
       "      <td>another period of colonisation in ancient time...</td>\n",
       "      <td>0.355609</td>\n",
       "      <td>0.851425</td>\n",
       "    </tr>\n",
       "    <tr>\n",
       "      <th>4</th>\n",
       "      <td>photo sequence of astonishing 2005 chicagoland...</td>\n",
       "      <td>photo sequence of 2005 chicagoland crash with ...</td>\n",
       "      <td>photo sequence of 2005 chicagoland crash with ...</td>\n",
       "      <td>0.331016</td>\n",
       "      <td>0.983531</td>\n",
       "    </tr>\n",
       "  </tbody>\n",
       "</table>\n",
       "</div>"
      ],
      "text/plain": [
       "                                         Source Text  \\\n",
       "0  in april 2009 a brazilian human rights group, ...   \n",
       "1  the 51 day standoff and ensuing murder of 76 m...   \n",
       "2  mark oaten (born 8 march 1964, watford) is a d...   \n",
       "3  another infamous period of colonisation in anc...   \n",
       "4  photo sequence of astonishing 2005 chicagoland...   \n",
       "\n",
       "                                         Target Text  \\\n",
       "0  in april 2009 a brazilian human rights group, ...   \n",
       "1  the 51 day standoff and ensuing deaths of 76 m...   \n",
       "2  mark oaten (born 8 march 1964, watford) is a l...   \n",
       "3  another period of colonisation in ancient time...   \n",
       "4  photo sequence of 2005 chicagoland crash with ...   \n",
       "\n",
       "                                      Predicted Text       STI       CPS  \n",
       "0  in april 2009 a brazilian human rights group, ...  0.241063  1.000000  \n",
       "1  the 51 day standoff and ensuing murder of 76 m...  0.200629  1.000000  \n",
       "2  mark oaten (born 8 march 1964, watford) is a l...  0.367568  0.934390  \n",
       "3  another period of colonisation in ancient time...  0.355609  0.851425  \n",
       "4  photo sequence of 2005 chicagoland crash with ...  0.331016  0.983531  "
      ]
     },
     "execution_count": 28,
     "metadata": {},
     "output_type": "execute_result"
    }
   ],
   "source": [
    "evaluation_df.head()"
   ]
  },
  {
   "cell_type": "markdown",
   "id": "410e73ac",
   "metadata": {},
   "source": [
    "## Evaluating STI :"
   ]
  },
  {
   "cell_type": "code",
   "execution_count": 29,
   "id": "89dadf7b",
   "metadata": {},
   "outputs": [
    {
     "data": {
      "image/png": "[encoded data removed]",
      "text/plain": [
       "<Figure size 640x480 with 1 Axes>"
      ]
     },
     "metadata": {},
     "output_type": "display_data"
    }
   ],
   "source": [
    "sns.histplot(evaluation_df,x='STI')\n",
    "plt.show()"
   ]
  },
  {
   "cell_type": "markdown",
   "id": "7b191e49",
   "metadata": {},
   "source": [
    "<i> Obs: 1. Most texts have STI of 0.32"
   ]
  },
  {
   "cell_type": "markdown",
   "id": "2564c81b",
   "metadata": {},
   "source": [
    "1. High Style Transfer Examples"
   ]
  },
  {
   "cell_type": "code",
   "execution_count": 30,
   "id": "be11e3a4",
   "metadata": {},
   "outputs": [],
   "source": [
    "#Let us check some examples with high STI\n",
    "max_sti_df = evaluation_df.sort_values(by='STI',ascending=False).head(n = 5) "
   ]
  },
  {
   "cell_type": "code",
   "execution_count": 31,
   "id": "4db9875d",
   "metadata": {},
   "outputs": [
    {
     "name": "stdout",
     "output_type": "stream",
     "text": [
      "source text : muzaffarabad is the capital of the pakistani territory of pakistan occupied kashmir.\n",
      "Target Text :  muzaffarabad is the capital of the pakistani territory of pakistan administered kashmir.\n",
      "Predicted Text :  muzaffarabad is the capital of the pakistani territory of pakistan administered kashmir.\n",
      "STI :  0.8210584105\n"
     ]
    }
   ],
   "source": [
    "print(\"source text :\" ,max_sti_df['Source Text'].iloc[0])\n",
    "print(\"Target Text : \", max_sti_df['Target Text'].iloc[0])\n",
    "print(\"Predicted Text : \", max_sti_df['Predicted Text'].iloc[0])\n",
    "print(\"STI : \", max_sti_df['STI'].iloc[0])"
   ]
  },
  {
   "cell_type": "markdown",
   "id": "03c49386",
   "metadata": {},
   "source": [
    "<i> Perfect Style Transfer"
   ]
  },
  {
   "cell_type": "code",
   "execution_count": 32,
   "id": "4d812315",
   "metadata": {},
   "outputs": [
    {
     "name": "stdout",
     "output_type": "stream",
     "text": [
      "source text : it also has a small concessions stand, run by the fantastic volunteer staff, which sells refreshments and earplugs.\n",
      "Target Text :  it also has a small concessions stand, run by the volunteer staff, which sells refreshments and earplugs.\n",
      "Predicted Text :  it also has a small concessions stand, run by the volunteer staff, which sells refreshments and earplugs.\n"
     ]
    }
   ],
   "source": [
    "print(\"source text :\" ,max_sti_df['Source Text'].iloc[1])\n",
    "print(\"Target Text : \", max_sti_df['Target Text'].iloc[1])\n",
    "print(\"Predicted Text : \", max_sti_df['Predicted Text'].iloc[1])\n"
   ]
  },
  {
   "cell_type": "code",
   "execution_count": 33,
   "id": "83c0d2a4",
   "metadata": {},
   "outputs": [
    {
     "name": "stdout",
     "output_type": "stream",
     "text": [
      "source text : he is best known for his metal wall sculptures and looney tunes shadow boxes.\n",
      "Target Text :  he is known for his metal wall sculptures and looney tunes shadow boxes.\n",
      "Predicted Text :  he is known for his metal wall sculptures and looney tunes shadow boxes.\n"
     ]
    }
   ],
   "source": [
    "print(\"source text :\" ,max_sti_df['Source Text'].iloc[3])\n",
    "print(\"Target Text : \", max_sti_df['Target Text'].iloc[3])\n",
    "print(\"Predicted Text : \", max_sti_df['Predicted Text'].iloc[3])"
   ]
  },
  {
   "cell_type": "markdown",
   "id": "61dde057",
   "metadata": {},
   "source": [
    "<b> High STI is when prediction text style matches perfecty with Target Text Style"
   ]
  },
  {
   "cell_type": "markdown",
   "id": "9e9a8ce9",
   "metadata": {},
   "source": [
    "2. Common Style Transfer examples. (STI = 0.32)"
   ]
  },
  {
   "cell_type": "code",
   "execution_count": 13,
   "id": "b58913ee",
   "metadata": {},
   "outputs": [],
   "source": [
    "common_sti_df = evaluation_df[(evaluation_df['STI']>=0.3) & (evaluation_df['STI'] < 0.33)]"
   ]
  },
  {
   "cell_type": "code",
   "execution_count": 14,
   "id": "f90cdb12",
   "metadata": {},
   "outputs": [],
   "source": [
    "#Let us check some examples\n",
    "common_sti_df = common_sti_df.sort_values(by='STI',ascending=False)"
   ]
  },
  {
   "cell_type": "code",
   "execution_count": 15,
   "id": "40b94a2b",
   "metadata": {},
   "outputs": [
    {
     "name": "stdout",
     "output_type": "stream",
     "text": [
      "source text : he also denied many aspects of the holocaust, claiming death figures were far lower , arguing that all sides were guilty of equally awful atrocities.\n",
      "Target Text :  he also contested many aspects of the holocaust, claiming death figures were far lower , arguing that all sides were guilty of equally awful atrocities.\n",
      "Predicted Text :  he also denied many aspects of the holocaust, claiming death figures were far lower , arguing that all sides were guilty of equally awful atrocities.\n"
     ]
    }
   ],
   "source": [
    "print(\"source text :\" ,common_sti_df['Source Text'].iloc[3])\n",
    "print(\"Target Text : \", common_sti_df['Target Text'].iloc[3])\n",
    "print(\"Predicted Text : \", common_sti_df['Predicted Text'].iloc[3])"
   ]
  },
  {
   "cell_type": "code",
   "execution_count": 16,
   "id": "18e6d6a3",
   "metadata": {},
   "outputs": [
    {
     "name": "stdout",
     "output_type": "stream",
     "text": [
      "source text : this, combined with continuing resentment that historically romanian lands remained part of the soviet union, in the guise of the moldavian ssr, inevitably led romania under gheorgiu-dej on a relatively independent and nationalist route.\n",
      "Target Text :  this, combined with continuing resentment that historically romanian lands remained part of the soviet union, in the form of the moldavian ssr, inevitably led romania under gheorgiu-dej on a relatively independent and nationalist route.\n",
      "Predicted Text :  this, combined with continuing resentment that historically romanian lands remained part of the soviet union, in the guise of the moldavian ssr, led romania under gheorgiu-dej on a relatively independent and nationalist route.\n",
      "STI : 0.32\n"
     ]
    }
   ],
   "source": [
    "print(\"source text :\" ,common_sti_df['Source Text'].iloc[10])\n",
    "print(\"Target Text : \", common_sti_df['Target Text'].iloc[10])\n",
    "print(\"Predicted Text : \", common_sti_df['Predicted Text'].iloc[10])\n",
    "print(\"STI : 0.32\")"
   ]
  },
  {
   "cell_type": "markdown",
   "id": "70b3b07b",
   "metadata": {},
   "source": [
    "3. Low Style Transfer Examples"
   ]
  },
  {
   "cell_type": "code",
   "execution_count": 17,
   "id": "bf7f41bc",
   "metadata": {},
   "outputs": [],
   "source": [
    "min_sti_df = evaluation_df[(evaluation_df['STI']>=0) & (evaluation_df['STI'] < 0.2)]"
   ]
  },
  {
   "cell_type": "code",
   "execution_count": 18,
   "id": "d5976ebd",
   "metadata": {},
   "outputs": [
    {
     "name": "stdout",
     "output_type": "stream",
     "text": [
      "source text : superior walls foundations are known for being strong, environmentally friendly , and quick to install .\n",
      "Target Text :  superior walls foundations are noted for being strong, environmentally friendly , and quick to install .\n",
      "Predicted Text :  superior walls foundations are known for being strong, environmentally friendly , and quick to install .\n"
     ]
    }
   ],
   "source": [
    "print(\"source text :\" ,min_sti_df['Source Text'].iloc[10])\n",
    "print(\"Target Text : \", min_sti_df['Target Text'].iloc[10])\n",
    "print(\"Predicted Text : \", min_sti_df['Predicted Text'].iloc[10])"
   ]
  },
  {
   "cell_type": "markdown",
   "id": "000143f7",
   "metadata": {},
   "source": [
    "<i>No change in prediction "
   ]
  },
  {
   "cell_type": "markdown",
   "id": "9caea8c9",
   "metadata": {},
   "source": [
    "## Evaluating CPS :"
   ]
  },
  {
   "cell_type": "code",
   "execution_count": 19,
   "id": "a3f0c41a",
   "metadata": {},
   "outputs": [
    {
     "data": {
      "text/plain": [
       "<seaborn.axisgrid.FacetGrid at 0x1b5ea7892e0>"
      ]
     },
     "execution_count": 19,
     "metadata": {},
     "output_type": "execute_result"
    },
    {
     "data": {
      "image/png": "[encoded data removed]",
      "text/plain": [
       "<Figure size 500x500 with 1 Axes>"
      ]
     },
     "metadata": {},
     "output_type": "display_data"
    }
   ],
   "source": [
    "sns.displot(evaluation_df['CPS'])"
   ]
  },
  {
   "cell_type": "markdown",
   "id": "0eadd85d",
   "metadata": {},
   "source": [
    "Observtions:\n",
    "1. Most texts have CPS of 1, meaning the content has been perfectly preserved!\n",
    "2. Some texts have very low CPS. We need to analyze them. "
   ]
  },
  {
   "cell_type": "markdown",
   "id": "957799db",
   "metadata": {},
   "source": [
    "## Creating buckets for STI and CPS"
   ]
  },
  {
   "cell_type": "markdown",
   "id": "63ec8e27",
   "metadata": {},
   "source": [
    "1.  STI_buckets :\n",
    "0.0 - 0.2 : bad\n",
    "0.2 - 0.5 : good\n",
    "greater than 0.5 : great"
   ]
  },
  {
   "cell_type": "code",
   "execution_count": 20,
   "id": "3df39994",
   "metadata": {},
   "outputs": [
    {
     "data": {
      "image/png": "[encoded data removed]",
      "text/plain": [
       "<Figure size 640x480 with 1 Axes>"
      ]
     },
     "metadata": {},
     "output_type": "display_data"
    }
   ],
   "source": [
    "sns.histplot(evaluation_df,x='STI')\n",
    "plt.show()"
   ]
  },
  {
   "cell_type": "code",
   "execution_count": 21,
   "id": "6b1d533d",
   "metadata": {},
   "outputs": [],
   "source": [
    "# Define the bins and labels for STI\n",
    "bins = [0 ,0.15, 0.3, 0.5, 0.8]\n",
    "labels = ['Bad', 'Decent','Good','Perfect']\n",
    "\n",
    "# Create the new 'sti categories' column\n",
    "evaluation_df['STI Categories'] = pd.cut(evaluation_df['STI'], bins=bins, labels=labels)"
   ]
  },
  {
   "cell_type": "code",
   "execution_count": 22,
   "id": "15d899b4",
   "metadata": {},
   "outputs": [
    {
     "data": {
      "text/plain": [
       "Bad        0.082377\n",
       "Perfect    0.107404\n",
       "Decent     0.228363\n",
       "Good       0.581856\n",
       "Name: STI Categories, dtype: float64"
      ]
     },
     "execution_count": 22,
     "metadata": {},
     "output_type": "execute_result"
    }
   ],
   "source": [
    "#proportion of entries in each STI Category\n",
    "sti_category_proportions = evaluation_df['STI Categories'].value_counts(normalize=True)\n",
    "sti_category_proportions.sort_values()"
   ]
  },
  {
   "cell_type": "markdown",
   "id": "263d41eb",
   "metadata": {},
   "source": [
    "2. CPI Buckets : "
   ]
  },
  {
   "cell_type": "code",
   "execution_count": 23,
   "id": "13f82088",
   "metadata": {},
   "outputs": [
    {
     "data": {
      "text/plain": [
       "<seaborn.axisgrid.FacetGrid at 0x1b58a725610>"
      ]
     },
     "execution_count": 23,
     "metadata": {},
     "output_type": "execute_result"
    },
    {
     "data": {
      "image/png": "[encoded data removed]",
      "text/plain": [
       "<Figure size 500x500 with 1 Axes>"
      ]
     },
     "metadata": {},
     "output_type": "display_data"
    }
   ],
   "source": [
    "sns.displot(evaluation_df['CPS'])"
   ]
  },
  {
   "cell_type": "code",
   "execution_count": 24,
   "id": "5f7b20e6",
   "metadata": {},
   "outputs": [
    {
     "data": {
      "text/plain": [
       "Bad        0.039460\n",
       "Decent     0.075805\n",
       "Perfect    0.402908\n",
       "Good       0.481828\n",
       "Name: CPS Categories, dtype: float64"
      ]
     },
     "execution_count": 24,
     "metadata": {},
     "output_type": "execute_result"
    }
   ],
   "source": [
    "# Define the bins and labels for STI\n",
    "bins = [0 ,0.9, 0.95, 0.999, 1]\n",
    "labels = ['Bad', 'Decent','Good','Perfect']\n",
    "# Create the new 'sti categories' column\n",
    "evaluation_df['CPS Categories'] = pd.cut(evaluation_df['CPS'], bins=bins, labels=labels)\n",
    "\n",
    "cps_category_proportions = evaluation_df['CPS Categories'].value_counts(normalize=True)\n",
    "cps_category_proportions.sort_values()"
   ]
  },
  {
   "cell_type": "code",
   "execution_count": 25,
   "id": "7e6c44a6",
   "metadata": {},
   "outputs": [],
   "source": [
    "eval_df_analysis = evaluation_df[(evaluation_df['STI'] > 0.65) & (evaluation_df['STI'] < 0.7)]"
   ]
  },
  {
   "cell_type": "code",
   "execution_count": 34,
   "id": "610b3885",
   "metadata": {},
   "outputs": [
    {
     "data": {
      "text/html": [
       "<div>\n",
       "<style scoped>\n",
       "    .dataframe tbody tr th:only-of-type {\n",
       "        vertical-align: middle;\n",
       "    }\n",
       "\n",
       "    .dataframe tbody tr th {\n",
       "        vertical-align: top;\n",
       "    }\n",
       "\n",
       "    .dataframe thead th {\n",
       "        text-align: right;\n",
       "    }\n",
       "</style>\n",
       "<table border=\"1\" class=\"dataframe\">\n",
       "  <thead>\n",
       "    <tr style=\"text-align: right;\">\n",
       "      <th></th>\n",
       "      <th>Source Text</th>\n",
       "      <th>Target Text</th>\n",
       "      <th>Predicted Text</th>\n",
       "      <th>STI</th>\n",
       "      <th>CPS</th>\n",
       "      <th>STI Categories</th>\n",
       "      <th>CPS Categories</th>\n",
       "    </tr>\n",
       "  </thead>\n",
       "  <tbody>\n",
       "    <tr>\n",
       "      <th>32</th>\n",
       "      <td>films included marvelous performances in kenne...</td>\n",
       "      <td>films included performances in kenneth branagh...</td>\n",
       "      <td>films included performances in kenneth branagh...</td>\n",
       "      <td>0.660655</td>\n",
       "      <td>0.967088</td>\n",
       "      <td>Perfect</td>\n",
       "      <td>Good</td>\n",
       "    </tr>\n",
       "    <tr>\n",
       "      <th>155</th>\n",
       "      <td>the second-biggest operation of the u.s. globa...</td>\n",
       "      <td>the second-biggest operation of the u.s. globa...</td>\n",
       "      <td>the second-biggest operation of the u.s. globa...</td>\n",
       "      <td>0.653501</td>\n",
       "      <td>0.997935</td>\n",
       "      <td>Perfect</td>\n",
       "      <td>Good</td>\n",
       "    </tr>\n",
       "    <tr>\n",
       "      <th>234</th>\n",
       "      <td>unfortunately , completing any construction pr...</td>\n",
       "      <td>however , completing any construction project ...</td>\n",
       "      <td>however , completing any construction project ...</td>\n",
       "      <td>0.675413</td>\n",
       "      <td>0.996402</td>\n",
       "      <td>Perfect</td>\n",
       "      <td>Good</td>\n",
       "    </tr>\n",
       "    <tr>\n",
       "      <th>235</th>\n",
       "      <td>#1219 \"i love carole cook\" - legendary actress...</td>\n",
       "      <td>#1219 \"i love carole cook\" - legendary actress...</td>\n",
       "      <td>#1219 \"i love carole cook\" - legendary actress...</td>\n",
       "      <td>0.685300</td>\n",
       "      <td>0.968760</td>\n",
       "      <td>Perfect</td>\n",
       "      <td>Good</td>\n",
       "    </tr>\n",
       "    <tr>\n",
       "      <th>288</th>\n",
       "      <td>the rest of the world was slow to adopt this r...</td>\n",
       "      <td>the rest of the world was slow to adopt this t...</td>\n",
       "      <td>the rest of the world was slow to adopt this t...</td>\n",
       "      <td>0.685726</td>\n",
       "      <td>0.991566</td>\n",
       "      <td>Perfect</td>\n",
       "      <td>Good</td>\n",
       "    </tr>\n",
       "  </tbody>\n",
       "</table>\n",
       "</div>"
      ],
      "text/plain": [
       "                                           Source Text  \\\n",
       "32   films included marvelous performances in kenne...   \n",
       "155  the second-biggest operation of the u.s. globa...   \n",
       "234  unfortunately , completing any construction pr...   \n",
       "235  #1219 \"i love carole cook\" - legendary actress...   \n",
       "288  the rest of the world was slow to adopt this r...   \n",
       "\n",
       "                                           Target Text  \\\n",
       "32   films included performances in kenneth branagh...   \n",
       "155  the second-biggest operation of the u.s. globa...   \n",
       "234  however , completing any construction project ...   \n",
       "235  #1219 \"i love carole cook\" - legendary actress...   \n",
       "288  the rest of the world was slow to adopt this t...   \n",
       "\n",
       "                                        Predicted Text       STI       CPS  \\\n",
       "32   films included performances in kenneth branagh...  0.660655  0.967088   \n",
       "155  the second-biggest operation of the u.s. globa...  0.653501  0.997935   \n",
       "234  however , completing any construction project ...  0.675413  0.996402   \n",
       "235  #1219 \"i love carole cook\" - legendary actress...  0.685300  0.968760   \n",
       "288  the rest of the world was slow to adopt this t...  0.685726  0.991566   \n",
       "\n",
       "    STI Categories CPS Categories  \n",
       "32         Perfect           Good  \n",
       "155        Perfect           Good  \n",
       "234        Perfect           Good  \n",
       "235        Perfect           Good  \n",
       "288        Perfect           Good  "
      ]
     },
     "execution_count": 34,
     "metadata": {},
     "output_type": "execute_result"
    }
   ],
   "source": [
    "eval_df_analysis.head()"
   ]
  },
  {
   "cell_type": "code",
   "execution_count": 35,
   "id": "ef7af751",
   "metadata": {},
   "outputs": [
    {
     "name": "stdout",
     "output_type": "stream",
     "text": [
      "Source Text : the band is a member of audioconfusion, a collective that hosts several notable arizona bands.\n",
      "Target Text : the band is a member of audioconfusion, a collective that hosts several arizona bands.\n",
      "Predicted Text : the band is a member of audioconfusion, a collective that hosts several arizona bands.\n",
      "STI : 0.6933752399999998\n",
      "CPS : 0.9901055693626404\n"
     ]
    }
   ],
   "source": [
    "print(\"Source Text :\",eval_df_analysis.loc[901,:][0])\n",
    "print(\"Target Text :\",eval_df_analysis.loc[901,:][1])\n",
    "print(\"Predicted Text :\",eval_df_analysis.loc[901,:][2])\n",
    "print(\"STI :\",eval_df_analysis.loc[901,:][3])\n",
    "print(\"CPS :\",eval_df_analysis.loc[901,:][4])"
   ]
  },
  {
   "cell_type": "code",
   "execution_count": 36,
   "id": "f3cc95bc",
   "metadata": {},
   "outputs": [
    {
     "name": "stdout",
     "output_type": "stream",
     "text": [
      "Source Text : muzaffarabad is the capital of the pakistani territory of pakistan occupied kashmir.\n",
      "Target Text : muzaffarabad is the capital of the pakistani territory of pakistan administered kashmir.\n",
      "Predicted Text : muzaffarabad is the capital of the pakistani territory of pakistan administered kashmir.\n",
      "STI : 0.8210584105\n",
      "CPS : 0.9958623647689819\n"
     ]
    }
   ],
   "source": [
    "print(\"Source Text :\",evaluation_df.loc[741,:][0])\n",
    "print(\"Target Text :\",evaluation_df.loc[741,:][1])\n",
    "print(\"Predicted Text :\",evaluation_df.loc[741,:][2])\n",
    "print(\"STI :\",evaluation_df.loc[741,:][3])\n",
    "print(\"CPS :\",evaluation_df.loc[741,:][4])"
   ]
  },
  {
   "cell_type": "code",
   "execution_count": null,
   "id": "e0ce434f",
   "metadata": {},
   "outputs": [
    {
     "data": {
      "text/html": [
       "<table width: 100%><div style=\"border-top: 1px solid; margin-top: 5px;             padding-top: 5px; display: inline-block\"><b>Legend: </b><span style=\"display: inline-block; width: 10px; height: 10px;                 border: 1px solid; background-color:                 hsl(0, 75%, 60%)\"></span> Negative  <span style=\"display: inline-block; width: 10px; height: 10px;                 border: 1px solid; background-color:                 hsl(0, 75%, 100%)\"></span> Neutral  <span style=\"display: inline-block; width: 10px; height: 10px;                 border: 1px solid; background-color:                 hsl(120, 75%, 50%)\"></span> Positive  </div><tr><th>True Label</th><th>Predicted Label</th><th>Attribution Label</th><th>Attribution Score</th><th>Word Importance</th><tr><td><text style=\"padding-right:2em\"><b>1</b></text></td><td><text style=\"padding-right:2em\"><b>LABEL_1 (0.99)</b></text></td><td><text style=\"padding-right:2em\"><b>LABEL_1</b></text></td><td><text style=\"padding-right:2em\"><b>1.36</b></text></td><td><mark style=\"background-color: hsl(0, 75%, 100%); opacity:1.0;                     line-height:1.75\"><font color=\"black\"> [CLS]                    </font></mark><mark style=\"background-color: hsl(120, 75%, 95%); opacity:1.0;                     line-height:1.75\"><font color=\"black\"> pakistani                    </font></mark><mark style=\"background-color: hsl(0, 75%, 100%); opacity:1.0;                     line-height:1.75\"><font color=\"black\"> territory                    </font></mark><mark style=\"background-color: hsl(0, 75%, 94%); opacity:1.0;                     line-height:1.75\"><font color=\"black\"> of                    </font></mark><mark style=\"background-color: hsl(120, 75%, 93%); opacity:1.0;                     line-height:1.75\"><font color=\"black\"> pakistan                    </font></mark><mark style=\"background-color: hsl(120, 75%, 54%); opacity:1.0;                     line-height:1.75\"><font color=\"black\"> occupied                    </font></mark><mark style=\"background-color: hsl(120, 75%, 95%); opacity:1.0;                     line-height:1.75\"><font color=\"black\"> kashmir                    </font></mark><mark style=\"background-color: hsl(120, 75%, 89%); opacity:1.0;                     line-height:1.75\"><font color=\"black\"> .                    </font></mark><mark style=\"background-color: hsl(0, 75%, 100%); opacity:1.0;                     line-height:1.75\"><font color=\"black\"> [SEP]                    </font></mark></td><tr></table>"
      ],
      "text/plain": [
       "<IPython.core.display.HTML object>"
      ]
     },
     "metadata": {},
     "output_type": "display_data"
    },
    {
     "data": {
      "text/html": [
       "<table width: 100%><div style=\"border-top: 1px solid; margin-top: 5px;             padding-top: 5px; display: inline-block\"><b>Legend: </b><span style=\"display: inline-block; width: 10px; height: 10px;                 border: 1px solid; background-color:                 hsl(0, 75%, 60%)\"></span> Negative  <span style=\"display: inline-block; width: 10px; height: 10px;                 border: 1px solid; background-color:                 hsl(0, 75%, 100%)\"></span> Neutral  <span style=\"display: inline-block; width: 10px; height: 10px;                 border: 1px solid; background-color:                 hsl(120, 75%, 50%)\"></span> Positive  </div><tr><th>True Label</th><th>Predicted Label</th><th>Attribution Label</th><th>Attribution Score</th><th>Word Importance</th><tr><td><text style=\"padding-right:2em\"><b>1</b></text></td><td><text style=\"padding-right:2em\"><b>LABEL_1 (0.99)</b></text></td><td><text style=\"padding-right:2em\"><b>LABEL_1</b></text></td><td><text style=\"padding-right:2em\"><b>1.36</b></text></td><td><mark style=\"background-color: hsl(0, 75%, 100%); opacity:1.0;                     line-height:1.75\"><font color=\"black\"> [CLS]                    </font></mark><mark style=\"background-color: hsl(120, 75%, 95%); opacity:1.0;                     line-height:1.75\"><font color=\"black\"> pakistani                    </font></mark><mark style=\"background-color: hsl(0, 75%, 100%); opacity:1.0;                     line-height:1.75\"><font color=\"black\"> territory                    </font></mark><mark style=\"background-color: hsl(0, 75%, 94%); opacity:1.0;                     line-height:1.75\"><font color=\"black\"> of                    </font></mark><mark style=\"background-color: hsl(120, 75%, 93%); opacity:1.0;                     line-height:1.75\"><font color=\"black\"> pakistan                    </font></mark><mark style=\"background-color: hsl(120, 75%, 54%); opacity:1.0;                     line-height:1.75\"><font color=\"black\"> occupied                    </font></mark><mark style=\"background-color: hsl(120, 75%, 95%); opacity:1.0;                     line-height:1.75\"><font color=\"black\"> kashmir                    </font></mark><mark style=\"background-color: hsl(120, 75%, 89%); opacity:1.0;                     line-height:1.75\"><font color=\"black\"> .                    </font></mark><mark style=\"background-color: hsl(0, 75%, 100%); opacity:1.0;                     line-height:1.75\"><font color=\"black\"> [SEP]                    </font></mark></td><tr></table>"
      ],
      "text/plain": [
       "<IPython.core.display.HTML object>"
      ]
     },
     "execution_count": 31,
     "metadata": {},
     "output_type": "execute_result"
    }
   ],
   "source": [
    "test = 'pakistani territory of pakistan occupied kashmir.'\n",
    "word_attrn = cls_explainer(test)\n",
    "cls_explainer.visualize()"
   ]
  },
  {
   "cell_type": "code",
   "execution_count": null,
   "id": "262e5d84",
   "metadata": {},
   "outputs": [],
   "source": []
  }
 ],
 "metadata": {
  "kernelspec": {
   "display_name": "Python 3 (ipykernel)",
   "language": "python",
   "name": "python3"
  },
  "language_info": {
   "codemirror_mode": {
    "name": "ipython",
    "version": 3
   },
   "file_extension": ".py",
   "mimetype": "text/x-python",
   "name": "python",
   "nbconvert_exporter": "python",
   "pygments_lexer": "ipython3",
   "version": "3.9.13"
  }
 },
 "nbformat": 4,
 "nbformat_minor": 5
}
