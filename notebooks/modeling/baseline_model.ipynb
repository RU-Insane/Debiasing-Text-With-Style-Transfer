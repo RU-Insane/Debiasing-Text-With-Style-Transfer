{
 "cells": [
  {
   "cell_type": "code",
   "execution_count": 112,
   "metadata": {},
   "outputs": [],
   "source": [
    "import torch\n",
    "import torch.nn as nn\n",
    "import torch.optim as optim\n",
    "import random\n",
    "\n",
    "from transformers import BertTokenizer\n",
    "from torch.utils.data import DataLoader\n",
    "from datasets import load_from_disk\n",
    "from tqdm import tqdm\n",
    "\n",
    "import os\n",
    "import matplotlib.pyplot as plt\n",
    "from torch.optim.lr_scheduler import ReduceLROnPlateau\n",
    "from torch.cuda.amp import GradScaler, autocast\n",
    "from collections import OrderedDict\n",
    "import pandas as pd"
   ]
  },
  {
   "cell_type": "markdown",
   "metadata": {},
   "source": [
    "### Data Preparation"
   ]
  },
  {
   "cell_type": "code",
   "execution_count": 113,
   "metadata": {},
   "outputs": [],
   "source": [
    "# Initialize the tokenizer\n",
    "tokenizer = BertTokenizer.from_pretrained('bert-base-uncased')"
   ]
  },
  {
   "cell_type": "code",
   "execution_count": 114,
   "metadata": {},
   "outputs": [],
   "source": [
    "folder_path = '../../../data/seq2seq'\n",
    "# Load the dataset from disk\n",
    "seq2seq_dataset = load_from_disk(folder_path)"
   ]
  },
  {
   "cell_type": "code",
   "execution_count": 143,
   "metadata": {},
   "outputs": [],
   "source": [
    "# train_dataset = seq2seq_dataset['train']\n",
    "test_dataset = seq2seq_dataset['test']\n",
    "# val_dataset = seq2seq_dataset['dev']"
   ]
  },
  {
   "cell_type": "code",
   "execution_count": 144,
   "metadata": {},
   "outputs": [],
   "source": [
    "def tokenize_data(x):\n",
    "    return {'source': tokenizer(x['source'], padding='max_length'),\n",
    "            'target': tokenizer(x['target'], padding='max_length')}"
   ]
  },
  {
   "cell_type": "code",
   "execution_count": 145,
   "metadata": {},
   "outputs": [],
   "source": [
    "# Tokenize the source and target sentences\n",
    "train_set = train_dataset.map(tokenize_data)\n",
    "test_set = test_dataset.map(tokenize_data)\n",
    "val_set = val_dataset.map(tokenize_data)\n",
    "\n",
    "# Convert the tokenized sentences into tensors and organize them into batches\n",
    "train_loader = DataLoader(train_set, batch_size=16)\n",
    "test_loader = DataLoader(test_set)\n",
    "val_loader = DataLoader(val_set, batch_size=16)"
   ]
  },
  {
   "cell_type": "markdown",
   "metadata": {},
   "source": [
    "### Implementing Baseline Model - (LSTM seq2seq)"
   ]
  },
  {
   "cell_type": "code",
   "execution_count": 119,
   "metadata": {},
   "outputs": [],
   "source": [
    "class Encoder(nn.Module):\n",
    "    def __init__(self, input_dim, emb_dim, hid_dim, n_layers, dropout):\n",
    "        super().__init__()\n",
    "        self.hid_dim = hid_dim\n",
    "        self.n_layers = n_layers\n",
    "        \n",
    "        self.embedding = nn.Embedding(input_dim, emb_dim)\n",
    "        self.lstm = nn.LSTM(emb_dim, hid_dim, n_layers, dropout=dropout)\n",
    "        self.dropout = nn.Dropout(dropout)\n",
    "        \n",
    "    def forward(self, src):\n",
    "        embedded = self.dropout(self.embedding(src))\n",
    "        \n",
    "        output, (hidden, cell) = self.lstm(embedded)\n",
    "        \n",
    "        return hidden, cell"
   ]
  },
  {
   "cell_type": "code",
   "execution_count": 120,
   "metadata": {},
   "outputs": [],
   "source": [
    "class Decoder(nn.Module):\n",
    "    def __init__(self, output_dim, emb_dim, hid_dim, n_layers, dropout):\n",
    "        super().__init__()\n",
    "\n",
    "        self.output_dim = output_dim\n",
    "        self.hid_dim = hid_dim\n",
    "        self.n_layers = n_layers\n",
    "        \n",
    "        self.embedding = nn.Embedding(output_dim, emb_dim)\n",
    "        self.lstm = nn.LSTM(emb_dim, hid_dim, n_layers, dropout=dropout)\n",
    "        self.out = nn.Linear(hid_dim, output_dim)\n",
    "        self.dropout = nn.Dropout(dropout)\n",
    "        \n",
    "    def forward(self, input, hidden, cell):\n",
    "        input = input.unsqueeze(0)\n",
    "        embedded = self.dropout(self.embedding(input))\n",
    "        output, (hidden, cell) = self.lstm(embedded, (hidden, cell))\n",
    "        prediction = self.out(output.squeeze(0))\n",
    "        return prediction, hidden, cell"
   ]
  },
  {
   "cell_type": "code",
   "execution_count": 121,
   "metadata": {},
   "outputs": [],
   "source": [
    "class Seq2Seq(nn.Module):\n",
    "    def __init__(self, encoder, decoder, device):\n",
    "        super().__init__()\n",
    "        self.encoder = encoder\n",
    "        self.decoder = decoder\n",
    "        self.device = device\n",
    "\n",
    "        assert encoder.hid_dim == decoder.hid_dim, \\\n",
    "            \"Hidden dimensions of encoder and decoder must be equal!\"\n",
    "        assert encoder.n_layers == decoder.n_layers, \\\n",
    "            \"Encoder and decoder must have equal number of layers!\"\n",
    "        \n",
    "    def forward(self, src, trg, teacher_forcing_ratio=0.5):\n",
    "        batch_size = trg.shape[1]\n",
    "        max_len = trg.shape[0]\n",
    "        trg_vocab_size = self.decoder.output_dim\n",
    "        \n",
    "        outputs = torch.zeros(max_len, batch_size, trg_vocab_size).to(self.device)\n",
    "        \n",
    "        hidden, cell = self.encoder(src)\n",
    "        \n",
    "        input = trg[0,:]\n",
    "        \n",
    "        for t in range(1, max_len):\n",
    "            output, hidden, cell = self.decoder(input, hidden, cell)\n",
    "            outputs[t] = output\n",
    "            teacher_force = random.random() < teacher_forcing_ratio\n",
    "            top1 = output.argmax(1)\n",
    "            input = trg[t] if teacher_force else top1\n",
    "        return outputs"
   ]
  },
  {
   "cell_type": "markdown",
   "metadata": {},
   "source": [
    "### Model Initialization"
   ]
  },
  {
   "cell_type": "code",
   "execution_count": 122,
   "metadata": {},
   "outputs": [],
   "source": [
    "# Define the dimensions\n",
    "input_dim = len(tokenizer.get_vocab())\n",
    "output_dim = len(tokenizer.get_vocab())\n",
    "emb_dim = 256\n",
    "hid_dim = 512\n",
    "n_layers = 4\n",
    "dropout = 0.5\n",
    "\n",
    "# Initialize the encoder and decoder\n",
    "enc = Encoder(input_dim, emb_dim, hid_dim, n_layers, dropout)\n",
    "dec = Decoder(output_dim, emb_dim, hid_dim, n_layers, dropout)\n",
    "\n",
    "device = torch.device('cuda' if torch.cuda.is_available() else 'cpu')\n",
    "\n",
    "# Initialize the seq2seq model\n",
    "model = Seq2Seq(enc, dec, device).to(device)"
   ]
  },
  {
   "cell_type": "markdown",
   "metadata": {},
   "source": [
    "### Define the Loss Function and Optimizer"
   ]
  },
  {
   "cell_type": "code",
   "execution_count": 12,
   "metadata": {},
   "outputs": [],
   "source": [
    "# Define the optimizer\n",
    "optimizer = optim.Adam(model.parameters())\n",
    "criterion = nn.CrossEntropyLoss(ignore_index=tokenizer.pad_token_id)"
   ]
  },
  {
   "cell_type": "markdown",
   "metadata": {},
   "source": [
    "### Train the Model"
   ]
  },
  {
   "cell_type": "code",
   "execution_count": 13,
   "metadata": {},
   "outputs": [],
   "source": [
    "GRAD_ACCUM_STEPS = 4  # gradient accumulation steps\n",
    "\n",
    "# Initialize the gradient scaler for mixed precision training\n",
    "scaler = GradScaler()\n",
    "\n",
    "def train(model, iterator, optimizer, criterion, clip):\n",
    "    model.train()\n",
    "    epoch_loss = 0\n",
    "    optimizer.zero_grad()  # reset gradients\n",
    "    progress_bar = tqdm(iterator, total=len(iterator))\n",
    "    for i, batch in enumerate(progress_bar):\n",
    "        src = torch.stack(batch['source']['input_ids']).to(device)\n",
    "        trg = torch.stack(batch['target']['input_ids']).to(device)\n",
    "        with autocast():  # mixed precision\n",
    "            output = model(src, trg)\n",
    "            output_dim = output.shape[-1]\n",
    "            output = output[1:].view(-1, output_dim)\n",
    "            trg = trg[1:].view(-1)\n",
    "            loss = criterion(output, trg)\n",
    "        \n",
    "        # gradient accumulation\n",
    "        scaler.scale(loss).backward()\n",
    "        if (i+1) % GRAD_ACCUM_STEPS == 0:\n",
    "            scaler.step(optimizer)\n",
    "            scaler.update()\n",
    "            optimizer.zero_grad()\n",
    "        \n",
    "        epoch_loss += loss.item()\n",
    "        progress_bar.set_description(f'Loss: {loss.item():.3f}')\n",
    "    return epoch_loss / len(iterator)"
   ]
  },
  {
   "cell_type": "markdown",
   "metadata": {},
   "source": [
    "### Evaluate the Model"
   ]
  },
  {
   "cell_type": "code",
   "execution_count": 14,
   "metadata": {},
   "outputs": [],
   "source": [
    "def evaluate(model, iterator, criterion):\n",
    "    model.eval()\n",
    "    epoch_loss = 0\n",
    "    with torch.no_grad():\n",
    "        for _, batch in enumerate(iterator):\n",
    "            src = torch.stack(batch['source']['input_ids']).to(device)\n",
    "            trg = torch.stack(batch['target']['input_ids']).to(device)\n",
    "            output = model(src, trg, 0)  # turn off teacher forcing\n",
    "            output_dim = output.shape[-1]\n",
    "            output = output[1:].view(-1, output_dim)\n",
    "            trg = trg[1:].view(-1)\n",
    "            loss = criterion(output, trg)\n",
    "            epoch_loss += loss.item()\n",
    "    return epoch_loss / len(iterator)"
   ]
  },
  {
   "cell_type": "markdown",
   "metadata": {},
   "source": [
    "### Running the Training and Evaluation loop"
   ]
  },
  {
   "cell_type": "code",
   "execution_count": 15,
   "metadata": {},
   "outputs": [
    {
     "name": "stdout",
     "output_type": "stream",
     "text": [
      "Let's use 4 GPUs!\n"
     ]
    },
    {
     "name": "stderr",
     "output_type": "stream",
     "text": [
      "Loss: 7.306: 100%|██████████| 3248/3248 [48:18<00:00,  1.12it/s]\n",
      "/common/home/st1122/.cache/pypoetry/virtualenvs/debiasing-text-with-style-transfer-XprOT1eT-py3.10/lib/python3.10/site-packages/torch/nn/modules/rnn.py:774: UserWarning: RNN module weights are not part of single contiguous chunk of memory. This means they need to be compacted at every call, possibly greatly increasing memory usage. To compact weights again call flatten_parameters(). (Triggered internally at ../aten/src/ATen/native/cudnn/RNN.cpp:968.)\n",
      "  result = _VF.lstm(input, hx, self._flat_weights, self.bias, self.num_layers,\n"
     ]
    },
    {
     "name": "stdout",
     "output_type": "stream",
     "text": [
      "Epoch: 01\n",
      "\tTrain Loss: 7.290\n",
      "\t Val. Loss: 7.212\n"
     ]
    },
    {
     "name": "stderr",
     "output_type": "stream",
     "text": [
      "Loss: 7.222: 100%|██████████| 3248/3248 [48:13<00:00,  1.12it/s]\n"
     ]
    },
    {
     "name": "stdout",
     "output_type": "stream",
     "text": [
      "Epoch: 02\n",
      "\tTrain Loss: 7.186\n",
      "\t Val. Loss: 7.181\n"
     ]
    },
    {
     "name": "stderr",
     "output_type": "stream",
     "text": [
      "Loss: 7.136: 100%|██████████| 3248/3248 [48:13<00:00,  1.12it/s]\n"
     ]
    },
    {
     "name": "stdout",
     "output_type": "stream",
     "text": [
      "Epoch: 03\n",
      "\tTrain Loss: 7.040\n",
      "\t Val. Loss: 7.079\n"
     ]
    },
    {
     "name": "stderr",
     "output_type": "stream",
     "text": [
      "Loss: 7.099: 100%|██████████| 3248/3248 [48:15<00:00,  1.12it/s]\n"
     ]
    },
    {
     "name": "stdout",
     "output_type": "stream",
     "text": [
      "Epoch: 04\n",
      "\tTrain Loss: 6.970\n",
      "\t Val. Loss: 7.086\n"
     ]
    },
    {
     "name": "stderr",
     "output_type": "stream",
     "text": [
      "Loss: 7.056: 100%|██████████| 3248/3248 [48:02<00:00,  1.13it/s]\n"
     ]
    },
    {
     "name": "stdout",
     "output_type": "stream",
     "text": [
      "Epoch: 05\n",
      "\tTrain Loss: 6.943\n",
      "\t Val. Loss: 7.086\n"
     ]
    },
    {
     "data": {
      "image/png": "[encoded data removed]",
      "text/plain": [
       "<Figure size 1000x500 with 1 Axes>"
      ]
     },
     "metadata": {},
     "output_type": "display_data"
    }
   ],
   "source": [
    "N_EPOCHS = 3\n",
    "CLIP = 1\n",
    "SAVE_DIR = '../../../models/baseline-lstm/'\n",
    "MODEL_SAVE_PATH = os.path.join(SAVE_DIR, 'baseline_model.pt')\n",
    "PATIENCE = 5  # for early stopping\n",
    "\n",
    "# Check if multiple GPUs are available and wrap model in DataParallel\n",
    "if torch.cuda.device_count() > 1:\n",
    "    print(\"Let's use\", torch.cuda.device_count(), \"GPUs!\")\n",
    "    model = nn.DataParallel(model)\n",
    "\n",
    "best_valid_loss = float('inf')\n",
    "no_improve_epoch = 0  # count epochs with no improvement\n",
    "\n",
    "# Lists to store per-epoch loss\n",
    "train_losses = []\n",
    "valid_losses = []\n",
    "\n",
    "# Define the scheduler\n",
    "scheduler = torch.optim.lr_scheduler.CosineAnnealingLR(optimizer, T_max=10)\n",
    "\n",
    "for epoch in range(N_EPOCHS):\n",
    "    train_loss = train(model, train_loader, optimizer, criterion, CLIP)\n",
    "    valid_loss = evaluate(model, val_loader, criterion)\n",
    "    \n",
    "    # Save the losses for this epoch\n",
    "    train_losses.append(train_loss)\n",
    "    valid_losses.append(valid_loss)\n",
    "    \n",
    "    # Update the learning rate\n",
    "    scheduler.step()\n",
    "    \n",
    "    if valid_loss < best_valid_loss:\n",
    "        best_valid_loss = valid_loss\n",
    "        torch.save(model.state_dict(), MODEL_SAVE_PATH)\n",
    "        no_improve_epoch = 0  # reset count\n",
    "    else:\n",
    "        no_improve_epoch += 1\n",
    "    \n",
    "    print(f'Epoch: {epoch+1:02}')\n",
    "    print(f'\\tTrain Loss: {train_loss:.3f}')\n",
    "    print(f'\\t Val. Loss: {valid_loss:.3f}')\n",
    "    \n",
    "    # Early stopping\n",
    "    if no_improve_epoch >= PATIENCE:\n",
    "        print(\"No improvement in validation loss for {} epochs, stopping\".format(PATIENCE))\n",
    "        break\n",
    "\n",
    "# After all epochs are done, plot the losses\n",
    "plt.figure(figsize=(10, 5))\n",
    "plt.plot(train_losses, label='Train Loss')\n",
    "plt.plot(valid_losses, label='Validation Loss')\n",
    "plt.xlabel('Epochs')\n",
    "plt.ylabel('Loss')\n",
    "plt.legend()\n",
    "\n",
    "# Save the plot\n",
    "plt.savefig(os.path.join('../../plots/baseline_training_loss.png'))\n",
    "plt.show()"
   ]
  },
  {
   "cell_type": "markdown",
   "metadata": {},
   "source": [
    "### Testing the model"
   ]
  },
  {
   "cell_type": "code",
   "execution_count": 123,
   "metadata": {},
   "outputs": [],
   "source": [
    "def display_output(original_texts, target_texts, generated_texts):\n",
    "    for i, (source, target, pred) in enumerate(zip(original_texts, target_texts, generated_texts)):\n",
    "        output = f\"\\nEXAMPLE {i+1}\\n{'-' * 100}\\n\"\n",
    "        output += f\"{'Source':<10}: {source}\\n\"\n",
    "        output += f\"{'Target':<10}: {target}\\n\"\n",
    "        output += f\"{'Predicted':<10}: {pred}\\n\"\n",
    "        \n",
    "        # Split the source and predicted text into words\n",
    "        source_words = set(source.split())\n",
    "        pred_words = set(pred.split())\n",
    "\n",
    "        # Compute the added and removed words\n",
    "        added = pred_words - source_words\n",
    "        removed = source_words - pred_words\n",
    "\n",
    "        # Check if there are any changes\n",
    "        if not added and not removed:\n",
    "            output += f\"{'CHANGE':<10}: {'No change'}\\n\"\n",
    "        else:\n",
    "            if added:\n",
    "                output += f\"{'ADDED':<10}: {', '.join(added)}\\n\"\n",
    "            if removed:\n",
    "                output += f\"{'REMOVED':<10}: {', '.join(removed)}\\n\"\n",
    "        output += f\"{'-' * 100}\"\n",
    "        print(output)"
   ]
  },
  {
   "cell_type": "code",
   "execution_count": 137,
   "metadata": {},
   "outputs": [],
   "source": [
    "def test(model, iterator, tokenizer):\n",
    "    model.eval()\n",
    "    original_texts = []\n",
    "    target_texts = []\n",
    "    generated_texts = []\n",
    "    with torch.no_grad():\n",
    "        for i, batch in enumerate(iterator):\n",
    "            src = torch.stack(batch['source']['input_ids']).to(device)\n",
    "            trg = torch.stack(batch['target']['input_ids']).to(device)\n",
    "            output = model(src, trg, 0) #turn off teacher forcing\n",
    "            output_dim = output.shape[-1]\n",
    "            \n",
    "            # Take the argmax over the last dimension to get the predicted token at each time step\n",
    "            top1 = output.argmax(-1)\n",
    "            \n",
    "            # Decode the source, target, and predicted sequences\n",
    "            original_text = tokenizer.decode(src.view(-1).cpu().numpy(), skip_special_tokens=True)\n",
    "            target_text = tokenizer.decode(trg.view(-1).cpu().numpy(), skip_special_tokens=True)\n",
    "            generated_text = tokenizer.decode(top1.view(-1).cpu().numpy(), skip_special_tokens=True)\n",
    "            \n",
    "            generated_texts.append(generated_text)\n",
    "            original_texts.append(original_text)\n",
    "            target_texts.append(target_text)\n",
    "    return original_texts, target_texts, generated_texts"
   ]
  },
  {
   "cell_type": "code",
   "execution_count": 141,
   "metadata": {},
   "outputs": [],
   "source": [
    "small_test_dataset = seq2seq_dataset['test'].select(range(10))\n",
    "small_test_set = small_test_dataset.map(tokenize_data)\n",
    "small_test_loader = DataLoader(small_test_set)"
   ]
  },
  {
   "cell_type": "code",
   "execution_count": null,
   "metadata": {},
   "outputs": [],
   "source": [
    "# Define the path to the saved model\n",
    "MODEL_SAVE_PATH = \"../../../models/baseline-lstm/baseline_model.pt\"\n",
    "\n",
    "# Load the state dict\n",
    "state_dict = torch.load(MODEL_SAVE_PATH, map_location=torch.device('cpu'))\n",
    "\n",
    "# Remove 'module.' prefix\n",
    "new_state_dict = OrderedDict()\n",
    "for k, v in state_dict.items():\n",
    "    name = k[7:]  # remove 'module.' prefix\n",
    "    new_state_dict[name] = v\n",
    "\n",
    "# Load the new state dict into the model\n",
    "model.load_state_dict(new_state_dict)\n",
    "\n",
    "model.eval()"
   ]
  },
  {
   "cell_type": "code",
   "execution_count": 142,
   "metadata": {},
   "outputs": [
    {
     "name": "stdout",
     "output_type": "stream",
     "text": [
      "\n",
      "EXAMPLE 1\n",
      "----------------------------------------------------------------------------------------------------\n",
      "Source    : in april 2009 a brazilian human rights group, torture never again, awarded the five its chico mendes medal, because their rights had been violated.\n",
      "Target    : in april 2009 a brazilian human rights group, torture never again, awarded the five its chico mendes medal, under the pretext that their rights had been violated.\n",
      "Predicted : the the is the, the the the the the,,,,,,,,,,,,, the...\n",
      "ADDED     : the,,,,,,,,,,,,,, the,, is, the...\n",
      "REMOVED   : awarded, never, had, april, mendes, in, five, torture, their, brazilian, violated., been, 2009, because, a, chico, its, group,, rights, medal,, again,, human\n",
      "----------------------------------------------------------------------------------------------------\n",
      "\n",
      "EXAMPLE 2\n",
      "----------------------------------------------------------------------------------------------------\n",
      "Source    : the 51 day standoff and ensuing murder of 76 men, women, and children - - the branch davidians - - in waco, texas.\n",
      "Target    : the 51 day standoff and ensuing deaths of 76 men, women, and children - - the branch davidians - - in waco, texas.\n",
      "Predicted : the the is the, the the the the the,,,,,,,,,,,,,,, the...\n",
      "ADDED     : is, the,, the,,,,,,,,,,,,,,,, the...\n",
      "REMOVED   : children, murder, ensuing, davidians, branch, of, day, 51, and, 76, women,, in, waco,, standoff, men,, -, texas.\n",
      "----------------------------------------------------------------------------------------------------\n",
      "\n",
      "EXAMPLE 3\n",
      "----------------------------------------------------------------------------------------------------\n",
      "Source    : mark oaten ( born 8 march 1964, watford ) is a disgraced liberal democrat politician in the united kingdom, and member of parliament for the winchester constituency.\n",
      "Target    : mark oaten ( born 8 march 1964, watford ) is a liberal democrat politician in the united kingdom, and member of parliament for the winchester constituency.\n",
      "Predicted : the the is the, the the the the the,,,,,,,,,,,,,,,,,, the...\n",
      "ADDED     : the,, the..., the,,,,,,,,,,,,,,,,,,\n",
      "REMOVED   : a, watford, kingdom,, democrat, and, in, united, 1964,, mark, member, politician, winchester, born, 8, for, constituency., (, march, of, ), liberal, disgraced, oaten, parliament\n",
      "----------------------------------------------------------------------------------------------------\n",
      "\n",
      "EXAMPLE 4\n",
      "----------------------------------------------------------------------------------------------------\n",
      "Source    : another infamous period of colonisation in ancient times was from the romans.\n",
      "Target    : another period of colonisation in ancient times was from the romans.\n",
      "Predicted : the the is the, the the the the the the..\n",
      "ADDED     : the.., the,, is\n",
      "REMOVED   : from, another, was, romans., infamous, of, ancient, period, colonisation, in, times\n",
      "----------------------------------------------------------------------------------------------------\n",
      "\n",
      "EXAMPLE 5\n",
      "----------------------------------------------------------------------------------------------------\n",
      "Source    : photo sequence of astonishing 2005 chicagoland crash with ryan briscoe.\n",
      "Target    : photo sequence of 2005 chicagoland crash with ryan briscoe.\n",
      "Predicted : the the is the, the the the the the the..\n",
      "ADDED     : the.., the,, is, the\n",
      "REMOVED   : astonishing, 2005, briscoe., of, sequence, chicagoland, with, photo, crash, ryan\n",
      "----------------------------------------------------------------------------------------------------\n",
      "\n",
      "EXAMPLE 6\n",
      "----------------------------------------------------------------------------------------------------\n",
      "Source    : jesus of nazareth is probably mentioned in two passages of the work the antiquities of the jews by the jewish historian josephus, written in the late first century ad.\n",
      "Target    : jesus of nazareth is possibly mentioned in two passages of the work the antiquities of the jews by the jewish historian josephus, written in the late first century ad.\n",
      "Predicted : the the is the, the the the the the,,,,,,,,,,,,,,,,, the...\n",
      "ADDED     : the,,,,,,,,,,,,,,,,,, the,, the...\n",
      "REMOVED   : jesus, written, two, jews, ad., in, mentioned, work, nazareth, josephus,, first, late, antiquities, probably, century, by, historian, of, passages, jewish\n",
      "----------------------------------------------------------------------------------------------------\n",
      "\n",
      "EXAMPLE 7\n",
      "----------------------------------------------------------------------------------------------------\n",
      "Source    : israeli attempts to reduce gazan civilian casualties\n",
      "Target    : israeli efforts to reduce gazan civilian casualties\n",
      "Predicted : the the is the the..\n",
      "ADDED     : the.., is, the\n",
      "REMOVED   : gazan, attempts, casualties, to, israeli, reduce, civilian\n",
      "----------------------------------------------------------------------------------------------------\n",
      "\n",
      "EXAMPLE 8\n",
      "----------------------------------------------------------------------------------------------------\n",
      "Source    : his 45 - year career exceeded that of any other studio head.\n",
      "Target    : his 45 - year career was longer than that of any other studio head.\n",
      "Predicted : the the is the, the the the the the..\n",
      "ADDED     : the.., the,, is, the\n",
      "REMOVED   : studio, any, other, head., his, exceeded, of, career, that, 45, year, -\n",
      "----------------------------------------------------------------------------------------------------\n",
      "\n",
      "EXAMPLE 9\n",
      "----------------------------------------------------------------------------------------------------\n",
      "Source    : they see the calling of such councils, for example, by a roman emperor lacking the divine authority as preposterous and assert that the emperors used the councils to exercise their influence to shape and institute christianity to their liking.\n",
      "Target    : they see the calling of such councils, for example, by a roman emperor lacking the divine authority as groundless and assert that the emperors used the councils to exercise their influence to shape and institute christianity to their liking.\n",
      "Predicted : the the is the, the the the the the,,,,,,,,,,,,,,,,,,,,,,,,,,,,, the the...\n",
      "ADDED     : the,, is, the,,,,,,,,,,,,,,,,,,,,,,,,,,,,,, the...\n",
      "REMOVED   : liking., exercise, as, emperor, they, see, their, authority, for, preposterous, institute, used, such, emperors, christianity, example,, councils,, a, and, shape, roman, that, by, calling, councils, influence, of, lacking, to, assert, divine\n",
      "----------------------------------------------------------------------------------------------------\n",
      "\n",
      "EXAMPLE 10\n",
      "----------------------------------------------------------------------------------------------------\n",
      "Source    : in the earliest models ( earlier than a macintosh ii ), all it did was crash silently, without playing any fancy music.\n",
      "Target    : in the earliest models ( earlier than a macintosh ii ), all it did was crash silently, without playing any music.\n",
      "Predicted : the the is the, the the the, the,,,,,,,,,, the...\n",
      "ADDED     : the,, is, the,,,,,,,,,,, the...\n",
      "REMOVED   : models, ),, fancy, all, in, than, without, silently,, any, (, playing, music., it, a, earliest, did, crash, macintosh, was, ii, earlier\n",
      "----------------------------------------------------------------------------------------------------\n"
     ]
    }
   ],
   "source": [
    "# Test the model\n",
    "original_texts, target_texts, generated_texts = test(model, small_test_loader, tokenizer)\n",
    "\n",
    "# Print the output\n",
    "display_output(original_texts, target_texts, generated_texts)"
   ]
  },
  {
   "cell_type": "code",
   "execution_count": 146,
   "metadata": {},
   "outputs": [],
   "source": [
    "# Test the model\n",
    "original_texts, target_texts, generated_texts = test(model, test_loader, tokenizer)"
   ]
  },
  {
   "cell_type": "code",
   "execution_count": 147,
   "metadata": {},
   "outputs": [],
   "source": [
    "# Create a DataFrame and save predictions to CSV\n",
    "df = pd.DataFrame({\n",
    "    'source': original_texts,\n",
    "    'target': target_texts,\n",
    "    'predicted': generated_texts\n",
    "})\n",
    "df.to_csv('../data/baseline_predictions.csv', index=False)"
   ]
  },
  {
   "cell_type": "code",
   "execution_count": null,
   "metadata": {},
   "outputs": [],
   "source": []
  }
 ],
 "metadata": {
  "kernelspec": {
   "display_name": "project-python3-kernel",
   "language": "python",
   "name": "project-python3-kernel"
  },
  "language_info": {
   "codemirror_mode": {
    "name": "ipython",
    "version": 3
   },
   "file_extension": ".py",
   "mimetype": "text/x-python",
   "name": "python",
   "nbconvert_exporter": "python",
   "pygments_lexer": "ipython3",
   "version": "3.10.12"
  }
 },
 "nbformat": 4,
 "nbformat_minor": 4
}
