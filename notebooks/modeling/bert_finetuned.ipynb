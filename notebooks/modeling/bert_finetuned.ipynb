{
 "cells": [
  {
   "cell_type": "markdown",
   "id": "022a2035-341c-40a2-89f6-f4d3142df4dd",
   "metadata": {},
   "source": [
    "# Fine Tuning BERT Model"
   ]
  },
  {
   "cell_type": "markdown",
   "id": "17393766-9c1f-4c80-aa23-70a20a0c6bdb",
   "metadata": {},
   "source": [
    "Fine-tuning a pre-trained BERT model for the purpose of evaluating our baseline and main model for text style transfer"
   ]
  },
  {
   "cell_type": "markdown",
   "id": "fa6cd9fc-809a-443b-ba08-7b888e4627aa",
   "metadata": {},
   "source": [
    "**Importing Libraries**"
   ]
  },
  {
   "cell_type": "code",
   "execution_count": 1,
   "id": "53d7987e-f293-470b-bfac-7c0d1d29906c",
   "metadata": {
    "tags": []
   },
   "outputs": [
    {
     "name": "stderr",
     "output_type": "stream",
     "text": [
      "/common/home/rsv39/.local/lib/python3.10/site-packages/tqdm/auto.py:21: TqdmWarning: IProgress not found. Please update jupyter and ipywidgets. See https://ipywidgets.readthedocs.io/en/stable/user_install.html\n",
      "  from .autonotebook import tqdm as notebook_tqdm\n"
     ]
    }
   ],
   "source": [
    "import pandas as pd\n",
    "import numpy as np\n",
    "from transformers import BertTokenizer, BertForSequenceClassification, AutoModelForQuestionAnswering, AutoTokenizer\n",
    "from torch.utils.data import DataLoader, Dataset\n",
    "import torch\n",
    "import warnings\n",
    "from datasets import DatasetDict, Dataset, load_from_disk\n",
    "\n",
    "warnings.filterwarnings('ignore')"
   ]
  },
  {
   "cell_type": "markdown",
   "id": "c1b11a78-3175-4859-992d-624ee5a34949",
   "metadata": {},
   "source": [
    "**Data Preparation** "
   ]
  },
  {
   "cell_type": "code",
   "execution_count": 2,
   "id": "8447cdd7-d482-4a87-8145-73fb25efb8f9",
   "metadata": {
    "tags": []
   },
   "outputs": [],
   "source": [
    "folder_path = '../../data/seq2seq'\n",
    "# Load the dataset from disk\n",
    "seq2seq_dataset = load_from_disk(folder_path)\n",
    "\n",
    "# Loading Datasets\n",
    "train_dataset = seq2seq_dataset['train']  \n",
    "eval_dataset = seq2seq_dataset['dev']  \n",
    "test_dataset = seq2seq_dataset['test']\n",
    "\n",
    "def create_bert_dataset(dataset):\n",
    "    texts = []\n",
    "    labels = []  # 1 for subjective, 0 for neutral\n",
    "\n",
    "    for item in dataset:\n",
    "        texts.append(item['source'])\n",
    "        labels.append(1)  # Assuming 'source' is subjective\n",
    "        texts.append(item['target'])\n",
    "        labels.append(0)  # Assuming 'target' is neutralized\n",
    "\n",
    "    return texts, labels\n",
    "\n",
    "train_texts, train_labels = create_bert_dataset(train_dataset)\n",
    "test_texts, test_labels = create_bert_dataset(test_dataset)"
   ]
  },
  {
   "cell_type": "markdown",
   "id": "2616cc9d-5d0d-41fc-b51d-9c7677e00dbd",
   "metadata": {},
   "source": [
    "**Tokenization**"
   ]
  },
  {
   "cell_type": "code",
   "execution_count": 3,
   "id": "268ad2f2-4c57-4446-88ff-4b3a12737945",
   "metadata": {},
   "outputs": [],
   "source": [
    "tokenizer = BertTokenizer.from_pretrained('bert-base-uncased')\n",
    "\n",
    "def tokenize_data(texts, labels, max_length=128):\n",
    "    input_ids = []\n",
    "    attention_masks = []\n",
    "\n",
    "    for text in texts:\n",
    "        encoded = tokenizer.encode_plus(\n",
    "            text,\n",
    "            add_special_tokens=True,\n",
    "            max_length=max_length,\n",
    "            truncation=True,\n",
    "            padding='max_length',\n",
    "            return_attention_mask=True,\n",
    "            return_tensors='pt',\n",
    "        )\n",
    "        input_ids.append(encoded['input_ids'])\n",
    "        attention_masks.append(encoded['attention_mask'])\n",
    "\n",
    "    input_ids = torch.cat(input_ids, dim=0)\n",
    "    attention_masks = torch.cat(attention_masks, dim=0)\n",
    "    labels = torch.tensor(labels)\n",
    "\n",
    "    return input_ids, attention_masks, labels\n",
    "\n",
    "train_inputs, train_masks, train_labels = tokenize_data(train_texts, train_labels)\n",
    "test_inputs, test_masks, test_labels = tokenize_data(test_texts, test_labels)\n"
   ]
  },
  {
   "cell_type": "markdown",
   "id": "52682380-5488-4729-a8f1-7adf3ec04d53",
   "metadata": {},
   "source": [
    "**Data Loader Setup**"
   ]
  },
  {
   "cell_type": "code",
   "execution_count": 4,
   "id": "18cf2f8a-6ad4-44d0-8f57-7265f26b66df",
   "metadata": {},
   "outputs": [],
   "source": [
    "from torch.utils.data import TensorDataset, DataLoader, RandomSampler, SequentialSampler\n",
    "\n",
    "# Convert the lists into TensorDatasets\n",
    "train_dataset = TensorDataset(train_inputs, train_masks, train_labels)\n",
    "test_dataset = TensorDataset(test_inputs, test_masks, test_labels)\n",
    "\n",
    "# Create DataLoaders\n",
    "batch_size = 32\n",
    "\n",
    "train_dataloader = DataLoader(\n",
    "    train_dataset,\n",
    "    sampler=RandomSampler(train_dataset),\n",
    "    batch_size=batch_size\n",
    ")\n",
    "\n",
    "test_dataloader = DataLoader(\n",
    "    test_dataset,\n",
    "    sampler=SequentialSampler(test_dataset),\n",
    "    batch_size=batch_size\n",
    ")\n"
   ]
  },
  {
   "cell_type": "markdown",
   "id": "a747a07b-ca8b-4478-a468-f6e85c224d62",
   "metadata": {},
   "source": [
    "**Model Initialisation and Training**"
   ]
  },
  {
   "cell_type": "code",
   "execution_count": 5,
   "id": "b3545ce9-1c69-42fa-ad6d-ff516e1d84e3",
   "metadata": {},
   "outputs": [
    {
     "name": "stderr",
     "output_type": "stream",
     "text": [
      "Some weights of BertForSequenceClassification were not initialized from the model checkpoint at bert-base-uncased and are newly initialized: ['classifier.weight', 'classifier.bias']\n",
      "You should probably TRAIN this model on a down-stream task to be able to use it for predictions and inference.\n"
     ]
    },
    {
     "data": {
      "text/plain": [
       "BertForSequenceClassification(\n",
       "  (bert): BertModel(\n",
       "    (embeddings): BertEmbeddings(\n",
       "      (word_embeddings): Embedding(30522, 768, padding_idx=0)\n",
       "      (position_embeddings): Embedding(512, 768)\n",
       "      (token_type_embeddings): Embedding(2, 768)\n",
       "      (LayerNorm): LayerNorm((768,), eps=1e-12, elementwise_affine=True)\n",
       "      (dropout): Dropout(p=0.1, inplace=False)\n",
       "    )\n",
       "    (encoder): BertEncoder(\n",
       "      (layer): ModuleList(\n",
       "        (0-11): 12 x BertLayer(\n",
       "          (attention): BertAttention(\n",
       "            (self): BertSelfAttention(\n",
       "              (query): Linear(in_features=768, out_features=768, bias=True)\n",
       "              (key): Linear(in_features=768, out_features=768, bias=True)\n",
       "              (value): Linear(in_features=768, out_features=768, bias=True)\n",
       "              (dropout): Dropout(p=0.1, inplace=False)\n",
       "            )\n",
       "            (output): BertSelfOutput(\n",
       "              (dense): Linear(in_features=768, out_features=768, bias=True)\n",
       "              (LayerNorm): LayerNorm((768,), eps=1e-12, elementwise_affine=True)\n",
       "              (dropout): Dropout(p=0.1, inplace=False)\n",
       "            )\n",
       "          )\n",
       "          (intermediate): BertIntermediate(\n",
       "            (dense): Linear(in_features=768, out_features=3072, bias=True)\n",
       "            (intermediate_act_fn): GELUActivation()\n",
       "          )\n",
       "          (output): BertOutput(\n",
       "            (dense): Linear(in_features=3072, out_features=768, bias=True)\n",
       "            (LayerNorm): LayerNorm((768,), eps=1e-12, elementwise_affine=True)\n",
       "            (dropout): Dropout(p=0.1, inplace=False)\n",
       "          )\n",
       "        )\n",
       "      )\n",
       "    )\n",
       "    (pooler): BertPooler(\n",
       "      (dense): Linear(in_features=768, out_features=768, bias=True)\n",
       "      (activation): Tanh()\n",
       "    )\n",
       "  )\n",
       "  (dropout): Dropout(p=0.1, inplace=False)\n",
       "  (classifier): Linear(in_features=768, out_features=2, bias=True)\n",
       ")"
      ]
     },
     "execution_count": 5,
     "metadata": {},
     "output_type": "execute_result"
    }
   ],
   "source": [
    "model = BertForSequenceClassification.from_pretrained(\n",
    "    'bert-base-uncased',\n",
    "    num_labels=2,  # Binary classification: subjective vs neutral\n",
    "    output_attentions=False,\n",
    "    output_hidden_states=False,\n",
    ")\n",
    "\n",
    "device = torch.device('cuda' if torch.cuda.is_available() else 'cpu')\n",
    "\n",
    "# Then move the model to the device\n",
    "model.to(device)\n",
    "\n"
   ]
  },
  {
   "cell_type": "code",
   "execution_count": 6,
   "id": "c37f3f32-28e2-48d5-abd0-454558b0cd36",
   "metadata": {},
   "outputs": [],
   "source": [
    "from transformers import AdamW, get_linear_schedule_with_warmup\n",
    "\n",
    "optimizer = AdamW(model.parameters(), lr=2e-5, eps=1e-8)\n",
    "epochs = 4  \n",
    "\n",
    "# Total number of training steps\n",
    "total_steps = len(train_dataloader) * epochs  \n",
    "\n",
    "# Create the learning rate scheduler\n",
    "scheduler = get_linear_schedule_with_warmup(\n",
    "    optimizer, \n",
    "    num_warmup_steps=0,\n",
    "    num_training_steps=total_steps\n",
    ")\n"
   ]
  },
  {
   "cell_type": "code",
   "execution_count": 7,
   "id": "32e2d63a-43f3-4c09-baa6-498e8c9adc65",
   "metadata": {},
   "outputs": [
    {
     "name": "stdout",
     "output_type": "stream",
     "text": [
      "Epoch 1, Average Training Loss: 0.5438333685771365\n",
      "Epoch 2, Average Training Loss: 0.46264882680267244\n",
      "Epoch 3, Average Training Loss: 0.40182393875083167\n",
      "Epoch 4, Average Training Loss: 0.34943177647833606\n"
     ]
    }
   ],
   "source": [
    "for epoch in range(epochs):\n",
    "    model.train()\n",
    "    total_train_loss = 0\n",
    "\n",
    "    for step, batch in enumerate(train_dataloader):\n",
    "        # Move batch to the device\n",
    "        b_input_ids = batch[0].to(device)\n",
    "        b_input_mask = batch[1].to(device)\n",
    "        b_labels = batch[2].to(device)\n",
    "\n",
    "        model.zero_grad()\n",
    "\n",
    "        outputs = model(b_input_ids, token_type_ids=None, attention_mask=b_input_mask, labels=b_labels)\n",
    "\n",
    "        loss = outputs.loss\n",
    "        total_train_loss += loss.item()\n",
    "\n",
    "        loss.backward()\n",
    "        torch.nn.utils.clip_grad_norm_(model.parameters(), 1.0)\n",
    "\n",
    "        optimizer.step()\n",
    "        scheduler.step()\n",
    "\n",
    "    avg_train_loss = total_train_loss / len(train_dataloader)\n",
    "    print(f'Epoch {epoch + 1}, Average Training Loss: {avg_train_loss}')\n"
   ]
  },
  {
   "cell_type": "markdown",
   "id": "4f95c838-8760-4248-b49c-c6ce1f42845f",
   "metadata": {},
   "source": [
    "As during fine-tuning, the loss was not plotted, it was hardcoded to generate a plot to visualize the Average training loss printed 2 cells above"
   ]
  },
  {
   "cell_type": "code",
   "execution_count": 1,
   "id": "2f436e14-70d8-4c17-ad17-5bd52ad4c6ed",
   "metadata": {},
   "outputs": [
    {
     "data": {
      "image/png": "[encoded data removed]",
      "text/plain": [
       "<Figure size 576x360 with 1 Axes>"
      ]
     },
     "metadata": {
      "needs_background": "light"
     },
     "output_type": "display_data"
    }
   ],
   "source": [
    "import matplotlib.pyplot as plt\n",
    "\n",
    "# Epochs and their corresponding average training loss values\n",
    "epochs = [1, 2, 3, 4]\n",
    "avg_training_loss = [0.5438333685771365, 0.46264882680267244, 0.40182393875083167, 0.34943177647833606]\n",
    "\n",
    "# Creating the plot\n",
    "plt.figure(figsize=(8, 5))\n",
    "plt.plot(epochs, avg_training_loss, marker='o', linestyle='-', color='blue')\n",
    "plt.title('BERT Model Training Loss Over Epochs')\n",
    "plt.xlabel('Epochs')\n",
    "plt.ylabel('Average Training Loss')\n",
    "plt.grid(True)\n",
    "plt.show()\n"
   ]
  },
  {
   "cell_type": "code",
   "execution_count": 8,
   "id": "02b9854a-02e3-422c-bc9c-d211e17c41cf",
   "metadata": {},
   "outputs": [
    {
     "data": {
      "text/plain": [
       "('seq2seq/bert_model/tokenizer_config.json',\n",
       " 'seq2seq/bert_model/special_tokens_map.json',\n",
       " 'seq2seq/bert_model/vocab.txt',\n",
       " 'seq2seq/bert_model/added_tokens.json')"
      ]
     },
     "execution_count": 8,
     "metadata": {},
     "output_type": "execute_result"
    }
   ],
   "source": [
    "# Define a path where you want to save the model\n",
    "model_path = \"../../data/bert_finetuned/\"\n",
    "\n",
    "# Save the model\n",
    "model.save_pretrained(model_path)\n",
    "\n",
    "# Save the tokenizer associated with the model\n",
    "tokenizer.save_pretrained(model_path)\n"
   ]
  }
 ],
 "metadata": {
  "kernelspec": {
   "display_name": "Python 3 (ipykernel)",
   "language": "python",
   "name": "python3"
  },
  "language_info": {
   "codemirror_mode": {
    "name": "ipython",
    "version": 3
   },
   "file_extension": ".py",
   "mimetype": "text/x-python",
   "name": "python",
   "nbconvert_exporter": "python",
   "pygments_lexer": "ipython3",
   "version": "3.9.12"
  }
 },
 "nbformat": 4,
 "nbformat_minor": 5
}
